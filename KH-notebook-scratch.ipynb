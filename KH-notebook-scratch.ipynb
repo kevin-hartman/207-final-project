{
 "cells": [
  {
   "cell_type": "code",
   "execution_count": 2,
   "metadata": {
    "colab": {},
    "colab_type": "code",
    "id": "n1GAZs2MmUBm"
   },
   "outputs": [],
   "source": [
    "#run\n",
    "\n",
    "%matplotlib inline\n",
    "\n",
    "# Import a bunch of libraries.\n",
    "import time\n",
    "import numpy as np\n",
    "import pandas as pd\n",
    " \n",
    "import matplotlib.pyplot as plt\n",
    "from matplotlib.ticker import MultipleLocator\n",
    "from sklearn.pipeline import Pipeline\n",
    "from sklearn.datasets import fetch_openml\n",
    "from sklearn.neighbors import KNeighborsClassifier\n",
    "from sklearn.metrics import confusion_matrix, zero_one_loss\n",
    "from sklearn.linear_model import LinearRegression\n",
    "from sklearn.naive_bayes import BernoulliNB\n",
    "from sklearn.naive_bayes import MultinomialNB\n",
    "from sklearn.naive_bayes import GaussianNB\n",
    "from sklearn.model_selection import GridSearchCV\n",
    "from sklearn.metrics import classification_report\n",
    "\n",
    "from sklearn.tree import DecisionTreeClassifier\n",
    "\n",
    "# some PCA and GMM stuff\n",
    "from sklearn import metrics\n",
    "from sklearn.decomposition import PCA\n",
    "from sklearn.cluster import KMeans\n",
    "from sklearn.mixture import GaussianMixture\n",
    "from matplotlib.colors import LogNorm\n",
    "\n",
    "import sklearn.ensemble as ske\n",
    "from sklearn.feature_selection import SelectFromModel\n",
    "\n",
    "import seaborn as sns\n",
    "sns.set()"
   ]
  },
  {
   "cell_type": "markdown",
   "metadata": {},
   "source": [
    "# Very basic wrangling (no real cleaning)"
   ]
  },
  {
   "cell_type": "code",
   "execution_count": 5,
   "metadata": {},
   "outputs": [],
   "source": [
    "#run\n",
    "\n",
    "def load_data(filename):\n",
    "    dtypes = {\n",
    "        'ProductName':                                          'int64',\n",
    "        'EngineVersion':                                        'int64',\n",
    "        'AppVersion':                                           'int64',\n",
    "        'AvSigVersion':                                         'int64',\n",
    "        'RtpStateBitfield':                                     'int64',\n",
    "        'Platform':                                             'int64',\n",
    "        'Processor':                                            'int64',\n",
    "        'OsVer':                                                'int64',\n",
    "        'OsPlatformSubRelease':                                 'int64',\n",
    "        'OsBuildLab':                                           'int64',\n",
    "        'SkuEdition':                                           'int64',\n",
    "        'PuaMode':                                              'int64',\n",
    "        'SmartScreen':                                          'int64',\n",
    "        'Census_MDC2FormFactor':                                'int64',\n",
    "        'Census_DeviceFamily':                                  'int64',\n",
    "        'Census_ProcessorClass':                                'int64',\n",
    "        'Census_PrimaryDiskTypeName':                           'int64',\n",
    "        'Census_ChassisTypeName':                               'int64',\n",
    "        'Census_PowerPlatformRoleName':                         'int64',\n",
    "        'Census_InternalBatteryType':                           'int64',\n",
    "        'Census_OSVersion':                                     'int64',\n",
    "        'Census_OSArchitecture':                                'int64',\n",
    "        'Census_OSBranch':                                      'int64',\n",
    "        'Census_OSEdition':                                     'int64',\n",
    "        'Census_OSSkuName':                                     'int64',\n",
    "        'Census_OSInstallTypeName':                             'int64',\n",
    "        'Census_OSWUAutoUpdateOptionsName':                     'int64',\n",
    "        'Census_GenuineStateName':                              'int64',\n",
    "        'Census_ActivationChannel':                             'int64',\n",
    "        'Census_FlightRing':                                    'int64',\n",
    "        'RtpStateBitfield_wasna':                               'int64',\n",
    "        'DefaultBrowsersIdentifier_wasna':                      'int64',\n",
    "        'AVProductStatesIdentifier_wasna':                      'int64',\n",
    "        'AVProductsInstalled_wasna':                            'int64',\n",
    "        'AVProductsEnabled_wasna':                              'int64',\n",
    "        'CityIdentifier_wasna':                                 'int64',\n",
    "        'OrganizationIdentifier_wasna':                         'int64',\n",
    "        'GeoNameIdentifier_wasna':                              'int64',\n",
    "        'IsProtected_wasna':                                    'int64',\n",
    "        'SMode_wasna':                                          'int64',\n",
    "        'IeVerIdentifier_wasna':                                'int64',\n",
    "        'Firewall_wasna':                                       'int64',\n",
    "        'UacLuaenable_wasna':                                   'int64',\n",
    "        'Census_OEMNameIdentifier_wasna':                       'int64',\n",
    "        'Census_OEMModelIdentifier_wasna':                      'int64',\n",
    "        'Census_ProcessorCoreCount_wasna':                      'int64',\n",
    "        'Census_ProcessorManufacturerIdentifier_wasna':         'int64',\n",
    "        'Census_ProcessorModelIdentifier_wasna':                'int64',\n",
    "        'Census_PrimaryDiskTotalCapacity_wasna':                'int64',\n",
    "        'Census_SystemVolumeTotalCapacity_wasna':               'int64',\n",
    "        'Census_TotalPhysicalRAM_wasna':                        'int64',\n",
    "        'Census_InternalPrimaryDiagonalDisplaySizeInInches_wasna': 'int64',\n",
    "        'Census_InternalPrimaryDisplayResolutionHorizontal_wasna': 'int64',\n",
    "        'Census_InternalPrimaryDisplayResolutionVertical_wasna': 'int64',\n",
    "        'Census_InternalBatteryNumberOfCharges_wasna':          'int64',\n",
    "        'Census_OSInstallLanguageIdentifier_wasna':             'int64',\n",
    "        'Census_IsFlightingInternal_wasna':                     'int64',\n",
    "        'Census_IsFlightsDisabled_wasna':                       'int64',\n",
    "        'Census_ThresholdOptIn_wasna':                          'int64',\n",
    "        'Census_FirmwareManufacturerIdentifier_wasna':          'int64',\n",
    "        'Census_IsWIMBootEnabled_wasna':                        'int64',\n",
    "        'Census_IsVirtualDevice_wasna':                         'int64',\n",
    "        'Census_IsAlwaysOnAlwaysConnectedCapable_wasna':        'int64',\n",
    "        'Wdft_IsGamer_wasna':                                   'int64',\n",
    "        'Wdft_RegionIdentifier_wasna':                          'int64',\n",
    "        'Census_FirmwareVersionIdentifier_wasna':               'int64',\n",
    "        'OsBuildLab_platform':                                  'float64',\n",
    "        'OsBuildLab_release':                                   'float64',\n",
    "        'IsBeta':                                               'int8',\n",
    "        'IsSxsPassiveMode':                                     'int8',\n",
    "        'HasTpm':                                               'int8',\n",
    "        'AutoSampleOptIn':                                      'int8',\n",
    "        'Census_HasOpticalDiskDrive':                           'int8',\n",
    "        'Census_IsPortableOperatingSystem':                     'int8',\n",
    "        'Census_IsSecureBootEnabled':                           'int8',\n",
    "        'Census_IsTouchEnabled':                                'int8',\n",
    "        'Census_IsPenCapable':                                  'int8',\n",
    "        'CountryIdentifier':                                    'float64',\n",
    "        'LocaleEnglishNameIdentifier':                          'float64',\n",
    "        'OsBuild':                                              'float64',\n",
    "        'OsSuite':                                              'int16',\n",
    "        'Census_OSBuildNumber':                                 'float64',\n",
    "        'Census_OSUILocaleIdentifier':                          'float64',\n",
    "        'EngineVersion_major':                                  'int16',\n",
    "        'EngineVersion_minor':                                  'int16',\n",
    "        'EngineVersion_build1':                                 'int16',\n",
    "        'EngineVersion_build2':                                 'int16',\n",
    "        'AppVersion_major':                                     'int16',\n",
    "        'AppVersion_minor':                                     'int16',\n",
    "        'AppVersion_build1':                                    'int16',\n",
    "        'AppVersion_build2':                                    'int16',\n",
    "        'AvSigVersion_major':                                   'int16',\n",
    "        'AvSigVersion_minor':                                   'int16',\n",
    "        'AvSigVersion_build1':                                  'int16',\n",
    "        'AvSigVersion_build2':                                  'int16',\n",
    "        'Census_OSVersion_major':                               'int16',\n",
    "        'Census_OSVersion_minor':                               'int16',\n",
    "        'Census_OSVersion_build1':                              'int16',\n",
    "        'Census_OSVersion_build2':                              'int16',\n",
    "        'OsVer_major':                                          'int16',\n",
    "        'OsVer_minor':                                          'int16',\n",
    "        'OsVer_build1':                                         'int16',\n",
    "        'OsVer_build2':                                         'int16',\n",
    "        'OsBuildLab_major':                                     'float64',\n",
    "        'OsBuildLab_minor':                                     'float64',\n",
    "        'Census_OSBuildRevision':                               'int32',\n",
    "        'OsBuildLab_build1':                                    'int32',\n",
    "        'OsBuildLab_build2':                                    'float64',\n",
    "        'AVProductsInstalled':                                  'float16',\n",
    "        'AVProductsEnabled':                                    'float16',\n",
    "        'OrganizationIdentifier':                               'float16',\n",
    "        'GeoNameIdentifier':                                    'float64',\n",
    "        'IsProtected':                                          'float16',\n",
    "        'SMode':                                                'float16',\n",
    "        'IeVerIdentifier':                                      'float64',\n",
    "        'Firewall':                                             'float16',\n",
    "        'Census_ProcessorCoreCount':                            'float64',\n",
    "        'Census_ProcessorManufacturerIdentifier':               'float16',\n",
    "        'Census_OSInstallLanguageIdentifier':                   'float64',\n",
    "        'Census_IsFlightingInternal':                           'float16',\n",
    "        'Census_IsFlightsDisabled':                             'float16',\n",
    "        'Census_ThresholdOptIn':                                'float16',\n",
    "        'Census_FirmwareManufacturerIdentifier':                'float64',\n",
    "        'Census_IsWIMBootEnabled':                              'float16',\n",
    "        'Census_IsVirtualDevice':                               'float16',\n",
    "        'Census_IsAlwaysOnAlwaysConnectedCapable':              'float16',\n",
    "        'Wdft_IsGamer':                                         'float16',\n",
    "        'Wdft_RegionIdentifier':                                'float64',\n",
    "        'DefaultBrowsersIdentifier':                            'float32',\n",
    "        'AVProductStatesIdentifier':                            'float64',\n",
    "        'CityIdentifier':                                       'float64',\n",
    "        'Census_OEMNameIdentifier':                             'float64',\n",
    "        'Census_OEMModelIdentifier':                            'float64',\n",
    "        'Census_ProcessorModelIdentifier':                      'float64',\n",
    "        'Census_TotalPhysicalRAM':                              'float64',\n",
    "        'Census_InternalPrimaryDiagonalDisplaySizeInInches':    'float64',\n",
    "        'Census_InternalPrimaryDisplayResolutionHorizontal':    'float64',\n",
    "        'Census_InternalPrimaryDisplayResolutionVertical':      'float64',\n",
    "        'Census_FirmwareVersionIdentifier':                     'float64',\n",
    "        'UacLuaenable':                                         'float64',\n",
    "        'Census_PrimaryDiskTotalCapacity':                      'float64',\n",
    "        'Census_SystemVolumeTotalCapacity':                     'float64',\n",
    "        'Census_InternalBatteryNumberOfCharges':                'float64',\n",
    "        'EngineVersion_combined':                               'float64',\n",
    "        'AppVersion_combined':                                  'float64',\n",
    "        'AvSigVersion_combined':                                'float64',\n",
    "        'Census_OSVersion_combined':                            'float64',\n",
    "        'OsVer_combined':                                       'float64',\n",
    "        'OsBuildLab_combined':                                  'float64',\n",
    "        'HasDetections':                                        'int8'\n",
    "        }\n",
    "\n",
    "    df = pd.read_csv(filename, dtype=dtypes, engine='c')\n",
    "    return df"
   ]
  },
  {
   "cell_type": "code",
   "execution_count": null,
   "metadata": {
    "jupyter": {
     "source_hidden": true
    }
   },
   "outputs": [],
   "source": []
  },
  {
   "cell_type": "code",
   "execution_count": 6,
   "metadata": {
    "jupyter": {
     "source_hidden": true
    }
   },
   "outputs": [],
   "source": [
    "def reduce_mem(df, verbose=True):\n",
    "    start_mem = df.memory_usage().sum() / 1024**2\n",
    "    print('Memory usage of dataframe is {:.2f} MB'.format(start_mem))\n",
    "    \n",
    "    for col in df.columns:\n",
    "        col_type = df[col].dtype\n",
    "        \n",
    "        if col_type != object and str(col_type) != 'category':\n",
    "            c_min = df[col].min()\n",
    "            c_max = df[col].max()\n",
    "            if str(col_type)[:3] == 'int':\n",
    "                if c_min > np.iinfo(np.int8).min and c_max < np.iinfo(np.int8).max:\n",
    "                    df[col] = df[col].astype(np.int8)\n",
    "                elif c_min > np.iinfo(np.int16).min and c_max < np.iinfo(np.int16).max:\n",
    "                    df[col] = df[col].astype(np.int16)\n",
    "                elif c_min > np.iinfo(np.int32).min and c_max < np.iinfo(np.int32).max:\n",
    "                    df[col] = df[col].astype(np.int32)\n",
    "                elif c_min > np.iinfo(np.int64).min and c_max < np.iinfo(np.int64).max:\n",
    "                    df[col] = df[col].astype(np.int64)\n",
    "        else:\n",
    "            df[col] = df[col].astype('category')\n",
    "\n",
    "    end_mem = df.memory_usage().sum() / 1024**2\n",
    "    print('Memory usage after optimization is: {:.2f} MB'.format(end_mem))\n",
    "    print('Decreased by {:.1f}%'.format(100 * (start_mem - end_mem) / start_mem))\n",
    "    \n",
    "    return df"
   ]
  },
  {
   "cell_type": "code",
   "execution_count": 7,
   "metadata": {
    "jupyter": {
     "source_hidden": true
    }
   },
   "outputs": [],
   "source": [
    "# function to create train, dev and test sets from supplied ratios \n",
    "from sklearn.model_selection import train_test_split\n",
    "def generate_train_test_dev_sets(train_ratio, test_ratio, features, labels):\n",
    "    reserved_size = 1-train_ratio\n",
    "    X_train, X_test_and_dev, y_train, y_test_and_dev = train_test_split(features, labels, stratify=labels, test_size=reserved_size, random_state=0)\n",
    "    reserved_size = 1 - (test_ratio / reserved_size)\n",
    "    X_test, X_dev, y_test, y_dev = train_test_split(X_test_and_dev, y_test_and_dev, stratify=y_test_and_dev, test_size=reserved_size, random_state=0)\n",
    "    return X_train, X_test, X_dev, y_train, y_test, y_dev\n"
   ]
  },
  {
   "cell_type": "code",
   "execution_count": 8,
   "metadata": {
    "jupyter": {
     "source_hidden": true
    }
   },
   "outputs": [],
   "source": [
    "def save_file(df, name):\n",
    "    df.to_csv(\"data.nosync/\"+name+\".csv\", index=False)"
   ]
  },
  {
   "cell_type": "code",
   "execution_count": null,
   "metadata": {
    "jupyter": {
     "source_hidden": true
    }
   },
   "outputs": [],
   "source": [
    "filename = \"data/train_clean.csv\"\n",
    "df = load_data(filename)"
   ]
  },
  {
   "cell_type": "code",
   "execution_count": null,
   "metadata": {
    "jupyter": {
     "source_hidden": true
    }
   },
   "outputs": [],
   "source": []
  },
  {
   "cell_type": "code",
   "execution_count": null,
   "metadata": {
    "jupyter": {
     "outputs_hidden": true,
     "source_hidden": true
    }
   },
   "outputs": [],
   "source": [
    "df = reduce_mem(df)\n",
    "import gc\n",
    "gc.collect()"
   ]
  },
  {
   "cell_type": "code",
   "execution_count": null,
   "metadata": {
    "jupyter": {
     "outputs_hidden": true,
     "source_hidden": true
    }
   },
   "outputs": [],
   "source": [
    "#code to spit out a nicely formated set of definitions for dtypes (for use in loading the sets again as above)\n",
    "for dtype in df.dtypes.items():\n",
    "    print(\"'{:} '{:}',\".format((dtype[0] + \"':\").ljust(54), dtype[1]))"
   ]
  },
  {
   "cell_type": "code",
   "execution_count": null,
   "metadata": {
    "jupyter": {
     "outputs_hidden": true,
     "source_hidden": true
    }
   },
   "outputs": [],
   "source": [
    "train, test, dev, train_labels, test_labels, dev_labels = \\\n",
    "    generate_train_test_dev_sets(.7, .15, df, df['HasDetections'])\n",
    "\n",
    "print(\"shape of train set:\",train.shape)\n",
    "print(\"shape of dev set:\",dev.shape) \n",
    "print(\"shape of test set:\",test.shape)\n",
    "\n",
    "# save cleaned files\n",
    "#\n",
    "print(\"saving train_clean ...\")\n",
    "save_file(train, \"train_clean\")\n",
    "print(\"saving dev_clean ...\")\n",
    "save_file(dev, \"dev_clean\")\n",
    "print(\"saving test_clean ...\")\n",
    "save_file(test, \"test_clean\")\n",
    "print(\"done saving files\")"
   ]
  },
  {
   "cell_type": "markdown",
   "metadata": {
    "jupyter": {
     "source_hidden": true
    }
   },
   "source": [
    "## create minis from the same files"
   ]
  },
  {
   "cell_type": "code",
   "execution_count": null,
   "metadata": {
    "jupyter": {
     "source_hidden": true
    }
   },
   "outputs": [],
   "source": [
    "from sklearn.model_selection import train_test_split\n",
    "def generate_mini(n, features, labels):\n",
    "    sample_size = n / features.shape[0]\n",
    "    reserved_size = 1-sample_size\n",
    "    X_mini, X_rest, y_mini, y_rest = train_test_split(features, labels, stratify=labels, test_size=reserved_size, random_state=0)\n",
    "    return X_mini, X_rest, y_mini, y_rest"
   ]
  },
  {
   "cell_type": "code",
   "execution_count": null,
   "metadata": {
    "jupyter": {
     "source_hidden": true
    }
   },
   "outputs": [],
   "source": [
    "mini_ratio = .05\n",
    "\n",
    "mini_train, remaining, mini_train_labels, remaining_labels = \\\n",
    "    generate_mini(train.shape[0]*mini_ratio, train, train['HasDetections'])\n",
    "\n",
    "mini_dev, remaining, mini_dev_labels, remaining_labels = \\\n",
    "    generate_mini(dev.shape[0]*mini_ratio, dev, dev['HasDetections'])\n",
    "\n",
    "mini_test, remaining, mini_test_labels, remaining_labels = \\\n",
    "    generate_mini(test.shape[0]*mini_ratio, test, test['HasDetections'])\n"
   ]
  },
  {
   "cell_type": "code",
   "execution_count": null,
   "metadata": {
    "jupyter": {
     "outputs_hidden": true,
     "source_hidden": true
    }
   },
   "outputs": [],
   "source": [
    "print(\"shape of mini train set:\",mini_train.shape)\n",
    "print(\"shape of mini dev set:\",mini_dev.shape)\n",
    "print(\"shape of mini test set:\",mini_test.shape)\n",
    "\n",
    "# save mini files\n",
    "#\n",
    "print(\"saving mini_train_clean ...\")\n",
    "save_file(mini_train, \"mini_train_clean\")\n",
    "print(\"saving mini_dev_clean ...\")\n",
    "save_file(mini_dev, \"mini_dev_clean\")\n",
    "print(\"saving mini_test_clean ...\")\n",
    "save_file(mini_test, \"mini_test_clean\")\n",
    "print(\"done saving files\")"
   ]
  },
  {
   "cell_type": "code",
   "execution_count": null,
   "metadata": {
    "jupyter": {
     "source_hidden": true
    }
   },
   "outputs": [],
   "source": []
  },
  {
   "cell_type": "markdown",
   "metadata": {},
   "source": [
    "# Work in progress steps for an analysis / encoding / feature engineering notebook. Move/replace/reuse when we are ready."
   ]
  },
  {
   "cell_type": "code",
   "execution_count": 9,
   "metadata": {
    "colab": {},
    "colab_type": "code",
    "id": "o2pg0EDimUBq"
   },
   "outputs": [],
   "source": [
    "#run down from \n",
    "\n",
    "train_file = 'data/mini_train_encoded.csv'\n",
    "dev_file = 'data/mini_dev_encoded.csv'\n",
    "validate_file = 'data/mini_validate_encoded.csv'"
   ]
  },
  {
   "cell_type": "code",
   "execution_count": 10,
   "metadata": {
    "jupyter": {
     "source_hidden": true
    }
   },
   "outputs": [],
   "source": [
    "drop_cols = ['EngineVersion', 'AppVersion', 'AvSigVersion', 'Census_OSVersion', 'OsVer', 'OsBuildLab', \n",
    "             'EngineVersion_major','EngineVersion_minor','EngineVersion_build1','EngineVersion_build2',\n",
    "             'AppVersion_major','AppVersion_minor','AppVersion_build1','AppVersion_build2', 'AvSigVersion_major',\n",
    "             'AvSigVersion_minor', 'AvSigVersion_build1', 'AvSigVersion_build2', 'Census_OSVersion_major', \n",
    "             'Census_OSVersion_minor', 'Census_OSVersion_build1', 'Census_OSVersion_build2', 'OsVer_major',\n",
    "             'OsVer_minor', 'OsVer_build1', 'OsVer_build2', 'OsBuildLab_major', 'OsBuildLab_minor', 'OsBuildLab_platform',\n",
    "             'OsBuildLab_release', 'OsBuildLab_build1', 'OsBuildLab_build2', 'HasDetections']"
   ]
  },
  {
   "cell_type": "code",
   "execution_count": 11,
   "metadata": {},
   "outputs": [],
   "source": [
    "train_data = load_data(train_file)\n",
    "train_labels = train_data['HasDetections']\n",
    "train_data = train_data.drop(columns='HasDetections')\n",
    "train_data = train_data.drop(columns='MachineIdentifier')"
   ]
  },
  {
   "cell_type": "code",
   "execution_count": 12,
   "metadata": {},
   "outputs": [
    {
     "data": {
      "text/html": [
       "<div>\n",
       "<style scoped>\n",
       "    .dataframe tbody tr th:only-of-type {\n",
       "        vertical-align: middle;\n",
       "    }\n",
       "\n",
       "    .dataframe tbody tr th {\n",
       "        vertical-align: top;\n",
       "    }\n",
       "\n",
       "    .dataframe thead th {\n",
       "        text-align: right;\n",
       "    }\n",
       "</style>\n",
       "<table border=\"1\" class=\"dataframe\">\n",
       "  <thead>\n",
       "    <tr style=\"text-align: right;\">\n",
       "      <th></th>\n",
       "      <th>ProductName</th>\n",
       "      <th>EngineVersion</th>\n",
       "      <th>AppVersion</th>\n",
       "      <th>AvSigVersion</th>\n",
       "      <th>RtpStateBitfield</th>\n",
       "      <th>Platform</th>\n",
       "      <th>Processor</th>\n",
       "      <th>OsVer</th>\n",
       "      <th>OsPlatformSubRelease</th>\n",
       "      <th>OsBuildLab</th>\n",
       "      <th>...</th>\n",
       "      <th>UacLuaenable</th>\n",
       "      <th>Census_PrimaryDiskTotalCapacity</th>\n",
       "      <th>Census_SystemVolumeTotalCapacity</th>\n",
       "      <th>Census_InternalBatteryNumberOfCharges</th>\n",
       "      <th>EngineVersion_combined</th>\n",
       "      <th>AppVersion_combined</th>\n",
       "      <th>AvSigVersion_combined</th>\n",
       "      <th>Census_OSVersion_combined</th>\n",
       "      <th>OsVer_combined</th>\n",
       "      <th>OsBuildLab_combined</th>\n",
       "    </tr>\n",
       "  </thead>\n",
       "  <tbody>\n",
       "    <tr>\n",
       "      <td>count</td>\n",
       "      <td>312251.000000</td>\n",
       "      <td>312251.000000</td>\n",
       "      <td>312251.000000</td>\n",
       "      <td>312251.000000</td>\n",
       "      <td>312251.000000</td>\n",
       "      <td>312251.000000</td>\n",
       "      <td>312251.000000</td>\n",
       "      <td>312251.000000</td>\n",
       "      <td>312251.000000</td>\n",
       "      <td>312251.000000</td>\n",
       "      <td>...</td>\n",
       "      <td>3.122510e+05</td>\n",
       "      <td>312251.000000</td>\n",
       "      <td>312251.000000</td>\n",
       "      <td>312251.000000</td>\n",
       "      <td>3.122510e+05</td>\n",
       "      <td>3.122510e+05</td>\n",
       "      <td>312251.000000</td>\n",
       "      <td>3.122510e+05</td>\n",
       "      <td>312251.000000</td>\n",
       "      <td>3.122510e+05</td>\n",
       "    </tr>\n",
       "    <tr>\n",
       "      <td>mean</td>\n",
       "      <td>3.969323</td>\n",
       "      <td>64.108858</td>\n",
       "      <td>52.199644</td>\n",
       "      <td>7755.423329</td>\n",
       "      <td>3.898902</td>\n",
       "      <td>0.086648</td>\n",
       "      <td>1.091462</td>\n",
       "      <td>1.325760</td>\n",
       "      <td>3.526006</td>\n",
       "      <td>257.063865</td>\n",
       "      <td>...</td>\n",
       "      <td>2.135275e+01</td>\n",
       "      <td>-0.000577</td>\n",
       "      <td>0.001224</td>\n",
       "      <td>0.000798</td>\n",
       "      <td>1.010151e+08</td>\n",
       "      <td>4.159166e+07</td>\n",
       "      <td>10272.313818</td>\n",
       "      <td>1.001583e+07</td>\n",
       "      <td>98738.533295</td>\n",
       "      <td>1.572366e+10</td>\n",
       "    </tr>\n",
       "    <tr>\n",
       "      <td>std</td>\n",
       "      <td>0.301760</td>\n",
       "      <td>5.349947</td>\n",
       "      <td>19.373868</td>\n",
       "      <td>921.431191</td>\n",
       "      <td>0.630550</td>\n",
       "      <td>0.478735</td>\n",
       "      <td>0.288432</td>\n",
       "      <td>7.345239</td>\n",
       "      <td>1.355107</td>\n",
       "      <td>86.070530</td>\n",
       "      <td>...</td>\n",
       "      <td>1.137639e+04</td>\n",
       "      <td>0.000084</td>\n",
       "      <td>1.001193</td>\n",
       "      <td>1.000453</td>\n",
       "      <td>2.779171e+02</td>\n",
       "      <td>3.282775e+05</td>\n",
       "      <td>37.257928</td>\n",
       "      <td>1.960701e+03</td>\n",
       "      <td>6969.152451</td>\n",
       "      <td>2.182564e+09</td>\n",
       "    </tr>\n",
       "    <tr>\n",
       "      <td>min</td>\n",
       "      <td>1.000000</td>\n",
       "      <td>6.000000</td>\n",
       "      <td>0.000000</td>\n",
       "      <td>0.000000</td>\n",
       "      <td>0.000000</td>\n",
       "      <td>0.000000</td>\n",
       "      <td>0.000000</td>\n",
       "      <td>0.000000</td>\n",
       "      <td>0.000000</td>\n",
       "      <td>1.000000</td>\n",
       "      <td>...</td>\n",
       "      <td>0.000000e+00</td>\n",
       "      <td>-0.000692</td>\n",
       "      <td>-1.149985</td>\n",
       "      <td>-0.583153</td>\n",
       "      <td>1.010115e+08</td>\n",
       "      <td>4.040030e+07</td>\n",
       "      <td>0.000000</td>\n",
       "      <td>1.001024e+07</td>\n",
       "      <td>60100.000000</td>\n",
       "      <td>7.600164e+09</td>\n",
       "    </tr>\n",
       "    <tr>\n",
       "      <td>25%</td>\n",
       "      <td>4.000000</td>\n",
       "      <td>65.000000</td>\n",
       "      <td>53.000000</td>\n",
       "      <td>7700.000000</td>\n",
       "      <td>4.000000</td>\n",
       "      <td>0.000000</td>\n",
       "      <td>1.000000</td>\n",
       "      <td>0.000000</td>\n",
       "      <td>3.000000</td>\n",
       "      <td>258.000000</td>\n",
       "      <td>...</td>\n",
       "      <td>1.000000e+00</td>\n",
       "      <td>-0.000638</td>\n",
       "      <td>-0.780973</td>\n",
       "      <td>-0.583153</td>\n",
       "      <td>1.010151e+08</td>\n",
       "      <td>4.131713e+07</td>\n",
       "      <td>10273.066500</td>\n",
       "      <td>1.001506e+07</td>\n",
       "      <td>100000.000000</td>\n",
       "      <td>1.506300e+10</td>\n",
       "    </tr>\n",
       "    <tr>\n",
       "      <td>50%</td>\n",
       "      <td>4.000000</td>\n",
       "      <td>65.000000</td>\n",
       "      <td>59.000000</td>\n",
       "      <td>7973.000000</td>\n",
       "      <td>4.000000</td>\n",
       "      <td>0.000000</td>\n",
       "      <td>1.000000</td>\n",
       "      <td>0.000000</td>\n",
       "      <td>4.000000</td>\n",
       "      <td>262.000000</td>\n",
       "      <td>...</td>\n",
       "      <td>1.000000e+00</td>\n",
       "      <td>-0.000584</td>\n",
       "      <td>-0.386382</td>\n",
       "      <td>-0.583153</td>\n",
       "      <td>1.010151e+08</td>\n",
       "      <td>4.180181e+07</td>\n",
       "      <td>10273.166400</td>\n",
       "      <td>1.001630e+07</td>\n",
       "      <td>100000.000000</td>\n",
       "      <td>1.629900e+10</td>\n",
       "    </tr>\n",
       "    <tr>\n",
       "      <td>75%</td>\n",
       "      <td>4.000000</td>\n",
       "      <td>66.000000</td>\n",
       "      <td>59.000000</td>\n",
       "      <td>8176.000000</td>\n",
       "      <td>4.000000</td>\n",
       "      <td>0.000000</td>\n",
       "      <td>1.000000</td>\n",
       "      <td>0.000000</td>\n",
       "      <td>4.000000</td>\n",
       "      <td>273.000000</td>\n",
       "      <td>...</td>\n",
       "      <td>1.000000e+00</td>\n",
       "      <td>-0.000477</td>\n",
       "      <td>0.309136</td>\n",
       "      <td>1.714817</td>\n",
       "      <td>1.010152e+08</td>\n",
       "      <td>4.180181e+07</td>\n",
       "      <td>10275.084500</td>\n",
       "      <td>1.001713e+07</td>\n",
       "      <td>100000.000000</td>\n",
       "      <td>1.713400e+10</td>\n",
       "    </tr>\n",
       "    <tr>\n",
       "      <td>max</td>\n",
       "      <td>4.000000</td>\n",
       "      <td>68.000000</td>\n",
       "      <td>108.000000</td>\n",
       "      <td>8530.000000</td>\n",
       "      <td>5.000000</td>\n",
       "      <td>3.000000</td>\n",
       "      <td>2.000000</td>\n",
       "      <td>52.000000</td>\n",
       "      <td>8.000000</td>\n",
       "      <td>662.000000</td>\n",
       "      <td>...</td>\n",
       "      <td>6.357062e+06</td>\n",
       "      <td>0.009623</td>\n",
       "      <td>33.934742</td>\n",
       "      <td>1.714817</td>\n",
       "      <td>1.010153e+08</td>\n",
       "      <td>4.180181e+07</td>\n",
       "      <td>10277.006700</td>\n",
       "      <td>1.001824e+07</td>\n",
       "      <td>100004.000000</td>\n",
       "      <td>1.824201e+10</td>\n",
       "    </tr>\n",
       "  </tbody>\n",
       "</table>\n",
       "<p>8 rows × 149 columns</p>\n",
       "</div>"
      ],
      "text/plain": [
       "         ProductName  EngineVersion     AppVersion   AvSigVersion  \\\n",
       "count  312251.000000  312251.000000  312251.000000  312251.000000   \n",
       "mean        3.969323      64.108858      52.199644    7755.423329   \n",
       "std         0.301760       5.349947      19.373868     921.431191   \n",
       "min         1.000000       6.000000       0.000000       0.000000   \n",
       "25%         4.000000      65.000000      53.000000    7700.000000   \n",
       "50%         4.000000      65.000000      59.000000    7973.000000   \n",
       "75%         4.000000      66.000000      59.000000    8176.000000   \n",
       "max         4.000000      68.000000     108.000000    8530.000000   \n",
       "\n",
       "       RtpStateBitfield       Platform      Processor          OsVer  \\\n",
       "count     312251.000000  312251.000000  312251.000000  312251.000000   \n",
       "mean           3.898902       0.086648       1.091462       1.325760   \n",
       "std            0.630550       0.478735       0.288432       7.345239   \n",
       "min            0.000000       0.000000       0.000000       0.000000   \n",
       "25%            4.000000       0.000000       1.000000       0.000000   \n",
       "50%            4.000000       0.000000       1.000000       0.000000   \n",
       "75%            4.000000       0.000000       1.000000       0.000000   \n",
       "max            5.000000       3.000000       2.000000      52.000000   \n",
       "\n",
       "       OsPlatformSubRelease     OsBuildLab  ...  UacLuaenable  \\\n",
       "count         312251.000000  312251.000000  ...  3.122510e+05   \n",
       "mean               3.526006     257.063865  ...  2.135275e+01   \n",
       "std                1.355107      86.070530  ...  1.137639e+04   \n",
       "min                0.000000       1.000000  ...  0.000000e+00   \n",
       "25%                3.000000     258.000000  ...  1.000000e+00   \n",
       "50%                4.000000     262.000000  ...  1.000000e+00   \n",
       "75%                4.000000     273.000000  ...  1.000000e+00   \n",
       "max                8.000000     662.000000  ...  6.357062e+06   \n",
       "\n",
       "       Census_PrimaryDiskTotalCapacity  Census_SystemVolumeTotalCapacity  \\\n",
       "count                    312251.000000                     312251.000000   \n",
       "mean                         -0.000577                          0.001224   \n",
       "std                           0.000084                          1.001193   \n",
       "min                          -0.000692                         -1.149985   \n",
       "25%                          -0.000638                         -0.780973   \n",
       "50%                          -0.000584                         -0.386382   \n",
       "75%                          -0.000477                          0.309136   \n",
       "max                           0.009623                         33.934742   \n",
       "\n",
       "       Census_InternalBatteryNumberOfCharges  EngineVersion_combined  \\\n",
       "count                          312251.000000            3.122510e+05   \n",
       "mean                                0.000798            1.010151e+08   \n",
       "std                                 1.000453            2.779171e+02   \n",
       "min                                -0.583153            1.010115e+08   \n",
       "25%                                -0.583153            1.010151e+08   \n",
       "50%                                -0.583153            1.010151e+08   \n",
       "75%                                 1.714817            1.010152e+08   \n",
       "max                                 1.714817            1.010153e+08   \n",
       "\n",
       "       AppVersion_combined  AvSigVersion_combined  Census_OSVersion_combined  \\\n",
       "count         3.122510e+05          312251.000000               3.122510e+05   \n",
       "mean          4.159166e+07           10272.313818               1.001583e+07   \n",
       "std           3.282775e+05              37.257928               1.960701e+03   \n",
       "min           4.040030e+07               0.000000               1.001024e+07   \n",
       "25%           4.131713e+07           10273.066500               1.001506e+07   \n",
       "50%           4.180181e+07           10273.166400               1.001630e+07   \n",
       "75%           4.180181e+07           10275.084500               1.001713e+07   \n",
       "max           4.180181e+07           10277.006700               1.001824e+07   \n",
       "\n",
       "       OsVer_combined  OsBuildLab_combined  \n",
       "count   312251.000000         3.122510e+05  \n",
       "mean     98738.533295         1.572366e+10  \n",
       "std       6969.152451         2.182564e+09  \n",
       "min      60100.000000         7.600164e+09  \n",
       "25%     100000.000000         1.506300e+10  \n",
       "50%     100000.000000         1.629900e+10  \n",
       "75%     100000.000000         1.713400e+10  \n",
       "max     100004.000000         1.824201e+10  \n",
       "\n",
       "[8 rows x 149 columns]"
      ]
     },
     "execution_count": 12,
     "metadata": {},
     "output_type": "execute_result"
    }
   ],
   "source": [
    "train_data.describe()"
   ]
  },
  {
   "cell_type": "code",
   "execution_count": 13,
   "metadata": {
    "colab": {},
    "colab_type": "code",
    "id": "qmiMEBxomUBs"
   },
   "outputs": [],
   "source": [
    "dev_data = load_data(dev_file)\n",
    "dev_labels = dev_data['HasDetections']\n",
    "dev_data = dev_data.drop(columns='HasDetections')\n",
    "dev_data = dev_data.drop(columns='MachineIdentifier')"
   ]
  },
  {
   "cell_type": "code",
   "execution_count": 14,
   "metadata": {},
   "outputs": [
    {
     "ename": "FileNotFoundError",
     "evalue": "[Errno 2] File b'data/mini_validate_encoded.csv' does not exist: b'data/mini_validate_encoded.csv'",
     "output_type": "error",
     "traceback": [
      "\u001b[0;31m---------------------------------------------------------------------------\u001b[0m",
      "\u001b[0;31mFileNotFoundError\u001b[0m                         Traceback (most recent call last)",
      "\u001b[0;32m<ipython-input-14-6407f3f0daf4>\u001b[0m in \u001b[0;36m<module>\u001b[0;34m\u001b[0m\n\u001b[0;32m----> 1\u001b[0;31m \u001b[0mvalidate_data\u001b[0m \u001b[0;34m=\u001b[0m \u001b[0mload_data\u001b[0m\u001b[0;34m(\u001b[0m\u001b[0mvalidate_file\u001b[0m\u001b[0;34m)\u001b[0m\u001b[0;34m\u001b[0m\u001b[0;34m\u001b[0m\u001b[0m\n\u001b[0m\u001b[1;32m      2\u001b[0m \u001b[0mvalidate_labels\u001b[0m \u001b[0;34m=\u001b[0m \u001b[0mvalidate_data\u001b[0m\u001b[0;34m[\u001b[0m\u001b[0;34m'HasDetections'\u001b[0m\u001b[0;34m]\u001b[0m\u001b[0;34m\u001b[0m\u001b[0;34m\u001b[0m\u001b[0m\n\u001b[1;32m      3\u001b[0m \u001b[0mvalidate_data\u001b[0m \u001b[0;34m=\u001b[0m \u001b[0mvalidate_data\u001b[0m\u001b[0;34m.\u001b[0m\u001b[0mdrop\u001b[0m\u001b[0;34m(\u001b[0m\u001b[0mcolumns\u001b[0m\u001b[0;34m=\u001b[0m\u001b[0;34m'HasDetections'\u001b[0m\u001b[0;34m)\u001b[0m\u001b[0;34m\u001b[0m\u001b[0;34m\u001b[0m\u001b[0m\n\u001b[1;32m      4\u001b[0m \u001b[0mvalidate_data\u001b[0m \u001b[0;34m=\u001b[0m \u001b[0mvalidate_data\u001b[0m\u001b[0;34m.\u001b[0m\u001b[0mdrop\u001b[0m\u001b[0;34m(\u001b[0m\u001b[0mcolumns\u001b[0m\u001b[0;34m=\u001b[0m\u001b[0;34m'MachineIdentifier'\u001b[0m\u001b[0;34m)\u001b[0m\u001b[0;34m\u001b[0m\u001b[0;34m\u001b[0m\u001b[0m\n",
      "\u001b[0;32m<ipython-input-5-e07fbf38f2db>\u001b[0m in \u001b[0;36mload_data\u001b[0;34m(filename)\u001b[0m\n\u001b[1;32m    155\u001b[0m         }\n\u001b[1;32m    156\u001b[0m \u001b[0;34m\u001b[0m\u001b[0m\n\u001b[0;32m--> 157\u001b[0;31m     \u001b[0mdf\u001b[0m \u001b[0;34m=\u001b[0m \u001b[0mpd\u001b[0m\u001b[0;34m.\u001b[0m\u001b[0mread_csv\u001b[0m\u001b[0;34m(\u001b[0m\u001b[0mfilename\u001b[0m\u001b[0;34m,\u001b[0m \u001b[0mdtype\u001b[0m\u001b[0;34m=\u001b[0m\u001b[0mdtypes\u001b[0m\u001b[0;34m,\u001b[0m \u001b[0mengine\u001b[0m\u001b[0;34m=\u001b[0m\u001b[0;34m'c'\u001b[0m\u001b[0;34m)\u001b[0m\u001b[0;34m\u001b[0m\u001b[0;34m\u001b[0m\u001b[0m\n\u001b[0m\u001b[1;32m    158\u001b[0m     \u001b[0;32mreturn\u001b[0m \u001b[0mdf\u001b[0m\u001b[0;34m\u001b[0m\u001b[0;34m\u001b[0m\u001b[0m\n",
      "\u001b[0;32m~/anaconda3/lib/python3.7/site-packages/pandas/io/parsers.py\u001b[0m in \u001b[0;36mparser_f\u001b[0;34m(filepath_or_buffer, sep, delimiter, header, names, index_col, usecols, squeeze, prefix, mangle_dupe_cols, dtype, engine, converters, true_values, false_values, skipinitialspace, skiprows, skipfooter, nrows, na_values, keep_default_na, na_filter, verbose, skip_blank_lines, parse_dates, infer_datetime_format, keep_date_col, date_parser, dayfirst, cache_dates, iterator, chunksize, compression, thousands, decimal, lineterminator, quotechar, quoting, doublequote, escapechar, comment, encoding, dialect, error_bad_lines, warn_bad_lines, delim_whitespace, low_memory, memory_map, float_precision)\u001b[0m\n\u001b[1;32m    683\u001b[0m         )\n\u001b[1;32m    684\u001b[0m \u001b[0;34m\u001b[0m\u001b[0m\n\u001b[0;32m--> 685\u001b[0;31m         \u001b[0;32mreturn\u001b[0m \u001b[0m_read\u001b[0m\u001b[0;34m(\u001b[0m\u001b[0mfilepath_or_buffer\u001b[0m\u001b[0;34m,\u001b[0m \u001b[0mkwds\u001b[0m\u001b[0;34m)\u001b[0m\u001b[0;34m\u001b[0m\u001b[0;34m\u001b[0m\u001b[0m\n\u001b[0m\u001b[1;32m    686\u001b[0m \u001b[0;34m\u001b[0m\u001b[0m\n\u001b[1;32m    687\u001b[0m     \u001b[0mparser_f\u001b[0m\u001b[0;34m.\u001b[0m\u001b[0m__name__\u001b[0m \u001b[0;34m=\u001b[0m \u001b[0mname\u001b[0m\u001b[0;34m\u001b[0m\u001b[0;34m\u001b[0m\u001b[0m\n",
      "\u001b[0;32m~/anaconda3/lib/python3.7/site-packages/pandas/io/parsers.py\u001b[0m in \u001b[0;36m_read\u001b[0;34m(filepath_or_buffer, kwds)\u001b[0m\n\u001b[1;32m    455\u001b[0m \u001b[0;34m\u001b[0m\u001b[0m\n\u001b[1;32m    456\u001b[0m     \u001b[0;31m# Create the parser.\u001b[0m\u001b[0;34m\u001b[0m\u001b[0;34m\u001b[0m\u001b[0;34m\u001b[0m\u001b[0m\n\u001b[0;32m--> 457\u001b[0;31m     \u001b[0mparser\u001b[0m \u001b[0;34m=\u001b[0m \u001b[0mTextFileReader\u001b[0m\u001b[0;34m(\u001b[0m\u001b[0mfp_or_buf\u001b[0m\u001b[0;34m,\u001b[0m \u001b[0;34m**\u001b[0m\u001b[0mkwds\u001b[0m\u001b[0;34m)\u001b[0m\u001b[0;34m\u001b[0m\u001b[0;34m\u001b[0m\u001b[0m\n\u001b[0m\u001b[1;32m    458\u001b[0m \u001b[0;34m\u001b[0m\u001b[0m\n\u001b[1;32m    459\u001b[0m     \u001b[0;32mif\u001b[0m \u001b[0mchunksize\u001b[0m \u001b[0;32mor\u001b[0m \u001b[0miterator\u001b[0m\u001b[0;34m:\u001b[0m\u001b[0;34m\u001b[0m\u001b[0;34m\u001b[0m\u001b[0m\n",
      "\u001b[0;32m~/anaconda3/lib/python3.7/site-packages/pandas/io/parsers.py\u001b[0m in \u001b[0;36m__init__\u001b[0;34m(self, f, engine, **kwds)\u001b[0m\n\u001b[1;32m    893\u001b[0m             \u001b[0mself\u001b[0m\u001b[0;34m.\u001b[0m\u001b[0moptions\u001b[0m\u001b[0;34m[\u001b[0m\u001b[0;34m\"has_index_names\"\u001b[0m\u001b[0;34m]\u001b[0m \u001b[0;34m=\u001b[0m \u001b[0mkwds\u001b[0m\u001b[0;34m[\u001b[0m\u001b[0;34m\"has_index_names\"\u001b[0m\u001b[0;34m]\u001b[0m\u001b[0;34m\u001b[0m\u001b[0;34m\u001b[0m\u001b[0m\n\u001b[1;32m    894\u001b[0m \u001b[0;34m\u001b[0m\u001b[0m\n\u001b[0;32m--> 895\u001b[0;31m         \u001b[0mself\u001b[0m\u001b[0;34m.\u001b[0m\u001b[0m_make_engine\u001b[0m\u001b[0;34m(\u001b[0m\u001b[0mself\u001b[0m\u001b[0;34m.\u001b[0m\u001b[0mengine\u001b[0m\u001b[0;34m)\u001b[0m\u001b[0;34m\u001b[0m\u001b[0;34m\u001b[0m\u001b[0m\n\u001b[0m\u001b[1;32m    896\u001b[0m \u001b[0;34m\u001b[0m\u001b[0m\n\u001b[1;32m    897\u001b[0m     \u001b[0;32mdef\u001b[0m \u001b[0mclose\u001b[0m\u001b[0;34m(\u001b[0m\u001b[0mself\u001b[0m\u001b[0;34m)\u001b[0m\u001b[0;34m:\u001b[0m\u001b[0;34m\u001b[0m\u001b[0;34m\u001b[0m\u001b[0m\n",
      "\u001b[0;32m~/anaconda3/lib/python3.7/site-packages/pandas/io/parsers.py\u001b[0m in \u001b[0;36m_make_engine\u001b[0;34m(self, engine)\u001b[0m\n\u001b[1;32m   1133\u001b[0m     \u001b[0;32mdef\u001b[0m \u001b[0m_make_engine\u001b[0m\u001b[0;34m(\u001b[0m\u001b[0mself\u001b[0m\u001b[0;34m,\u001b[0m \u001b[0mengine\u001b[0m\u001b[0;34m=\u001b[0m\u001b[0;34m\"c\"\u001b[0m\u001b[0;34m)\u001b[0m\u001b[0;34m:\u001b[0m\u001b[0;34m\u001b[0m\u001b[0;34m\u001b[0m\u001b[0m\n\u001b[1;32m   1134\u001b[0m         \u001b[0;32mif\u001b[0m \u001b[0mengine\u001b[0m \u001b[0;34m==\u001b[0m \u001b[0;34m\"c\"\u001b[0m\u001b[0;34m:\u001b[0m\u001b[0;34m\u001b[0m\u001b[0;34m\u001b[0m\u001b[0m\n\u001b[0;32m-> 1135\u001b[0;31m             \u001b[0mself\u001b[0m\u001b[0;34m.\u001b[0m\u001b[0m_engine\u001b[0m \u001b[0;34m=\u001b[0m \u001b[0mCParserWrapper\u001b[0m\u001b[0;34m(\u001b[0m\u001b[0mself\u001b[0m\u001b[0;34m.\u001b[0m\u001b[0mf\u001b[0m\u001b[0;34m,\u001b[0m \u001b[0;34m**\u001b[0m\u001b[0mself\u001b[0m\u001b[0;34m.\u001b[0m\u001b[0moptions\u001b[0m\u001b[0;34m)\u001b[0m\u001b[0;34m\u001b[0m\u001b[0;34m\u001b[0m\u001b[0m\n\u001b[0m\u001b[1;32m   1136\u001b[0m         \u001b[0;32melse\u001b[0m\u001b[0;34m:\u001b[0m\u001b[0;34m\u001b[0m\u001b[0;34m\u001b[0m\u001b[0m\n\u001b[1;32m   1137\u001b[0m             \u001b[0;32mif\u001b[0m \u001b[0mengine\u001b[0m \u001b[0;34m==\u001b[0m \u001b[0;34m\"python\"\u001b[0m\u001b[0;34m:\u001b[0m\u001b[0;34m\u001b[0m\u001b[0;34m\u001b[0m\u001b[0m\n",
      "\u001b[0;32m~/anaconda3/lib/python3.7/site-packages/pandas/io/parsers.py\u001b[0m in \u001b[0;36m__init__\u001b[0;34m(self, src, **kwds)\u001b[0m\n\u001b[1;32m   1915\u001b[0m         \u001b[0mkwds\u001b[0m\u001b[0;34m[\u001b[0m\u001b[0;34m\"usecols\"\u001b[0m\u001b[0;34m]\u001b[0m \u001b[0;34m=\u001b[0m \u001b[0mself\u001b[0m\u001b[0;34m.\u001b[0m\u001b[0musecols\u001b[0m\u001b[0;34m\u001b[0m\u001b[0;34m\u001b[0m\u001b[0m\n\u001b[1;32m   1916\u001b[0m \u001b[0;34m\u001b[0m\u001b[0m\n\u001b[0;32m-> 1917\u001b[0;31m         \u001b[0mself\u001b[0m\u001b[0;34m.\u001b[0m\u001b[0m_reader\u001b[0m \u001b[0;34m=\u001b[0m \u001b[0mparsers\u001b[0m\u001b[0;34m.\u001b[0m\u001b[0mTextReader\u001b[0m\u001b[0;34m(\u001b[0m\u001b[0msrc\u001b[0m\u001b[0;34m,\u001b[0m \u001b[0;34m**\u001b[0m\u001b[0mkwds\u001b[0m\u001b[0;34m)\u001b[0m\u001b[0;34m\u001b[0m\u001b[0;34m\u001b[0m\u001b[0m\n\u001b[0m\u001b[1;32m   1918\u001b[0m         \u001b[0mself\u001b[0m\u001b[0;34m.\u001b[0m\u001b[0munnamed_cols\u001b[0m \u001b[0;34m=\u001b[0m \u001b[0mself\u001b[0m\u001b[0;34m.\u001b[0m\u001b[0m_reader\u001b[0m\u001b[0;34m.\u001b[0m\u001b[0munnamed_cols\u001b[0m\u001b[0;34m\u001b[0m\u001b[0;34m\u001b[0m\u001b[0m\n\u001b[1;32m   1919\u001b[0m \u001b[0;34m\u001b[0m\u001b[0m\n",
      "\u001b[0;32mpandas/_libs/parsers.pyx\u001b[0m in \u001b[0;36mpandas._libs.parsers.TextReader.__cinit__\u001b[0;34m()\u001b[0m\n",
      "\u001b[0;32mpandas/_libs/parsers.pyx\u001b[0m in \u001b[0;36mpandas._libs.parsers.TextReader._setup_parser_source\u001b[0;34m()\u001b[0m\n",
      "\u001b[0;31mFileNotFoundError\u001b[0m: [Errno 2] File b'data/mini_validate_encoded.csv' does not exist: b'data/mini_validate_encoded.csv'"
     ]
    }
   ],
   "source": [
    "validate_data = load_data(validate_file)\n",
    "validate_labels = validate_data['HasDetections']\n",
    "validate_data = validate_data.drop(columns='HasDetections')\n",
    "validate_data = validate_data.drop(columns='MachineIdentifier')"
   ]
  },
  {
   "cell_type": "code",
   "execution_count": 15,
   "metadata": {},
   "outputs": [
    {
     "name": "stdout",
     "output_type": "stream",
     "text": [
      "'ProductName',\n",
      "'EngineVersion',\n",
      "'AppVersion',\n",
      "'AvSigVersion',\n",
      "'RtpStateBitfield',\n",
      "'Platform',\n",
      "'Processor',\n",
      "'OsVer',\n",
      "'OsPlatformSubRelease',\n",
      "'OsBuildLab',\n",
      "'SkuEdition',\n",
      "'PuaMode',\n",
      "'SmartScreen',\n",
      "'Census_MDC2FormFactor',\n",
      "'Census_DeviceFamily',\n",
      "'Census_ProcessorClass',\n",
      "'Census_PrimaryDiskTypeName',\n",
      "'Census_ChassisTypeName',\n",
      "'Census_PowerPlatformRoleName',\n",
      "'Census_InternalBatteryType',\n",
      "'Census_OSVersion',\n",
      "'Census_OSArchitecture',\n",
      "'Census_OSBranch',\n",
      "'Census_OSEdition',\n",
      "'Census_OSSkuName',\n",
      "'Census_OSInstallTypeName',\n",
      "'Census_OSWUAutoUpdateOptionsName',\n",
      "'Census_GenuineStateName',\n",
      "'Census_ActivationChannel',\n",
      "'Census_FlightRing',\n",
      "'RtpStateBitfield_wasna',\n",
      "'DefaultBrowsersIdentifier_wasna',\n",
      "'AVProductStatesIdentifier_wasna',\n",
      "'AVProductsInstalled_wasna',\n",
      "'AVProductsEnabled_wasna',\n",
      "'CityIdentifier_wasna',\n",
      "'OrganizationIdentifier_wasna',\n",
      "'GeoNameIdentifier_wasna',\n",
      "'IsProtected_wasna',\n",
      "'SMode_wasna',\n",
      "'IeVerIdentifier_wasna',\n",
      "'Firewall_wasna',\n",
      "'UacLuaenable_wasna',\n",
      "'Census_OEMNameIdentifier_wasna',\n",
      "'Census_OEMModelIdentifier_wasna',\n",
      "'Census_ProcessorCoreCount_wasna',\n",
      "'Census_ProcessorManufacturerIdentifier_wasna',\n",
      "'Census_ProcessorModelIdentifier_wasna',\n",
      "'Census_PrimaryDiskTotalCapacity_wasna',\n",
      "'Census_SystemVolumeTotalCapacity_wasna',\n",
      "'Census_TotalPhysicalRAM_wasna',\n",
      "'Census_InternalPrimaryDiagonalDisplaySizeInInches_wasna',\n",
      "'Census_InternalPrimaryDisplayResolutionHorizontal_wasna',\n",
      "'Census_InternalPrimaryDisplayResolutionVertical_wasna',\n",
      "'Census_InternalBatteryNumberOfCharges_wasna',\n",
      "'Census_OSInstallLanguageIdentifier_wasna',\n",
      "'Census_IsFlightingInternal_wasna',\n",
      "'Census_IsFlightsDisabled_wasna',\n",
      "'Census_ThresholdOptIn_wasna',\n",
      "'Census_FirmwareManufacturerIdentifier_wasna',\n",
      "'Census_IsWIMBootEnabled_wasna',\n",
      "'Census_IsVirtualDevice_wasna',\n",
      "'Census_IsAlwaysOnAlwaysConnectedCapable_wasna',\n",
      "'Wdft_IsGamer_wasna',\n",
      "'Wdft_RegionIdentifier_wasna',\n",
      "'Census_FirmwareVersionIdentifier_wasna',\n",
      "'OsBuildLab_platform',\n",
      "'OsBuildLab_release',\n",
      "'IsBeta',\n",
      "'IsSxsPassiveMode',\n",
      "'HasTpm',\n",
      "'AutoSampleOptIn',\n",
      "'Census_HasOpticalDiskDrive',\n",
      "'Census_IsPortableOperatingSystem',\n",
      "'Census_IsSecureBootEnabled',\n",
      "'Census_IsTouchEnabled',\n",
      "'Census_IsPenCapable',\n",
      "'CountryIdentifier',\n",
      "'LocaleEnglishNameIdentifier',\n",
      "'OsBuild',\n",
      "'OsSuite',\n",
      "'Census_OSBuildNumber',\n",
      "'Census_OSUILocaleIdentifier',\n",
      "'EngineVersion_major',\n",
      "'EngineVersion_minor',\n",
      "'EngineVersion_build1',\n",
      "'EngineVersion_build2',\n",
      "'AppVersion_major',\n",
      "'AppVersion_minor',\n",
      "'AppVersion_build1',\n",
      "'AppVersion_build2',\n",
      "'AvSigVersion_major',\n",
      "'AvSigVersion_minor',\n",
      "'AvSigVersion_build1',\n",
      "'AvSigVersion_build2',\n",
      "'Census_OSVersion_major',\n",
      "'Census_OSVersion_minor',\n",
      "'Census_OSVersion_build1',\n",
      "'Census_OSVersion_build2',\n",
      "'OsVer_major',\n",
      "'OsVer_minor',\n",
      "'OsVer_build1',\n",
      "'OsVer_build2',\n",
      "'OsBuildLab_major',\n",
      "'OsBuildLab_minor',\n",
      "'Census_OSBuildRevision',\n",
      "'OsBuildLab_build1',\n",
      "'OsBuildLab_build2',\n",
      "'AVProductsInstalled',\n",
      "'AVProductsEnabled',\n",
      "'OrganizationIdentifier',\n",
      "'GeoNameIdentifier',\n",
      "'IsProtected',\n",
      "'SMode',\n",
      "'IeVerIdentifier',\n",
      "'Firewall',\n",
      "'Census_ProcessorCoreCount',\n",
      "'Census_ProcessorManufacturerIdentifier',\n",
      "'Census_OSInstallLanguageIdentifier',\n",
      "'Census_IsFlightingInternal',\n",
      "'Census_IsFlightsDisabled',\n",
      "'Census_ThresholdOptIn',\n",
      "'Census_FirmwareManufacturerIdentifier',\n",
      "'Census_IsWIMBootEnabled',\n",
      "'Census_IsVirtualDevice',\n",
      "'Census_IsAlwaysOnAlwaysConnectedCapable',\n",
      "'Wdft_IsGamer',\n",
      "'Wdft_RegionIdentifier',\n",
      "'DefaultBrowsersIdentifier',\n",
      "'AVProductStatesIdentifier',\n",
      "'CityIdentifier',\n",
      "'Census_OEMNameIdentifier',\n",
      "'Census_OEMModelIdentifier',\n",
      "'Census_ProcessorModelIdentifier',\n",
      "'Census_TotalPhysicalRAM',\n",
      "'Census_InternalPrimaryDiagonalDisplaySizeInInches',\n",
      "'Census_InternalPrimaryDisplayResolutionHorizontal',\n",
      "'Census_InternalPrimaryDisplayResolutionVertical',\n",
      "'Census_FirmwareVersionIdentifier',\n",
      "'UacLuaenable',\n",
      "'Census_PrimaryDiskTotalCapacity',\n",
      "'Census_SystemVolumeTotalCapacity',\n",
      "'Census_InternalBatteryNumberOfCharges',\n",
      "'EngineVersion_combined',\n",
      "'AppVersion_combined',\n",
      "'AvSigVersion_combined',\n",
      "'Census_OSVersion_combined',\n",
      "'OsVer_combined',\n",
      "'OsBuildLab_combined',\n"
     ]
    }
   ],
   "source": [
    "all_cols = []\n",
    "for item in train_data.dtypes.items():\n",
    "    print(\"'{:}',\".format(item[0]))\n",
    "    all_cols.append(item[0])"
   ]
  },
  {
   "cell_type": "code",
   "execution_count": 16,
   "metadata": {
    "colab": {},
    "colab_type": "code",
    "id": "dI6TtXcGmUB6"
   },
   "outputs": [],
   "source": [
    "numerics = ['int8', 'int16', 'int32', 'int64', 'float16', 'float32', 'float64']\n",
    "numeric_cols = [c for c,v in train_data.dtypes.items() if v in numerics and c in train_data.columns]"
   ]
  },
  {
   "cell_type": "code",
   "execution_count": 17,
   "metadata": {},
   "outputs": [],
   "source": [
    "nominal_cols = [c for c in train_data.columns if (c not in numeric_cols)]"
   ]
  },
  {
   "cell_type": "code",
   "execution_count": 18,
   "metadata": {
    "colab": {},
    "colab_type": "code",
    "id": "p7QFAgIWmUB8"
   },
   "outputs": [],
   "source": [
    "binary_cols = [c for c in train_data.columns if (train_data[c].nunique() == 2 and c not in nominal_cols)]"
   ]
  },
  {
   "cell_type": "code",
   "execution_count": 19,
   "metadata": {},
   "outputs": [
    {
     "data": {
      "text/plain": [
       "['EngineVersion_major',\n",
       " 'EngineVersion_minor',\n",
       " 'AppVersion_major',\n",
       " 'AvSigVersion_build2',\n",
       " 'Census_OSVersion_major',\n",
       " 'Census_OSVersion_minor',\n",
       " 'Census_IsWIMBootEnabled']"
      ]
     },
     "execution_count": 19,
     "metadata": {},
     "output_type": "execute_result"
    }
   ],
   "source": [
    "unary_cols = [c for c in train_data.columns if (train_data[c].nunique() == 1 and c not in nominal_cols)]\n",
    "unary_cols"
   ]
  },
  {
   "cell_type": "code",
   "execution_count": null,
   "metadata": {},
   "outputs": [],
   "source": [
    "[c for c in dev_data.columns if (dev_data[c].nunique() == 1 and c not in nominal_cols)]"
   ]
  },
  {
   "cell_type": "code",
   "execution_count": null,
   "metadata": {},
   "outputs": [],
   "source": [
    "[c for c in validate_data.columns if (validate_data[c].nunique() == 1 and c not in nominal_cols)]"
   ]
  },
  {
   "cell_type": "code",
   "execution_count": null,
   "metadata": {},
   "outputs": [],
   "source": [
    "continuous_cols = [c for c in numeric_cols if (c not in np.concatenate((binary_cols, unary_cols)))]"
   ]
  },
  {
   "cell_type": "code",
   "execution_count": null,
   "metadata": {
    "jupyter": {
     "source_hidden": true
    }
   },
   "outputs": [],
   "source": [
    "#for c in unary_cols:\n",
    "#    train_data = train_data.drop(columns=c)\n",
    "#    test_data = test_data.drop(columns=c)\n",
    "#    dev_data = dev_data.drop(columns=c)"
   ]
  },
  {
   "cell_type": "code",
   "execution_count": null,
   "metadata": {},
   "outputs": [],
   "source": [
    "set_of_cols =['EngineVersion_combined','EngineVersion','AppVersion_combined', 'AppVersion', 'AvSigVersion_combined', 'AvSigVersion', 'Census_OSVersion_combined', 'Census_OSVersion', 'OsVer_combined', 'OsVer', 'OsBuildLab_combined', 'OsBuildLab']\n",
    "train_data[set_of_cols].head()"
   ]
  },
  {
   "cell_type": "code",
   "execution_count": null,
   "metadata": {
    "jupyter": {
     "outputs_hidden": true,
     "source_hidden": true
    }
   },
   "outputs": [],
   "source": [
    "# no need to run until\n",
    "\n",
    "#train_data = reduce_mem(train_data)\n",
    "#train_data[set_of_cols].describe()"
   ]
  },
  {
   "cell_type": "code",
   "execution_count": null,
   "metadata": {
    "jupyter": {
     "outputs_hidden": true,
     "source_hidden": true
    }
   },
   "outputs": [],
   "source": [
    "#code to spit out a nicely formated set of definitions for dtypes (for use in loading the sets again as above)\n",
    "for dtype in train_data.dtypes.items():\n",
    "    print(\"'{:} '{:}',\".format((dtype[0] + \"':\").ljust(54), dtype[1]))"
   ]
  },
  {
   "cell_type": "code",
   "execution_count": null,
   "metadata": {
    "jupyter": {
     "outputs_hidden": true,
     "source_hidden": true
    }
   },
   "outputs": [],
   "source": [
    "set_of_cols =['EngineVersion', 'AppVersion', 'AvSigVersion', 'Census_OSVersion', 'OsVer', 'OsBuildLab']\n",
    "for col in set_of_cols:\n",
    "    print(train_data[col].dtype.categories.get_values()[:50])\n",
    "    \n",
    "    \n",
    "    "
   ]
  },
  {
   "cell_type": "code",
   "execution_count": null,
   "metadata": {
    "jupyter": {
     "outputs_hidden": true,
     "source_hidden": true
    }
   },
   "outputs": [],
   "source": [
    "train_data['HasDetections'] = train_labels\n",
    "\n",
    "filter=train_data['Platform']!='windows10'\n",
    "\n",
    "groups = train_data[filter].groupby('Census_DeviceFamily').HasDetections\n",
    "\n",
    "fig, ax = plt.subplots()\n",
    "\n",
    "for k, v in groups:\n",
    "    v.hist(label=k, alpha=.25, ax=ax, figsize=(48,48), bins=50)\n",
    "\n",
    "ax.legend()\n",
    "train_data = train_data.drop(columns='HasDetections')"
   ]
  },
  {
   "cell_type": "code",
   "execution_count": null,
   "metadata": {
    "jupyter": {
     "source_hidden": true
    }
   },
   "outputs": [],
   "source": []
  },
  {
   "cell_type": "code",
   "execution_count": null,
   "metadata": {
    "colab": {
     "base_uri": "https://localhost:8080/",
     "height": 663
    },
    "colab_type": "code",
    "id": "RN6yjCmQmUCD",
    "outputId": "05e10840-e38a-4c35-c8c6-ade79310bf43"
   },
   "outputs": [],
   "source": [
    "# RESUME RUNNING\n",
    "print(\"Columns to review NaN values:\")\n",
    "train_data.isna().any()[lambda x: x]"
   ]
  },
  {
   "cell_type": "code",
   "execution_count": null,
   "metadata": {},
   "outputs": [],
   "source": []
  },
  {
   "cell_type": "code",
   "execution_count": null,
   "metadata": {
    "colab": {},
    "colab_type": "code",
    "id": "Zp0u1MosmUCE"
   },
   "outputs": [],
   "source": [
    "# Let's get a feeling for range of values in the nominal categories"
   ]
  },
  {
   "cell_type": "code",
   "execution_count": null,
   "metadata": {
    "jupyter": {
     "outputs_hidden": true,
     "source_hidden": true
    }
   },
   "outputs": [],
   "source": [
    "train_data[nominal_cols].describe().transpose()"
   ]
  },
  {
   "cell_type": "code",
   "execution_count": null,
   "metadata": {
    "jupyter": {
     "source_hidden": true
    }
   },
   "outputs": [],
   "source": [
    "# don't run encoding\n",
    "\n",
    "# Encode nominal variables as labeled strings\n",
    "from sklearn.preprocessing import LabelEncoder\n",
    "encoder = LabelEncoder()\n",
    "for i, col in enumerate(nominal_cols):\n",
    "    train_data[col] = encoder.fit_transform(train_data[col].astype(str))\n",
    "    dev_data[col] = encoder.fit_transform(dev_data[col].astype(str))\n",
    "    test_data[col] = encoder.fit_transform(test_data[col].astype(str))"
   ]
  },
  {
   "cell_type": "code",
   "execution_count": null,
   "metadata": {
    "jupyter": {
     "outputs_hidden": true,
     "source_hidden": true
    }
   },
   "outputs": [],
   "source": [
    "train_data[nominal_cols].hist(figsize=(48,48), bins=50)\n",
    "plt.show()"
   ]
  },
  {
   "cell_type": "code",
   "execution_count": null,
   "metadata": {
    "colab": {
     "base_uri": "https://localhost:8080/",
     "height": 510
    },
    "colab_type": "code",
    "id": "jzqceUBbmUCG",
    "jupyter": {
     "outputs_hidden": true,
     "source_hidden": true
    },
    "outputId": "7d3dbdc5-61af-4464-c425-2b59e419d2c0"
   },
   "outputs": [],
   "source": [
    "for i, col in enumerate(nominal_cols):\n",
    "    print('The number of values for {:} = {:}'.format(col, (len(list(train_data[col].unique())))))"
   ]
  },
  {
   "cell_type": "code",
   "execution_count": null,
   "metadata": {
    "colab": {
     "base_uri": "https://localhost:8080/",
     "height": 510
    },
    "colab_type": "code",
    "id": "fUecsr9LmUCI",
    "jupyter": {
     "outputs_hidden": true,
     "source_hidden": true
    },
    "outputId": "2fee05d7-f40e-4367-d39c-9656e0a0d978"
   },
   "outputs": [],
   "source": [
    "correlated_cols = []\n",
    "for i, col in enumerate(nominal_cols):\n",
    "    corr = train_labels.corr(train_data[col])\n",
    "    if(corr > 0.05  or corr < -0.05):\n",
    "        star='(*)' # flag the highly correlated nominal variables\n",
    "        correlated_cols.append(col)\n",
    "    else:\n",
    "        star=''\n",
    "    print('The correlation of {:} with the outcome variable is {:7.6f}{:}'.format(col, corr, star))"
   ]
  },
  {
   "cell_type": "code",
   "execution_count": null,
   "metadata": {
    "jupyter": {
     "outputs_hidden": true,
     "source_hidden": true
    }
   },
   "outputs": [],
   "source": [
    "correlated_cols"
   ]
  },
  {
   "cell_type": "code",
   "execution_count": null,
   "metadata": {},
   "outputs": [],
   "source": [
    "train_data[continuous_cols].describe().transpose()"
   ]
  },
  {
   "cell_type": "code",
   "execution_count": null,
   "metadata": {
    "jupyter": {
     "source_hidden": true
    }
   },
   "outputs": [],
   "source": []
  },
  {
   "cell_type": "code",
   "execution_count": null,
   "metadata": {
    "jupyter": {
     "source_hidden": true
    }
   },
   "outputs": [],
   "source": [
    "# Andrew's temporary draft for StandardScaler.  Pasting in Kevin's variation, as well:\n",
    "\n",
    "#inverse_cols = [i for i in train_data.columns if i not in numeric_cols]\n",
    "#features = train_data[numeric_cols]\n",
    "#ct = ColumnTransformer([('transform', StandardScaler(), numeric_cols)], remainder='passthrough')\n",
    "#ct.fit_transform(features)\n",
    "#train_data_scaled = pd.DataFrame(features, index=train_data.index, columns=numeric_cols)\n",
    "#inverse_data = pd.DataFrame(train_data[inverse_cols], index=train_data.index, columns=inverse_cols)\n",
    "#frames = [train_data_scaled, inverse_data]\n",
    "#train_data2 = pd.concat(frames, sort=False)\n",
    "#train_data2.describe()\n",
    "\n",
    "# Kevin's version:\n",
    "from sklearn.preprocessing import StandardScaler\n",
    "features = train_data[continuous_cols]\n",
    "scaler = StandardScaler().fit(features.values)\n",
    "features = scaler.transform(features.values)\n",
    "train_data[continuous_cols] = features\n",
    "\n",
    "#from sklearn.preprocessing import StandardScaler\n",
    "#train_data[numeric_cols] = data[[numeric_cols].apply(\n",
    "#                           lambda x: StandardScaler().fit_transform(x))\n",
    "\n",
    "\n",
    "features = dev_data[continuous_cols]\n",
    "scaler = StandardScaler().fit(features.values)\n",
    "features = scaler.transform(features.values)\n",
    "dev_data[continuous_cols] = features\n",
    "\n",
    "features = test_data[continuous_cols]\n",
    "scaler = StandardScaler().fit(features.values)\n",
    "features = scaler.transform(features.values)\n",
    "test_data[continuous_cols] = features\n",
    "\n",
    "\n",
    "#for i, col in enumerate(numeric_cols):\n",
    "#    standard_scaler = StandardScaler().fit(train_data[col].values)\n",
    "#    train_data[col] = standard_scaler.transform(train_data[col])\n",
    "#    test_data[col] = standard_scaler.transform(test_data[col])\n",
    "\n"
   ]
  },
  {
   "cell_type": "code",
   "execution_count": null,
   "metadata": {},
   "outputs": [],
   "source": [
    "train_data[continuous_cols].hist(figsize=(48,48), bins=50)\n",
    "plt.show()"
   ]
  },
  {
   "cell_type": "code",
   "execution_count": null,
   "metadata": {},
   "outputs": [],
   "source": [
    "train_data[binary_cols].describe().transpose()"
   ]
  },
  {
   "cell_type": "code",
   "execution_count": null,
   "metadata": {},
   "outputs": [],
   "source": [
    "train_data[binary_cols].hist(figsize=(48,48), bins=50)\n",
    "plt.show()"
   ]
  },
  {
   "cell_type": "code",
   "execution_count": null,
   "metadata": {
    "colab": {
     "base_uri": "https://localhost:8080/",
     "height": 901
    },
    "colab_type": "code",
    "id": "GrUC-3SMmUCK",
    "outputId": "e8d264ad-a1c9-4e19-8e1b-d33834cac05f"
   },
   "outputs": [],
   "source": [
    "# Resume starting here.\n",
    "\n",
    "correlated_cols=[]\n",
    "for i, col in enumerate(numeric_cols):\n",
    "    corr = train_labels.corr(train_data[col])\n",
    "    if(corr > 0.05  or corr < -0.05):\n",
    "        star='(*)' # flag the highly correlated numeric variables\n",
    "        correlated_cols.append(col)\n",
    "    else:\n",
    "        star=''\n",
    "#    print('The correlation of {:} with the outcome variable is {:7.6f}{:}'.format(col, corr, star))"
   ]
  },
  {
   "cell_type": "code",
   "execution_count": null,
   "metadata": {
    "colab": {},
    "colab_type": "code",
    "id": "QDnGgs3nmUCN",
    "jupyter": {
     "source_hidden": true
    }
   },
   "outputs": [],
   "source": [
    "# Impute missing values for correlated columns\n",
    "\n",
    "#from sklearn.impute import SimpleImputer\n",
    "#imputer = SimpleImputer(strategy = 'median')\n",
    "\n",
    "#imputer.fit(train_data[correlated_cols])\n",
    "#train_data_corr = imputer.transform(train_data[correlated_cols])\n",
    "#dev_data_corr = imputer.transform(dev_data[correlated_cols])\n",
    "#test_data_corr = imputer.transform(test_data[correlated_cols])\n"
   ]
  },
  {
   "cell_type": "code",
   "execution_count": null,
   "metadata": {
    "colab": {},
    "colab_type": "code",
    "id": "XMk5i8_PmUCP"
   },
   "outputs": [],
   "source": [
    "#Display distributions for correlated variables\n",
    "\n",
    "import matplotlib.pyplot as plt\n",
    "for i, col in enumerate(correlated_cols):\n",
    "    #count = train_data[col].value_counts(sort=False).sort_values(ascending=False).nlargest(50)\n",
    "    plt.figure(i)\n",
    "    train_data[col].value_counts(sort=False).sort_values(ascending=False).nlargest(50).plot(kind='barh', figsize=(20,10), title=col)\n"
   ]
  },
  {
   "cell_type": "code",
   "execution_count": null,
   "metadata": {},
   "outputs": [],
   "source": [
    "correlated_cols"
   ]
  },
  {
   "cell_type": "code",
   "execution_count": null,
   "metadata": {},
   "outputs": [],
   "source": [
    "sns.set(rc={'figure.figsize':(20,20)})\n",
    "sns.heatmap(train_data[correlated_cols].corr(), cmap='RdBu_r', annot=True, center=0.0)"
   ]
  },
  {
   "cell_type": "code",
   "execution_count": null,
   "metadata": {},
   "outputs": [],
   "source": [
    "sns.pairplot(train_data[correlated_cols])#, hue=train_labels)"
   ]
  },
  {
   "cell_type": "code",
   "execution_count": null,
   "metadata": {},
   "outputs": [],
   "source": [
    "# Be sure to run this\n",
    "\n",
    "correlated_cols.remove('EngineVersion_build1')\n",
    "correlated_cols.remove('AvSigVersion')\n",
    "correlated_cols.remove('Processor')\n",
    "correlated_cols.remove('Census_OSArchitecture')\n",
    "correlated_cols.remove('AppVersion_build1')\n",
    "\n",
    "correlated_cols.append('AppVersion_combined')\n",
    "correlated_cols.append('AvSigVersion_combined')"
   ]
  },
  {
   "cell_type": "code",
   "execution_count": null,
   "metadata": {},
   "outputs": [],
   "source": [
    "sns.heatmap(train_data[correlated_cols].corr(), cmap='RdBu_r', annot=True, center=0.0)"
   ]
  },
  {
   "cell_type": "code",
   "execution_count": null,
   "metadata": {},
   "outputs": [],
   "source": [
    "labels = pd.DataFrame()\n",
    "labels[\"HasDetections\"] = train_labels\n",
    "df = pd.concat([train_data[correlated_cols], labels], axis=1)\n",
    "sns.heatmap(df.corr(), cmap='RdBu_r', annot=True, center=0.0)"
   ]
  },
  {
   "cell_type": "code",
   "execution_count": null,
   "metadata": {},
   "outputs": [],
   "source": [
    "# Definitely run everything past here.  This is where the models run\n",
    "\n",
    "train_data_corr = train_data[correlated_cols]\n",
    "dev_data_corr = dev_data[correlated_cols]\n",
    "validate_data_corr = validate_data[correlated_cols]\n",
    "\n",
    "X_train = train_data_corr\n",
    "y_train = train_labels\n",
    "X_test = dev_data_corr\n",
    "y_test = dev_labels"
   ]
  },
  {
   "cell_type": "code",
   "execution_count": null,
   "metadata": {
    "colab": {
     "base_uri": "https://localhost:8080/",
     "height": 68
    },
    "colab_type": "code",
    "id": "Z0PpXeN-mUCX",
    "outputId": "b89ac3be-1952-49bc-864d-e1741bdb8fa7"
   },
   "outputs": [],
   "source": [
    "classifier =  KNeighborsClassifier(n_neighbors=9, n_jobs=-1)\n",
    "classifier.fit(X_train, y_train)\n",
    "\n",
    "pred_y = classifier.predict(X_test)\n",
    "\n",
    "results = confusion_matrix(y_test, pred_y)\n",
    "error = zero_one_loss(y_test, pred_y)\n",
    "accuracy = metrics.accuracy_score(y_test, pred_y)\n",
    "\n",
    "print(results)\n",
    "print(error)\n",
    "print(accuracy)"
   ]
  },
  {
   "cell_type": "code",
   "execution_count": null,
   "metadata": {},
   "outputs": [],
   "source": [
    "from sklearn.ensemble import GradientBoostingClassifier\n",
    "\n",
    "clf = GradientBoostingClassifier(n_estimators=200, learning_rate=0.6, max_depth=3, random_state=0)\n",
    "clf.fit(X_train, y_train)\n",
    "\n",
    "# predict and score on the dev set\n",
    "pred_y = clf.predict(X_test)\n",
    "\n",
    "results = confusion_matrix(y_test, pred_y)\n",
    "error = zero_one_loss(y_test, pred_y)\n",
    "accuracy = metrics.accuracy_score(y_test, pred_y)\n",
    "\n",
    "print(results)\n",
    "print(error)\n",
    "print(accuracy)"
   ]
  },
  {
   "cell_type": "code",
   "execution_count": null,
   "metadata": {},
   "outputs": [],
   "source": [
    "from sklearn.ensemble import AdaBoostClassifier\n",
    "\n",
    "clf = AdaBoostClassifier(n_estimators=100)\n",
    "clf.fit(X_train, y_train)\n",
    "\n",
    "# predict and score on the dev set\n",
    "pred_y = clf.predict(X_test)\n",
    "\n",
    "results = confusion_matrix(y_test, pred_y)\n",
    "error = zero_one_loss(y_test, pred_y)\n",
    "accuracy = metrics.accuracy_score(y_test, pred_y)\n",
    "\n",
    "print(results)\n",
    "print(error)\n",
    "print(accuracy)"
   ]
  },
  {
   "cell_type": "code",
   "execution_count": null,
   "metadata": {},
   "outputs": [],
   "source": [
    "# install this once\n",
    "!pip install lightgbm"
   ]
  },
  {
   "cell_type": "code",
   "execution_count": null,
   "metadata": {},
   "outputs": [],
   "source": [
    "# explicitly require this experimental feature\n",
    "from sklearn.experimental import enable_hist_gradient_boosting  # noqa\n",
    "# now you can import normally from ensemble\n",
    "from sklearn.ensemble import HistGradientBoostingClassifier\n",
    "from sklearn.ensemble._hist_gradient_boosting.utils import (get_equivalent_estimator)\n",
    "\n",
    "est = HistGradientBoostingClassifier(learning_rate=.1,\n",
    "                max_iter=100,\n",
    "                max_bins=100,\n",
    "                max_leaf_nodes=31,\n",
    "                n_iter_no_change=None,\n",
    "                random_state=0,\n",
    "                verbose=0)\n",
    "\n",
    "est.set_params(loss='binary_crossentropy')\n",
    "\n",
    "lightgbm_est = get_equivalent_estimator(est, lib='lightgbm')\n",
    "lightgbm_est.fit(X_train, y_train)\n",
    "\n",
    "# predict and score on the dev set\n",
    "pred_y = lightgbm_est.predict(X_test)\n",
    "\n",
    "results = confusion_matrix(y_test, pred_y)\n",
    "error = zero_one_loss(y_test, pred_y)\n",
    "accuracy = metrics.accuracy_score(y_test, pred_y)\n",
    "\n",
    "print(results)\n",
    "print(error)\n",
    "print(accuracy)"
   ]
  },
  {
   "cell_type": "code",
   "execution_count": null,
   "metadata": {},
   "outputs": [],
   "source": [
    "#Another installable\n",
    "\n",
    "!pip install xgboost"
   ]
  },
  {
   "cell_type": "code",
   "execution_count": null,
   "metadata": {},
   "outputs": [],
   "source": [
    "# explicitly require this experimental feature\n",
    "from sklearn.experimental import enable_hist_gradient_boosting  # noqa\n",
    "# now you can import normally from ensemble\n",
    "from sklearn.ensemble import HistGradientBoostingClassifier\n",
    "from sklearn.ensemble._hist_gradient_boosting.utils import (get_equivalent_estimator)\n",
    "\n",
    "est = HistGradientBoostingClassifier(learning_rate=.1,\n",
    "                max_iter=100,\n",
    "                max_bins=100,\n",
    "                max_leaf_nodes=31,\n",
    "                n_iter_no_change=None,\n",
    "                random_state=0,\n",
    "                verbose=0)\n",
    "\n",
    "est.set_params(loss='binary_crossentropy')\n",
    "\n",
    "lightgbm_est = get_equivalent_estimator(est, lib='xgboost')\n",
    "lightgbm_est.fit(X_train, y_train)\n",
    "\n",
    "# predict and score on the dev set\n",
    "pred_y = lightgbm_est.predict(X_test)\n",
    "\n",
    "results = confusion_matrix(y_test, pred_y)\n",
    "error = zero_one_loss(y_test, pred_y)\n",
    "accuracy = metrics.accuracy_score(y_test, pred_y)\n",
    "\n",
    "print(results)\n",
    "print(error)\n",
    "print(accuracy)"
   ]
  },
  {
   "cell_type": "code",
   "execution_count": null,
   "metadata": {},
   "outputs": [],
   "source": [
    "#Another installable\n",
    "\n",
    "!pip install catboost"
   ]
  },
  {
   "cell_type": "code",
   "execution_count": null,
   "metadata": {},
   "outputs": [],
   "source": [
    "\n",
    "# explicitly require this experimental feature\n",
    "from sklearn.experimental import enable_hist_gradient_boosting  # noqa\n",
    "# now you can import normally from ensemble\n",
    "from sklearn.ensemble import HistGradientBoostingClassifier\n",
    "from sklearn.ensemble._hist_gradient_boosting.utils import (get_equivalent_estimator)\n",
    "\n",
    "est = HistGradientBoostingClassifier(learning_rate=.1,\n",
    "                max_iter=100,\n",
    "                max_bins=100,\n",
    "                max_leaf_nodes=31,\n",
    "                n_iter_no_change=None,\n",
    "                random_state=0,\n",
    "                verbose=0)\n",
    "\n",
    "est.set_params(loss='binary_crossentropy')\n",
    "\n",
    "lightgbm_est = get_equivalent_estimator(est, lib='catboost')\n",
    "lightgbm_est.fit(X_train, y_train)\n",
    "\n",
    "# predict and score on the dev set\n",
    "pred_y = lightgbm_est.predict(X_test)\n",
    "\n",
    "results = confusion_matrix(y_test, pred_y)\n",
    "error = zero_one_loss(y_test, pred_y)\n",
    "accuracy = metrics.accuracy_score(y_test, pred_y)\n",
    "\n",
    "print(results)\n",
    "print(error)\n",
    "print(accuracy)"
   ]
  },
  {
   "cell_type": "code",
   "execution_count": null,
   "metadata": {},
   "outputs": [],
   "source": [
    "from sklearn.ensemble import RandomForestClassifier\n",
    "\n",
    "clf = RandomForestClassifier(n_estimators=100)\n",
    "clf.fit(X_train, y_train)\n",
    "\n",
    "# predict and score on the dev set\n",
    "pred_y = clf.predict(X_test)\n",
    "\n",
    "results = confusion_matrix(y_test, pred_y)\n",
    "error = zero_one_loss(y_test, pred_y)\n",
    "accuracy = metrics.accuracy_score(y_test, pred_y)\n",
    "\n",
    "print(results)\n",
    "print(error)\n",
    "print(accuracy)"
   ]
  },
  {
   "cell_type": "code",
   "execution_count": null,
   "metadata": {},
   "outputs": [],
   "source": [
    "from sklearn.ensemble import ExtraTreesClassifier\n",
    "\n",
    "clf = ExtraTreesClassifier(n_estimators=100, min_samples_split=2, random_state=0)\n",
    "clf.fit(X_train, y_train)\n",
    "\n",
    "# predict and score on the dev set\n",
    "pred_y = clf.predict(X_test)\n",
    "\n",
    "results = confusion_matrix(y_test, pred_y)\n",
    "error = zero_one_loss(y_test, pred_y)\n",
    "accuracy = metrics.accuracy_score(y_test, pred_y)\n",
    "\n",
    "print(results)\n",
    "print(error)\n",
    "print(accuracy)"
   ]
  },
  {
   "cell_type": "code",
   "execution_count": null,
   "metadata": {},
   "outputs": [],
   "source": [
    "dtc = DecisionTreeClassifier(max_depth=None, min_samples_split=2, random_state=0)\n",
    "dtc.fit(X_train, y_train)\n",
    "\n",
    "# predict and score on the dev set\n",
    "pred_y = dtc.predict(X_test)\n",
    "\n",
    "results = confusion_matrix(y_test, pred_y)\n",
    "error = zero_one_loss(y_test, pred_y)\n",
    "accuracy = metrics.accuracy_score(y_test, pred_y)\n",
    "\n",
    "print(results)\n",
    "print(error)\n",
    "print(accuracy)"
   ]
  },
  {
   "cell_type": "code",
   "execution_count": null,
   "metadata": {},
   "outputs": [],
   "source": [
    "from sklearn.svm import LinearSVC\n",
    "\n",
    "classifier = LinearSVC(max_iter=5000)\n",
    "classifier.fit(X_train, y_train)\n",
    "\n",
    "pred_y = classifier.predict(X_test)\n",
    "\n",
    "results = confusion_matrix(y_test, pred_y)\n",
    "error = zero_one_loss(y_test, pred_y)\n",
    "accuracy = metrics.accuracy_score(y_test, pred_y)\n",
    "\n",
    "print(results)\n",
    "print(error)\n",
    "print(accuracy)"
   ]
  },
  {
   "cell_type": "code",
   "execution_count": null,
   "metadata": {},
   "outputs": [],
   "source": []
  },
  {
   "cell_type": "markdown",
   "metadata": {},
   "source": [
    "# Using SelectFromModel to get features"
   ]
  },
  {
   "cell_type": "code",
   "execution_count": null,
   "metadata": {},
   "outputs": [],
   "source": [
    "fsel = ske.ExtraTreesClassifier(n_estimators=100).fit(train_data, train_labels)\n",
    "model = SelectFromModel(fsel, prefit=True)\n",
    "X_train_data_new = model.transform(train_data)\n",
    "X_test_data_new = model.transform(dev_data)"
   ]
  },
  {
   "cell_type": "code",
   "execution_count": null,
   "metadata": {},
   "outputs": [],
   "source": [
    "nb_features = X_train_data_new.shape[1]\n",
    "nb_features"
   ]
  },
  {
   "cell_type": "code",
   "execution_count": null,
   "metadata": {},
   "outputs": [],
   "source": [
    "# explicitly require this experimental feature\n",
    "from sklearn.experimental import enable_hist_gradient_boosting  # noqa\n",
    "# now you can import normally from ensemble\n",
    "from sklearn.ensemble import HistGradientBoostingClassifier\n",
    "from sklearn.ensemble._hist_gradient_boosting.utils import (get_equivalent_estimator)\n",
    "\n",
    "est = HistGradientBoostingClassifier(learning_rate=.1,\n",
    "                max_iter=100,\n",
    "                max_bins=100,\n",
    "                max_leaf_nodes=31,\n",
    "                n_iter_no_change=None,\n",
    "                random_state=0,\n",
    "                verbose=0)\n",
    "\n",
    "est.set_params(loss='binary_crossentropy')\n",
    "\n",
    "lightgbm_est = get_equivalent_estimator(est, lib='lightgbm')\n",
    "lightgbm_est.fit(X_train_data_new, y_train)\n",
    "\n",
    "# predict and score on the dev set\n",
    "pred_y = lightgbm_est.predict(X_test_data_new)\n",
    "\n",
    "results = confusion_matrix(y_test, pred_y)\n",
    "error = zero_one_loss(y_test, pred_y)\n",
    "accuracy = metrics.accuracy_score(y_test, pred_y)\n",
    "\n",
    "print(results)\n",
    "print(error)\n",
    "print(accuracy)"
   ]
  },
  {
   "cell_type": "code",
   "execution_count": null,
   "metadata": {},
   "outputs": [],
   "source": [
    "from sklearn.ensemble import GradientBoostingClassifier\n",
    "\n",
    "clf = GradientBoostingClassifier(n_estimators=200, learning_rate=0.6, max_depth=3, random_state=0)\n",
    "clf.fit(X_train_data_new, y_train)\n",
    "\n",
    "# predict and score on the dev set\n",
    "pred_y = clf.predict(X_test_data_new)\n",
    "\n",
    "results = confusion_matrix(y_test, pred_y)\n",
    "error = zero_one_loss(y_test, pred_y)\n",
    "accuracy = metrics.accuracy_score(y_test, pred_y)\n",
    "\n",
    "print(results)\n",
    "print(error)\n",
    "print(accuracy)"
   ]
  },
  {
   "cell_type": "code",
   "execution_count": null,
   "metadata": {},
   "outputs": [],
   "source": [
    "# explicitly require this experimental feature\n",
    "from sklearn.experimental import enable_hist_gradient_boosting  # noqa\n",
    "# now you can import normally from ensemble\n",
    "from sklearn.ensemble import HistGradientBoostingClassifier\n",
    "from sklearn.ensemble._hist_gradient_boosting.utils import (get_equivalent_estimator)\n",
    "\n",
    "est = HistGradientBoostingClassifier(learning_rate=.2,\n",
    "                max_iter=100,\n",
    "                max_bins=500,\n",
    "                max_depth=-1,\n",
    "                max_leaf_nodes=100,\n",
    "                n_iter_no_change=None,\n",
    "                random_state=0,\n",
    "                verbose=0)\n",
    "\n",
    "est.set_params(loss='binary_crossentropy')\n",
    "\n",
    "lightgbm_est = get_equivalent_estimator(est, lib='lightgbm')\n",
    "lightgbm_est.fit(X_train_data_new, y_train)\n",
    "\n",
    "# predict and score on the dev set\n",
    "pred_y = lightgbm_est.predict(X_test_data_new)\n",
    "\n",
    "results = confusion_matrix(y_test, pred_y)\n",
    "error = zero_one_loss(y_test, pred_y)\n",
    "accuracy = metrics.accuracy_score(y_test, pred_y)\n",
    "\n",
    "print(results)\n",
    "print(error)\n",
    "print(accuracy)"
   ]
  },
  {
   "cell_type": "code",
   "execution_count": null,
   "metadata": {},
   "outputs": [],
   "source": []
  },
  {
   "cell_type": "code",
   "execution_count": null,
   "metadata": {},
   "outputs": [],
   "source": []
  },
  {
   "cell_type": "code",
   "execution_count": null,
   "metadata": {},
   "outputs": [],
   "source": []
  },
  {
   "cell_type": "code",
   "execution_count": null,
   "metadata": {},
   "outputs": [],
   "source": []
  },
  {
   "cell_type": "markdown",
   "metadata": {},
   "source": [
    "# PCA Stuff"
   ]
  },
  {
   "cell_type": "code",
   "execution_count": null,
   "metadata": {},
   "outputs": [],
   "source": [
    "# Run against correlated set and\n",
    "\n",
    "def run_PCA_GMM_analysis(param_threshold, X_train, X_test, y_train, y_test):\n",
    "    # set up a series of conditions where the parameter sum of PCA\n",
    "    # components and GMM components will be <= 50\n",
    "    # Parameters will be expressed in terms of G = GMM components, \n",
    "    # P = PCA components and C = Number of classes \n",
    "    C = 2 # number of classes will always be two for this experiment\n",
    "    # P and G combinations are what will change based on their relationship with\n",
    "    # the covariance type\n",
    "    # First line up a cartesian matrix of PCA and GMM components possibilities\n",
    "    P, G = np.meshgrid(np.arange(1, param_threshold), np.arange(1, param_threshold))\n",
    "    # Define possible combinations where the sum of parameters will be <= param_threshold\n",
    "    # depending on the covariance type\n",
    "    # The parameter count formula calculations were found on\n",
    "    # https://stats.stackexchange.com/questions/280893/number-of-parameters-in-multivariate-gaussian-for-different-covariance-matrices/280896#280896\n",
    "    diag_params = 2 * P * G * C <= param_threshold\n",
    "    full_params = ((P * G) + (P * (P + 1) * G) / 2) * C <= param_threshold\n",
    "    sphe_params = (P + 1) * G * C <= param_threshold\n",
    "    tied_params = ((P * G) + (P * (P + 1)) / 2) * C <= param_threshold\n",
    "    experiments = [sphe_params, diag_params, tied_params, full_params]\n",
    "    CT = ['spherical', 'diag', 'tied', 'full']\n",
    "    # store the winning hyperparameters\n",
    "    winning_accuracy = 0.0\n",
    "    winning_CT = None\n",
    "    winning_PCA = None\n",
    "    winning_GMM = None\n",
    "    # keep track of all the trials for sorting / displaying\n",
    "    trials = np.empty((0,4))\n",
    "    # run through each experiment - spherical, diag, tied and full\n",
    "    for i, experiment in enumerate(experiments):\n",
    "    # iterate through the combinatorial product of PCA components and GMM \n",
    "    # components that sum up to less than 50 parameter combinations for the\n",
    "    # experiment\n",
    "        for p, g in np.column_stack((P[experiment], G[experiment])):\n",
    "            pca = PCA(p)\n",
    "            projected = pca.fit_transform(X_train)\n",
    "            projected_test = pca.transform(X_test)\n",
    "\n",
    "            gm_mod_pos = GaussianMixture(n_components = g, reg_covar=.0001, covariance_type=CT[i])\n",
    "            gm_mod_pos.fit(projected[y_train==1])\n",
    "\n",
    "            gm_mod_neg = GaussianMixture(n_components = g, reg_covar=.0001, covariance_type=CT[i])\n",
    "            gm_mod_neg.fit(projected[y_train==0])\n",
    "\n",
    "            prob_pos = gm_mod_pos.score_samples(projected_test)\n",
    "            prob_neg = gm_mod_neg.score_samples(projected_test)\n",
    "\n",
    "            winning_predictions = np.where(prob_pos >= prob_neg, 1, 0)\n",
    "            accuracy = metrics.accuracy_score(y_test, winning_predictions)\n",
    "            trials = np.append(trials, np.array([[p, g, i, accuracy]]), axis=0)\n",
    "            if accuracy > winning_accuracy:\n",
    "                winning_accuracy = accuracy\n",
    "                winning_CT = CT[i]\n",
    "                winning_PCA = p\n",
    "                winning_GMM = g\n",
    "\n",
    "    # calculate the parameter count for the winning experiment using its \n",
    "    # hyperparameters\n",
    "    if winning_CT=='spherical':\n",
    "        winning_params = (winning_PCA + 1) * winning_GMM * C \n",
    "    elif winning_CT=='diag':\n",
    "        winning_params = (2 * winning_PCA * winning_GMM * C)\n",
    "    elif winning_CT=='full':\n",
    "        winning_params = ((winning_PCA * winning_GMM) + \n",
    "                          (winning_PCA * (winning_PCA + 1) * winning_GMM) / 2) * C\n",
    "    elif winning_CT=='tied':\n",
    "        winning_params = ((winning_PCA * winning_GMM) + \n",
    "                          (winning_PCA * (winning_PCA + 1)) / 2) * C\n",
    "    print(\"Best accuracy is {:5.4f} with {} parameters\".format(\n",
    "        winning_accuracy, winning_params))\n",
    "    print(\"PCA components = {}, GMM components = {}, covariance_type = {}\".format(\n",
    "        winning_PCA, winning_GMM, winning_CT))\n",
    "    trials = trials[trials[:,3].argsort()[::-1], :]\n",
    "    print(\"\\n| Rank | PCA | GMM | Cov. Type | Accuracy |\")\n",
    "    print(\"+------+-----+-----+-----------+----------+\")\n",
    "    for i, trial in enumerate(trials):\n",
    "        print(\"| {:4} | {:3} | {:3} | {} | {:9.4f}|\".format(\n",
    "            i+1, int(trial[0]), int(trial[1]),\n",
    "            CT[int(trial[2])].rjust(9), trial[3]))"
   ]
  },
  {
   "cell_type": "code",
   "execution_count": null,
   "metadata": {},
   "outputs": [],
   "source": [
    "correlated_cols=[]\n",
    "for i, col in enumerate(numeric_cols):\n",
    "    corr = train_labels.corr(train_data[col])\n",
    "    if(corr > 0.05  or corr < -0.05):\n",
    "        correlated_cols.append(col)\n",
    "\n",
    "correlated_cols.remove('EngineVersion_build1')\n",
    "correlated_cols.remove('EngineVersion_combined')\n",
    "correlated_cols.remove('Processor')\n",
    "correlated_cols.remove('Census_OSArchitecture')\n",
    "\n",
    "train_data_corr = train_data[correlated_cols]\n",
    "dev_data_corr = dev_data[correlated_cols]\n",
    "test_data_corr = test_data[correlated_cols]\n",
    "\n",
    "X_train = train_data_corr\n",
    "y_train = train_labels\n",
    "X_test = dev_data_corr\n",
    "y_test = dev_labels"
   ]
  },
  {
   "cell_type": "code",
   "execution_count": null,
   "metadata": {},
   "outputs": [],
   "source": [
    "run_PCA_GMM_analysis(29, X_train, X_test, y_train, y_test)"
   ]
  },
  {
   "cell_type": "code",
   "execution_count": null,
   "metadata": {},
   "outputs": [],
   "source": [
    "dtc = DecisionTreeClassifier()\n",
    "dtc.fit(X_train, y_train)\n",
    "\n",
    "# predict and score on the dev set\n",
    "pred_y = dtc.predict(X_test)\n",
    "\n",
    "results = confusion_matrix(y_test, pred_y)\n",
    "error = zero_one_loss(y_test, pred_y)\n",
    "accuracy = metrics.accuracy_score(y_test, pred_y)\n",
    "\n",
    "print(results)\n",
    "print(error)\n",
    "print(accuracy)"
   ]
  },
  {
   "cell_type": "code",
   "execution_count": null,
   "metadata": {},
   "outputs": [],
   "source": [
    "\n",
    "mycols=all_cols.copy()\n",
    "mycols.remove('EngineVersion_combined')\n",
    "mycols.remove('AppVersion_combined')\n",
    "mycols.remove('AvSigVersion_combined')\n",
    "mycols.remove('Census_OSVersion_combined')\n",
    "mycols.remove('OsVer_combined')\n",
    "mycols.remove('OsBuildLab_combined')\n"
   ]
  },
  {
   "cell_type": "code",
   "execution_count": null,
   "metadata": {},
   "outputs": [],
   "source": [
    "#impute for all columns and let PCA find the best dimensions\n",
    "#imputer = SimpleImputer(strategy = 'median')\n",
    "#imputer.fit(train_data)\n",
    "#X_train = imputer.transform(train_data)[train_data['Wdft_IsGamer']==0]\n",
    "#X_test = imputer.transform(dev_data)[dev_data['Wdft_IsGamer']==0]\n",
    "X_train = train_data[mycols]#[train_data['Wdft_IsGamer']==0]\n",
    "y_train = train_labels#[train_data['Wdft_IsGamer']==0]\n",
    "X_test = dev_data[mycols]#[dev_data['Wdft_IsGamer']==0]\n",
    "y_test = dev_labels#[dev_data['Wdft_IsGamer']==0]"
   ]
  },
  {
   "cell_type": "code",
   "execution_count": null,
   "metadata": {},
   "outputs": [],
   "source": [
    "classifier =  KNeighborsClassifier(n_neighbors=2, n_jobs=-1)\n",
    "classifier.fit(X_train, y_train)\n",
    "\n",
    "pred_y = classifier.predict(X_test)\n",
    "\n",
    "results = confusion_matrix(y_test, pred_y)\n",
    "error = zero_one_loss(y_test, pred_y)\n",
    "accuracy = metrics.accuracy_score(y_test, pred_y)\n",
    "\n",
    "print(results)\n",
    "print(error)\n",
    "print(accuracy)"
   ]
  },
  {
   "cell_type": "code",
   "execution_count": null,
   "metadata": {},
   "outputs": [],
   "source": [
    "from sklearn.svm import LinearSVC\n",
    "\n",
    "classifier = LinearSVC()\n",
    "classifier.fit(X_train, y_train)\n",
    "\n",
    "pred_y = classifier.predict(X_test)\n",
    "\n",
    "results = confusion_matrix(y_test, pred_y)\n",
    "error = zero_one_loss(y_test, pred_y)\n",
    "accuracy = metrics.accuracy_score(y_test, pred_y)\n",
    "\n",
    "print(results)\n",
    "print(error)\n",
    "print(accuracy)"
   ]
  },
  {
   "cell_type": "code",
   "execution_count": null,
   "metadata": {},
   "outputs": [],
   "source": [
    "X_train.shape"
   ]
  },
  {
   "cell_type": "code",
   "execution_count": null,
   "metadata": {},
   "outputs": [],
   "source": [
    "run_PCA_GMM_analysis(120, X_train, X_test, y_train, y_test)"
   ]
  },
  {
   "cell_type": "code",
   "execution_count": null,
   "metadata": {},
   "outputs": [],
   "source": []
  },
  {
   "cell_type": "code",
   "execution_count": null,
   "metadata": {},
   "outputs": [],
   "source": [
    "pca = PCA(n_components=2)\n",
    "projected = pca.fit_transform(X_train)\n",
    "\n",
    "plt.figure(figsize=(15,10))\n",
    "\n",
    "from collections import defaultdict\n",
    "\n",
    "category = defaultdict(list)\n",
    "category[0].append('not-detected')\n",
    "category[1].append('has-detections')\n",
    "\n",
    "colors = ['navy', 'turquoise', 'darkorange', 'red', 'purple']\n",
    "\n",
    "for color, cat in zip(colors, category.keys()):\n",
    "    print(color)\n",
    "    print(cat)\n",
    "    plt.scatter(projected[y_train==cat, 0], projected[y_train==cat, 1],\n",
    "                color=color, alpha=.8, lw=2, label=cat)\n",
    "plt.legend(loc='best', shadow=False, scatterpoints=1)\n",
    "\n",
    "plt.show()"
   ]
  },
  {
   "cell_type": "code",
   "execution_count": null,
   "metadata": {},
   "outputs": [],
   "source": []
  },
  {
   "cell_type": "markdown",
   "metadata": {
    "colab": {},
    "colab_type": "code",
    "id": "3PiDp3-xmUCd"
   },
   "source": [
    "# Feature reduction using ExtraTreesClassifier - experimental code"
   ]
  },
  {
   "cell_type": "code",
   "execution_count": null,
   "metadata": {},
   "outputs": [],
   "source": [
    "best_cols =[\n",
    "    'SmartScreen',\n",
    "    'AVProductsInstalled',\n",
    "    'AVProductStatesIdentifier',\n",
    "    'OsBuildLab_platform',\n",
    "    'AppVersion_build1',\n",
    "    'Census_IsAlwaysOnAlwaysConnectedCapable',\n",
    "    'EngineVersion_build2',\n",
    "    'Census_TotalPhysicalRAM',\n",
    "    'EngineVersion_build1',\n",
    "    'Census_IsVirtualDevice',\n",
    "    'AvSigVersion_minor',\n",
    "    'SMode_wasna',\n",
    "    'SMode',\n",
    "    'RtpStateBitfield_wasna',\n",
    "    'Wdft_IsGamer_wasna',\n",
    "    'Wdft_RegionIdentifier_wasna',\n",
    "    'Census_ProcessorClass',\n",
    "    'Census_PrimaryDiskTotalCapacity_wasna'\n",
    "]"
   ]
  },
  {
   "cell_type": "code",
   "execution_count": null,
   "metadata": {},
   "outputs": [],
   "source": [
    "best_cols = [\n",
    "    'AVProductsInstalled',\n",
    "    'AVProductStatesIdentifier',\n",
    "    'OsBuildLab_platform',\n",
    "    'AppVersion_combined',\n",
    "    'Census_IsAlwaysOnAlwaysConnectedCapable',\n",
    "    'EngineVersion_combined',\n",
    "    'IsProtected',\n",
    "    'Census_IsVirtualDevice',\n",
    "    'SMode_wasna',\n",
    "    'IsSxsPassiveMode',\n",
    "    'Census_FirmwareVersionIdentifier_wasna',\n",
    "    'Census_DeviceFamily',\n",
    "    'HasTpm',\n",
    "    'Wdft_IsGamer_wasna',\n",
    "    'OsVer_combined'\n",
    "]"
   ]
  },
  {
   "cell_type": "code",
   "execution_count": null,
   "metadata": {},
   "outputs": [],
   "source": [
    "X_train = train_data#[best_cols]\n",
    "y_train = train_labels\n",
    "X_test = dev_data#[best_cols]\n",
    "y_test = dev_labels"
   ]
  },
  {
   "cell_type": "code",
   "execution_count": null,
   "metadata": {
    "colab": {},
    "colab_type": "code",
    "id": "rXP_J1jdmUCf"
   },
   "outputs": [],
   "source": [
    "fsel = ske.ExtraTreesClassifier().fit(X_train, y_train)\n",
    "model = SelectFromModel(fsel, prefit=True)\n",
    "X_train_data_new = model.transform(X_train)\n",
    "X_test_data_new = model.transform(X_test)\n",
    "nb_features = X_train_data_new.shape[1]\n",
    "nb_features"
   ]
  },
  {
   "cell_type": "code",
   "execution_count": null,
   "metadata": {},
   "outputs": [],
   "source": [
    "classifier =  KNeighborsClassifier(n_neighbors=2, n_jobs=-1)\n",
    "classifier.fit(X_train_data_new, y_train)\n",
    "\n",
    "pred_y = classifier.predict(X_test_data_new)\n",
    "\n",
    "results = confusion_matrix(y_test, pred_y)\n",
    "error = zero_one_loss(y_test, pred_y)\n",
    "accuracy = metrics.accuracy_score(y_test, pred_y)\n",
    "\n",
    "print(results)\n",
    "print(error)\n",
    "print(accuracy)"
   ]
  },
  {
   "cell_type": "code",
   "execution_count": null,
   "metadata": {},
   "outputs": [],
   "source": [
    "from sklearn.svm import LinearSVC\n",
    "\n",
    "classifier = LinearSVC()\n",
    "classifier.fit(X_train_data_new, y_train)\n",
    "\n",
    "pred_y = classifier.predict(X_test_data_new)\n",
    "\n",
    "results = confusion_matrix(y_test, pred_y)\n",
    "error = zero_one_loss(y_test, pred_y)\n",
    "accuracy = metrics.accuracy_score(y_test, pred_y)\n",
    "\n",
    "print(results)\n",
    "print(error)\n",
    "print(accuracy)"
   ]
  },
  {
   "cell_type": "code",
   "execution_count": null,
   "metadata": {},
   "outputs": [],
   "source": [
    "run_PCA_GMM_analysis(60, X_train_data_new, X_test_data_new, y_train, y_test)"
   ]
  },
  {
   "cell_type": "code",
   "execution_count": null,
   "metadata": {},
   "outputs": [],
   "source": []
  },
  {
   "cell_type": "code",
   "execution_count": null,
   "metadata": {},
   "outputs": [],
   "source": [
    "dtc = DecisionTreeClassifier()\n",
    "dtc.fit(X_train_data_new, y_train)\n",
    "\n",
    "# predict and score on the dev set\n",
    "pred_y = dtc.predict(X_test_data_new)\n",
    "\n",
    "results = confusion_matrix(y_test, pred_y)\n",
    "error = zero_one_loss(y_test, pred_y)\n",
    "accuracy = metrics.accuracy_score(y_test, pred_y)\n",
    "\n",
    "print(results)\n",
    "print(error)\n",
    "print(accuracy)"
   ]
  },
  {
   "cell_type": "code",
   "execution_count": null,
   "metadata": {},
   "outputs": [],
   "source": [
    "dtc = DecisionTreeClassifier()\n",
    "dtc.fit(X_train, y_train)\n",
    "\n",
    "# predict and score on the dev set\n",
    "pred_y = dtc.predict(X_test)\n",
    "\n",
    "results = confusion_matrix(y_test, pred_y)\n",
    "error = zero_one_loss(y_test, pred_y)\n",
    "accuracy = metrics.accuracy_score(y_test, pred_y)\n",
    "\n",
    "print(results)\n",
    "print(error)\n",
    "print(accuracy)"
   ]
  },
  {
   "cell_type": "code",
   "execution_count": null,
   "metadata": {},
   "outputs": [],
   "source": []
  },
  {
   "cell_type": "code",
   "execution_count": null,
   "metadata": {},
   "outputs": [],
   "source": []
  },
  {
   "cell_type": "markdown",
   "metadata": {},
   "source": [
    "# Feature reduction using Ridge Reduction (and trying Emsemble Boosting on the features)"
   ]
  },
  {
   "cell_type": "code",
   "execution_count": null,
   "metadata": {},
   "outputs": [],
   "source": [
    "X_train = train_data\n",
    "y_train = train_labels\n",
    "X_test = dev_data\n",
    "y_test = dev_labels"
   ]
  },
  {
   "cell_type": "code",
   "execution_count": null,
   "metadata": {},
   "outputs": [],
   "source": [
    "# Feature reduction using Ridge regression"
   ]
  },
  {
   "cell_type": "code",
   "execution_count": null,
   "metadata": {},
   "outputs": [],
   "source": [
    "from sklearn.feature_selection import RFE\n",
    "from sklearn.linear_model import LogisticRegression\n",
    "\n",
    "model = LogisticRegression(penalty='l2', solver='liblinear',\n",
    "                                multi_class='ovr', C=0.18, max_iter=1000)\n",
    "rfe = RFE(model, 15)\n",
    "model = rfe.fit(X_train, y_train)\n",
    "\n",
    "print(\"Num Features: %s\" % (model.n_features_))\n",
    "print(\"Selected Features: %s\" % (model.support_))\n",
    "print(\"Feature Ranking: %s\" % (model.ranking_))\n",
    "\n",
    "from sklearn.linear_model import Ridge\n",
    "ridge = Ridge(alpha=1.0)\n",
    "ridge.fit(X_train, y_train)\n",
    "\n",
    "\n",
    "def pretty_print_coefs(coefs, names = None, sort = False):\n",
    "    if names == None:\n",
    "        names = [\"X%s\" % x for x in range(len(coefs))]\n",
    "    lst = zip(coefs, names)\n",
    "    if sort:\n",
    "        lst = sorted(lst,  key = lambda x:-np.abs(x[0]))\n",
    "    return \" + \".join(\"%s * %s\" % (round(coef, 3), name)\n",
    "                                   for coef, name in lst)\n",
    "\n",
    "print (\"Ridge model:\", pretty_print_coefs(ridge.coef_, names=all_cols))\n",
    "\n",
    "\n",
    "#X_train_data_new = model.transform(X_train)\n",
    "#X_test_data_new = model.transform(X_test)"
   ]
  },
  {
   "cell_type": "code",
   "execution_count": null,
   "metadata": {},
   "outputs": [],
   "source": [
    "new_cols = []\n",
    "#print(np.array(model.ranking_))\n",
    "for c in (model.ranking_):\n",
    "    if (model.support_[c]):\n",
    "        print(all_cols[c])\n",
    "        new_cols.append(all_cols[c])"
   ]
  },
  {
   "cell_type": "code",
   "execution_count": null,
   "metadata": {},
   "outputs": [],
   "source": [
    "X_train = train_data[new_cols]\n",
    "y_train = train_labels\n",
    "X_test = dev_data[new_cols]\n",
    "y_test = dev_labels"
   ]
  },
  {
   "cell_type": "code",
   "execution_count": null,
   "metadata": {},
   "outputs": [],
   "source": [
    "# explicitly require this experimental feature\n",
    "from sklearn.experimental import enable_hist_gradient_boosting  # noqa\n",
    "# now you can import normally from ensemble\n",
    "from sklearn.ensemble import HistGradientBoostingClassifier\n",
    "from sklearn.ensemble._hist_gradient_boosting.utils import (get_equivalent_estimator)\n",
    "\n",
    "est = HistGradientBoostingClassifier(learning_rate=.1,\n",
    "                max_iter=100,\n",
    "                max_bins=100,\n",
    "                max_leaf_nodes=31,\n",
    "                n_iter_no_change=None,\n",
    "                random_state=0,\n",
    "                verbose=0)\n",
    "\n",
    "est.set_params(loss='binary_crossentropy')\n",
    "\n",
    "lightgbm_est = get_equivalent_estimator(est, lib='lightgbm')\n",
    "lightgbm_est.fit(X_train, y_train)\n",
    "\n",
    "# predict and score on the dev set\n",
    "pred_y = lightgbm_est.predict(X_test)\n",
    "\n",
    "results = confusion_matrix(y_test, pred_y)\n",
    "error = zero_one_loss(y_test, pred_y)\n",
    "accuracy = metrics.accuracy_score(y_test, pred_y)\n",
    "\n",
    "print(results)\n",
    "print(error)\n",
    "print(accuracy)"
   ]
  },
  {
   "cell_type": "code",
   "execution_count": null,
   "metadata": {},
   "outputs": [],
   "source": [
    "model = LogisticRegression(penalty='l2', solver='liblinear', multi_class='ovr', C=0.18, max_iter=1000)\n",
    "model.fit(X_train, y_train)\n",
    "\n",
    "# predict and score on the dev set\n",
    "pred_y = model.predict(X_test)\n",
    "\n",
    "results = confusion_matrix(y_test, pred_y)\n",
    "error = zero_one_loss(y_test, pred_y)\n",
    "accuracy = metrics.accuracy_score(y_test, pred_y)\n",
    "\n",
    "print(results)\n",
    "print(error)\n",
    "print(accuracy)"
   ]
  },
  {
   "cell_type": "code",
   "execution_count": null,
   "metadata": {},
   "outputs": [],
   "source": []
  },
  {
   "cell_type": "markdown",
   "metadata": {},
   "source": [
    "# Misc"
   ]
  },
  {
   "cell_type": "code",
   "execution_count": null,
   "metadata": {},
   "outputs": [],
   "source": [
    "classifier =  KNeighborsClassifier(n_neighbors=2, n_jobs=-1)\n",
    "classifier.fit(X_train, y_train)\n",
    "\n",
    "pred_y = classifier.predict(X_test)\n",
    "\n",
    "results = confusion_matrix(y_test, pred_y)\n",
    "error = zero_one_loss(y_test, pred_y)\n",
    "accuracy = metrics.accuracy_score(y_test, pred_y)\n",
    "\n",
    "print(results)\n",
    "print(error)\n",
    "print(accuracy)"
   ]
  },
  {
   "cell_type": "code",
   "execution_count": null,
   "metadata": {},
   "outputs": [],
   "source": [
    "from sklearn.svm import LinearSVC\n",
    "\n",
    "classifier = LinearSVC()\n",
    "classifier.fit(X_train, y_train)\n",
    "\n",
    "pred_y = classifier.predict(X_test)\n",
    "\n",
    "results = confusion_matrix(y_test, pred_y)\n",
    "error = zero_one_loss(y_test, pred_y)\n",
    "accuracy = metrics.accuracy_score(y_test, pred_y)\n",
    "\n",
    "print(results)\n",
    "print(error)\n",
    "print(accuracy)"
   ]
  },
  {
   "cell_type": "code",
   "execution_count": null,
   "metadata": {},
   "outputs": [],
   "source": [
    "run_PCA_GMM_analysis(33, X_train, X_test, y_train, y_test)"
   ]
  },
  {
   "cell_type": "code",
   "execution_count": null,
   "metadata": {},
   "outputs": [],
   "source": [
    "from sklearn.decomposition import PCA\n",
    "\n",
    "# Use PCA to reduce dimensionality so we can visualize the dataset on a 2d plot\n",
    "pca = PCA(n_components=2)\n",
    "train_x_pca_cont = pca.fit_transform(X_train)\n",
    "\n",
    "plt.figure(figsize=(15,10))\n",
    "\n",
    "from collections import defaultdict\n",
    "\n",
    "category = defaultdict(list)\n",
    "category[0].append('not-detected')\n",
    "category[1].append('has-detections')\n",
    "\n",
    "colors = ['navy', 'turquoise', 'darkorange', 'red', 'purple']\n",
    "\n",
    "for color, cat in zip(colors, category.keys()):\n",
    "    print(color)\n",
    "    print(cat)\n",
    "    plt.scatter(train_x_pca_cont[y_train==cat, 0], train_x_pca_cont[y_train==cat, 1],\n",
    "                color=color, alpha=.8, lw=2, label=cat)\n",
    "plt.legend(loc='best', shadow=False, scatterpoints=1)\n",
    "\n",
    "plt.show()"
   ]
  },
  {
   "cell_type": "code",
   "execution_count": null,
   "metadata": {},
   "outputs": [],
   "source": [
    "dtc = DecisionTreeClassifier()\n",
    "dtc.fit(X_train, y_train)\n",
    "\n",
    "# predict and score on the dev set\n",
    "pred_y = dtc.predict(X_test)\n",
    "\n",
    "results = confusion_matrix(y_test, pred_y)\n",
    "error = zero_one_loss(y_test, pred_y)\n",
    "accuracy = metrics.accuracy_score(y_test, pred_y)\n",
    "\n",
    "print(results)\n",
    "print(error)\n",
    "print(accuracy)"
   ]
  },
  {
   "cell_type": "code",
   "execution_count": null,
   "metadata": {},
   "outputs": [],
   "source": []
  }
 ],
 "metadata": {
  "colab": {
   "collapsed_sections": [],
   "machine_shape": "hm",
   "name": "KH-notebook.ipynb",
   "provenance": []
  },
  "kernelspec": {
   "display_name": "Python 3",
   "language": "python",
   "name": "python3"
  },
  "language_info": {
   "codemirror_mode": {
    "name": "ipython",
    "version": 3
   },
   "file_extension": ".py",
   "mimetype": "text/x-python",
   "name": "python",
   "nbconvert_exporter": "python",
   "pygments_lexer": "ipython3",
   "version": "3.7.4"
  }
 },
 "nbformat": 4,
 "nbformat_minor": 4
}
