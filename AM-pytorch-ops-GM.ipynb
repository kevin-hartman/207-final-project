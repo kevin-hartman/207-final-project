{
 "cells": [
  {
   "cell_type": "code",
   "execution_count": 1,
   "metadata": {},
   "outputs": [],
   "source": [
    "# Environment setup and module import\n",
    "import torch\n",
    "import time\n",
    "from torch.utils import data\n",
    "import torch.nn as nn\n",
    "import pandas as pd\n",
    "import numpy as np\n",
    "\n",
    "device = 'cuda' if torch.cuda.is_available() else 'cpu'"
   ]
  },
  {
   "cell_type": "code",
   "execution_count": 2,
   "metadata": {},
   "outputs": [],
   "source": [
    "debug_encoding = True # if True, uses existing mini_train_encoded.csv file so this runs fast\n",
    "save_data = False # default: False. This is for diagnostic purposes.  Remove later."
   ]
  },
  {
   "cell_type": "code",
   "execution_count": 3,
   "metadata": {},
   "outputs": [],
   "source": [
    "class Model(nn.Module):\n",
    "\n",
    "    def __init__(self, numerical_cols, output_size, layers, p=0.4):\n",
    "        super().__init__()\n",
    "        self.batch_norm_num = nn.BatchNorm1d(numerical_cols)\n",
    "        all_layers = []\n",
    "        input_size = numerical_cols\n",
    "\n",
    "        for i in layers:\n",
    "            all_layers.append(nn.Linear(input_size, i))\n",
    "            all_layers.append(nn.ReLU(inplace=True))\n",
    "            all_layers.append(nn.BatchNorm1d(i))\n",
    "            all_layers.append(nn.Dropout(p))\n",
    "            input_size = i\n",
    "\n",
    "        all_layers.append(nn.Linear(layers[-1], output_size))\n",
    "\n",
    "        self.layers = nn.Sequential(*all_layers)\n",
    "\n",
    "    def forward(self, x_data):\n",
    "        x_data = self.batch_norm_num(x_data)\n",
    "        x = torch.cat([x_data], 1)\n",
    "        x = self.layers(x)\n",
    "        return x"
   ]
  },
  {
   "cell_type": "code",
   "execution_count": 4,
   "metadata": {},
   "outputs": [],
   "source": [
    "# Import DF from CSV\n",
    "\n",
    "if debug_encoding == True:\n",
    "    dataset = 'data/mini_train_encoded.csv'\n",
    "else:\n",
    "    dataset = 'data/train_encoded.csv'\n",
    "\n",
    "df = pd.read_csv(dataset)\n"
   ]
  },
  {
   "cell_type": "code",
   "execution_count": 5,
   "metadata": {},
   "outputs": [
    {
     "name": "stdout",
     "output_type": "stream",
     "text": [
      "torch.Size([312251, 150])\n",
      "torch.Size([312251])\n"
     ]
    }
   ],
   "source": [
    "# Remove hasdetections from the df.  Make it a new df for labels\n",
    "label_df = pd.DataFrame()\n",
    "label_df = df['HasDetections'].to_numpy()\n",
    "df.drop(columns=['HasDetections'])\n",
    "\n",
    "# Convert dtypes to be all identifical for pytorch\n",
    "df.astype('float64').dtypes\n",
    "\n",
    "# Iterate and collect all data values\n",
    "cols = []\n",
    "for c in df.columns:\n",
    "    cols.append(df[c].values)\n",
    "    \n",
    "data = np.stack(cols, 1)\n",
    "data = torch.tensor(data, dtype=torch.float)\n",
    "output = torch.tensor(label_df)\n",
    "\n",
    "print(data.shape)\n",
    "print(output.shape)\n",
    "\n"
   ]
  },
  {
   "cell_type": "code",
   "execution_count": 6,
   "metadata": {},
   "outputs": [
    {
     "name": "stdout",
     "output_type": "stream",
     "text": [
      "Model details:\n",
      "Model(\n",
      "  (batch_norm_num): BatchNorm1d(150, eps=1e-05, momentum=0.1, affine=True, track_running_stats=True)\n",
      "  (layers): Sequential(\n",
      "    (0): Linear(in_features=150, out_features=200, bias=True)\n",
      "    (1): ReLU(inplace=True)\n",
      "    (2): BatchNorm1d(200, eps=1e-05, momentum=0.1, affine=True, track_running_stats=True)\n",
      "    (3): Dropout(p=0.4, inplace=False)\n",
      "    (4): Linear(in_features=200, out_features=100, bias=True)\n",
      "    (5): ReLU(inplace=True)\n",
      "    (6): BatchNorm1d(100, eps=1e-05, momentum=0.1, affine=True, track_running_stats=True)\n",
      "    (7): Dropout(p=0.4, inplace=False)\n",
      "    (8): Linear(in_features=100, out_features=50, bias=True)\n",
      "    (9): ReLU(inplace=True)\n",
      "    (10): BatchNorm1d(50, eps=1e-05, momentum=0.1, affine=True, track_running_stats=True)\n",
      "    (11): Dropout(p=0.4, inplace=False)\n",
      "    (12): Linear(in_features=50, out_features=2, bias=True)\n",
      "  )\n",
      ")\n"
     ]
    }
   ],
   "source": [
    "model = Model(data.shape[1], 2, [200,100,50], p=0.4)\n",
    "print(\"Model details:\")\n",
    "print(model)\n",
    "\n",
    "# Using CrossEntropyLoss because we effectively have an unbalanced training set\n",
    "# In other words, not all inputs are normalized\n",
    "loss_function = nn.CrossEntropyLoss()\n",
    "optimizer = torch.optim.Adam(model.parameters(), lr=0.001)"
   ]
  },
  {
   "cell_type": "code",
   "execution_count": 7,
   "metadata": {},
   "outputs": [
    {
     "name": "stdout",
     "output_type": "stream",
     "text": [
      "Starting NN training.\n",
      "Training epoch:   1 loss: 0.76705360\n",
      "Training epoch:  11 loss: 0.33334520\n",
      "Training epoch:  21 loss: 0.11907870\n",
      "Training epoch:  31 loss: 0.05106500\n",
      "Training epoch:  41 loss: 0.02711911\n",
      "Training epoch:  51 loss: 0.01628671\n",
      "Training epoch:  61 loss: 0.01104274\n",
      "Training epoch:  71 loss: 0.00757197\n",
      "Training epoch:  81 loss: 0.00564454\n",
      "Training epoch:  91 loss: 0.00437213\n",
      "Training epoch: 101 loss: 0.00335900\n",
      "Training epoch: 111 loss: 0.00272951\n",
      "Training epoch: 121 loss: 0.00229450\n",
      "Training epoch: 131 loss: 0.00206917\n",
      "Training epoch: 141 loss: 0.00184323\n",
      "Training epoch: 151 loss: 0.00153360\n",
      "Training epoch: 161 loss: 0.00137807\n",
      "Training epoch: 171 loss: 0.00111983\n",
      "Training epoch: 181 loss: 0.00105158\n",
      "Training epoch: 191 loss: 0.00095014\n",
      "Training epoch: 201 loss: 0.00090918\n",
      "Training epoch: 211 loss: 0.00090220\n",
      "Training epoch: 221 loss: 0.00080984\n",
      "Training epoch: 231 loss: 0.00074440\n",
      "Training epoch: 241 loss: 0.00071771\n",
      "Training epoch: 251 loss: 0.00072337\n",
      "Training epoch: 261 loss: 0.00060679\n",
      "Training epoch: 271 loss: 0.00058811\n",
      "Training epoch: 281 loss: 0.00056578\n",
      "Training epoch: 291 loss: 0.00048137\n",
      "Training epoch: 300 loss: 0.0004963747\n",
      "NN training complete.  Minutes elapsed: 87.18503818114598\n"
     ]
    }
   ],
   "source": [
    "epochs = 300\n",
    "aggregated_losses = []\n",
    "\n",
    "print(\"Starting NN training.\")\n",
    "start = time.time()\n",
    "\n",
    "for i in range(epochs):\n",
    "    i += 1\n",
    "    y_pred = model(data)\n",
    "    single_loss = loss_function(y_pred, output)\n",
    "    aggregated_losses.append(single_loss)\n",
    "\n",
    "    if i%10 == 1:\n",
    "        print(f'Training epoch: {i:3} loss: {single_loss.item():10.8f}')\n",
    "\n",
    "    optimizer.zero_grad()\n",
    "    single_loss.backward()\n",
    "    optimizer.step()\n",
    "\n",
    "print(f'Training epoch: {i:3} loss: {single_loss.item():10.10f}')\n",
    "print(\"NN training complete.  Minutes elapsed:\", (time.time()-start)/60)"
   ]
  },
  {
   "cell_type": "code",
   "execution_count": 57,
   "metadata": {},
   "outputs": [],
   "source": [
    "# Import dev DF from CSV\n",
    "\n",
    "if debug_encoding == True:\n",
    "    dataset = 'data/mini_dev_encoded.csv'\n",
    "else:\n",
    "    dataset = 'data/dev_encoded.csv'\n",
    "\n",
    "df_dev = pd.read_csv(dataset)\n"
   ]
  },
  {
   "cell_type": "code",
   "execution_count": 58,
   "metadata": {},
   "outputs": [
    {
     "name": "stdout",
     "output_type": "stream",
     "text": [
      "torch.Size([66911, 150])\n",
      "(66911,)\n"
     ]
    }
   ],
   "source": [
    "# Remove hasdetections from the df.  Make it a new df for labels\n",
    "labels = df_dev['HasDetections'].to_numpy()\n",
    "df_dev.drop(columns=['HasDetections'])\n",
    "\n",
    "# Convert dtypes to be all identifical for pytorch\n",
    "df_dev.astype('float64').dtypes\n",
    "\n",
    "# Iterate and collect all data values\n",
    "cols = []\n",
    "for c in df_dev.columns:\n",
    "    cols.append(df_dev[c].values)\n",
    "    \n",
    "data = np.stack(cols, 1)\n",
    "data = torch.tensor(data, dtype=torch.float)\n",
    "\n",
    "print(data.shape)\n",
    "print(labels.shape)"
   ]
  },
  {
   "cell_type": "code",
   "execution_count": 59,
   "metadata": {},
   "outputs": [
    {
     "name": "stdout",
     "output_type": "stream",
     "text": [
      "(66911,)\n"
     ]
    }
   ],
   "source": [
    "# make predictions\n",
    "model.eval() # switch into eval mode\n",
    "output = model(data)\n",
    "predictions = np.argmax(output.cpu().data.numpy(), axis=1)\n",
    "print(predictions.shape)"
   ]
  },
  {
   "cell_type": "code",
   "execution_count": 60,
   "metadata": {},
   "outputs": [
    {
     "name": "stdout",
     "output_type": "stream",
     "text": [
      "accuracy: 0.9999551643227571\n",
      "[0 1 1 0 1 0 1 1 1 0]\n",
      "[0 1 1 0 1 0 1 1 1 0]\n"
     ]
    }
   ],
   "source": [
    "from sklearn import metrics\n",
    "print(\"accuracy:\", metrics.accuracy_score(y_true=labels, y_pred=predictions))\n",
    "print(predictions[:10])\n",
    "print(labels[:10])"
   ]
  },
  {
   "cell_type": "code",
   "execution_count": 8,
   "metadata": {},
   "outputs": [],
   "source": [
    "if save_data == True:\n",
    "    print(\"To implement: predictions vs actual and NN weights, once we move to test data\")"
   ]
  }
 ],
 "metadata": {
  "kernelspec": {
   "display_name": "Python 3",
   "language": "python",
   "name": "python3"
  },
  "language_info": {
   "codemirror_mode": {
    "name": "ipython",
    "version": 3
   },
   "file_extension": ".py",
   "mimetype": "text/x-python",
   "name": "python",
   "nbconvert_exporter": "python",
   "pygments_lexer": "ipython3",
   "version": "3.7.4"
  }
 },
 "nbformat": 4,
 "nbformat_minor": 2
}
