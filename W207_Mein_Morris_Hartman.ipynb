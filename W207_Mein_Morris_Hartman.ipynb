{
 "cells": [
  {
   "cell_type": "markdown",
   "metadata": {},
   "source": [
    "# Microsoft Malware Prediction\n",
    "W207 Final Project<br>"
   ]
  },
  {
   "cell_type": "markdown",
   "metadata": {},
   "source": [
    "Gunnar Mein<br>\n",
    "Andrew Morris<br>\n",
    "Kevin Hartman"
   ]
  },
  {
   "cell_type": "markdown",
   "metadata": {},
   "source": [
    "https://www.kaggle.com/c/microsoft-malware-prediction"
   ]
  },
  {
   "cell_type": "markdown",
   "metadata": {},
   "source": [
    "## Contents"
   ]
  },
  {
   "cell_type": "markdown",
   "metadata": {},
   "source": [
    "<ol>\n",
    "    <li><a href='#Summary'>The Competition: Can you predict if a machine will soon be hit with malware?</a></li>\n",
    "    <li><a href='#EDA'>Exploratory Data Analysis</a></li>\n",
    "    <li><a href='#Cleaning'>Data Wrangling and Cleaning</a></li>\n",
    "    <li><a href='#Preprocessing'>Encoding and Transformations</a></li>\n",
    "    <li><a href='#Feature Selection'>Feature Selection and Enginering</a></li>\n",
    "    <li><a href='#Training'>Model Fitting and Evaluation</a></li>\n",
    "    <li><a href='#Conclusion'>Review and Conclusion</a></li>\n",
    "</ol>\n",
    "\n",
    "We used the following classifiers that were covered in the course:\n",
    "\n",
    "- **k Nearest Neighbors** (week 2)\n",
    "- **Decision Trees**, as well as **Random Forests**, **AdaBoost**, and **Gradient Boosting** (week 4)\n",
    "- **Logistic Regression** (week 5)\n",
    "- **Neural Networks** (week 7)\n",
    "- **PCA and Gaussian Mixture Models** (weeks 9 and 10)\n",
    "\n",
    "\n",
    "We did not pursue Naive Bayes (week 3), Stochastic Gradient Descent (week 6) or Support Vector Machines (week 8)*, or due to time constraints, and because our EDA did not provide enough support to investigate these approaches.\n",
    "\n",
    "\\* Of note, I did run very limited LinearSVM() but the results showed the model just basically guessed all positives or all negatives and it was always half-right."
   ]
  },
  {
   "cell_type": "markdown",
   "metadata": {},
   "source": [
    "## Summary\n",
    "\n",
    "<a href='#Contents'>[Back to top]</a>"
   ]
  },
  {
   "cell_type": "markdown",
   "metadata": {},
   "source": [
    "## EDA\n",
    "\n",
    "<a href='#Contents'>[Back to top]</a>\n",
    "\n",
    "Raw notes:\n",
    "\n",
    "Analysis workbook for seaborn plots"
   ]
  },
  {
   "cell_type": "markdown",
   "metadata": {},
   "source": [
    "## Cleaning\n",
    "\n",
    "<a href='#Contents'>[Back to top]</a>\n",
    "\n",
    "Raw notes:\n",
    "\n",
    "Wrangling notebook"
   ]
  },
  {
   "cell_type": "markdown",
   "metadata": {},
   "source": [
    "## Preprocessing\n",
    "\n",
    "<a href='#Contents'>[Back to top]</a>\n",
    "\n",
    "Raw notes:\n",
    "\n",
    "Encoding portion of wrangler and description of why we did it"
   ]
  },
  {
   "cell_type": "markdown",
   "metadata": {},
   "source": [
    "## Feature Selection\n",
    "\n",
    "<a href='#Contents'>[Back to top]</a>\n",
    "\n",
    "Raw notes:\n",
    "\n",
    "Selection of Features using correlation, corplot analysis, and Gunnar's incremental trick\n",
    "\n",
    "Selection of Features using SelectFromModel\n",
    "\n",
    "Selection of Features using PCA (with GMM)\n",
    "\n",
    "Selection of Features using Ridge Regression (not sure if we want to include)"
   ]
  },
  {
   "cell_type": "markdown",
   "metadata": {},
   "source": [
    "## Model Fitting\n",
    "\n",
    "<a href='#Contents'>[Back to top]</a>"
   ]
  },
  {
   "cell_type": "markdown",
   "metadata": {},
   "source": [
    "## Conclusion\n",
    "\n",
    "<a href='#Contents'>[Back to top]</a>"
   ]
  },
  {
   "cell_type": "code",
   "execution_count": null,
   "metadata": {},
   "outputs": [],
   "source": []
  },
  {
   "cell_type": "code",
   "execution_count": null,
   "metadata": {},
   "outputs": [],
   "source": []
  },
  {
   "cell_type": "code",
   "execution_count": null,
   "metadata": {},
   "outputs": [],
   "source": []
  }
 ],
 "metadata": {
  "kernelspec": {
   "display_name": "Python 3",
   "language": "python",
   "name": "python3"
  },
  "language_info": {
   "codemirror_mode": {
    "name": "ipython",
    "version": 3
   },
   "file_extension": ".py",
   "mimetype": "text/x-python",
   "name": "python",
   "nbconvert_exporter": "python",
   "pygments_lexer": "ipython3",
   "version": "3.7.4"
  }
 },
 "nbformat": 4,
 "nbformat_minor": 4
}
