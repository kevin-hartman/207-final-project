{
 "cells": [
  {
   "cell_type": "markdown",
   "metadata": {},
   "source": [
    "# Microsoft Malware Prediction\n",
    "W207 Final Project<br>"
   ]
  },
  {
   "cell_type": "markdown",
   "metadata": {},
   "source": [
    "Gunnar Mein<br>\n",
    "Andrew Morris<br>\n",
    "Kevin Hartman"
   ]
  },
  {
   "cell_type": "markdown",
   "metadata": {},
   "source": [
    "https://www.kaggle.com/c/microsoft-malware-prediction"
   ]
  },
  {
   "cell_type": "markdown",
   "metadata": {},
   "source": [
    "## Contents"
   ]
  },
  {
   "cell_type": "markdown",
   "metadata": {},
   "source": [
    "<ol>\n",
    "    <li><a href='#Summary'>The Competition: Can you predict if a machine will soon be hit with malware?</a></li>\n",
    "    <li><a href='#EDA'>Exploratory Data Analysis</a></li>\n",
    "    <li><a href='#Cleaning'>Data Wrangling and Cleaning</a></li>\n",
    "    <li><a href='#Preprocessing'>Encoding and Transformations</a></li>\n",
    "    <li><a href='#Feature Selection'>Feature Selection and Enginering</a></li>\n",
    "    <li><a href='#Training'>Model Fitting and Evaluation</a></li>\n",
    "    <li><a href='#Conclusion'>Review and Conclusion</a></li>\n",
    "</ol>\n",
    "\n",
    "We used the following classifiers that were covered in the course:\n",
    "\n",
    "- **k Nearest Neighbors** (week 2)\n",
    "- **Decision Trees**, as well as **Random Forests**, **AdaBoost**, and **Gradient Boosting** (week 4)\n",
    "- **Logistic Regression** (week 5)\n",
    "- **Neural Networks** (week 7)\n",
    "- **PCA and Gaussian Mixture Models** (weeks 9 and 10)\n",
    "\n",
    "\n",
    "We did not pursue Naive Bayes (week 3), Stochastic Gradient Descent (week 6) or Support Vector Machines (week 8)*, or due to time constraints, and because our EDA did not provide enough support to investigate these approaches.\n",
    "\n",
    "\\* Of note, I did run very limited LinearSVM() but the results showed the model just basically guessed all positives or all negatives and it was always half-right."
   ]
  },
  {
   "cell_type": "markdown",
   "metadata": {},
   "source": [
    "## Summary\n",
    "\n",
    "<a href='#Contents'>[Back to top]</a>"
   ]
  },
  {
   "cell_type": "markdown",
   "metadata": {},
   "source": [
    "## EDA\n",
    "\n",
    "<a href='#Contents'>[Back to top]</a>\n",
    "\n",
    "Raw notes:\n",
    "\n",
    "Analysis workbook for seaborn plots"
   ]
  },
  {
   "cell_type": "code",
   "execution_count": 1,
   "metadata": {},
   "outputs": [],
   "source": [
    "import pandas as pd\n",
    "import numpy as np\n",
    "import matplotlib.pyplot as plt\n",
    "import seaborn as sns\n",
    "\n",
    "%matplotlib notebook\n",
    "%matplotlib inline"
   ]
  },
  {
   "cell_type": "code",
   "execution_count": 2,
   "metadata": {},
   "outputs": [],
   "source": [
    "#load with pre-informed data types for faster loading\n",
    "def load_from_raw_data(filename):\n",
    "    dtypes = {\n",
    "        'MachineIdentifier':                                    'str',\n",
    "        'ProductName':                                          'str',\n",
    "        'EngineVersion':                                        'str',\n",
    "        'AppVersion':                                           'str',\n",
    "        'AvSigVersion':                                         'str',\n",
    "        'IsBeta':                                               'int8',\n",
    "        'RtpStateBitfield':                                     'float64',\n",
    "        'IsSxsPassiveMode':                                     'int8',\n",
    "        'DefaultBrowsersIdentifier':                            'float32',\n",
    "        'AVProductStatesIdentifier':                            'float32',\n",
    "        'AVProductsInstalled':                                  'float16',\n",
    "        'AVProductsEnabled':                                    'float16',\n",
    "        'HasTpm':                                               'int8',\n",
    "        'CountryIdentifier':                                    'int16',\n",
    "        'CityIdentifier':                                       'float32',\n",
    "        'OrganizationIdentifier':                               'float16',\n",
    "        'GeoNameIdentifier':                                    'float16',\n",
    "        'LocaleEnglishNameIdentifier':                          'int16',\n",
    "        'Platform':                                             'str',\n",
    "        'Processor':                                            'str',\n",
    "        'OsVer':                                                'str',\n",
    "        'OsBuild':                                              'int16',\n",
    "        'OsSuite':                                              'int16',\n",
    "        'OsPlatformSubRelease':                                 'str',\n",
    "        'OsBuildLab':                                           'str',\n",
    "        'SkuEdition':                                           'str',\n",
    "        'IsProtected':                                          'float16',\n",
    "        'AutoSampleOptIn':                                      'int8',\n",
    "        'PuaMode':                                              'str',\n",
    "        'SMode':                                                'float16',\n",
    "        'IeVerIdentifier':                                      'float16',\n",
    "        'SmartScreen':                                          'str',\n",
    "        'Firewall':                                             'float16',\n",
    "        'UacLuaenable':                                         'float64', \n",
    "        'Census_MDC2FormFactor':                                'str',\n",
    "        'Census_DeviceFamily':                                  'str',\n",
    "        'Census_OEMNameIdentifier':                             'float32', \n",
    "        'Census_OEMModelIdentifier':                            'float32',\n",
    "        'Census_ProcessorCoreCount':                            'float16',\n",
    "        'Census_ProcessorManufacturerIdentifier':               'float16',\n",
    "        'Census_ProcessorModelIdentifier':                      'float32', \n",
    "        'Census_ProcessorClass':                                'str',\n",
    "        'Census_PrimaryDiskTotalCapacity':                      'float64', \n",
    "        'Census_PrimaryDiskTypeName':                           'str',\n",
    "        'Census_SystemVolumeTotalCapacity':                     'float64', \n",
    "        'Census_HasOpticalDiskDrive':                           'int8',\n",
    "        'Census_TotalPhysicalRAM':                              'float32',\n",
    "        'Census_ChassisTypeName':                               'str',\n",
    "        'Census_InternalPrimaryDiagonalDisplaySizeInInches':    'float32', \n",
    "        'Census_InternalPrimaryDisplayResolutionHorizontal':    'float32', \n",
    "        'Census_InternalPrimaryDisplayResolutionVertical':      'float32', \n",
    "        'Census_PowerPlatformRoleName':                         'str',\n",
    "        'Census_InternalBatteryType':                           'str',\n",
    "        'Census_InternalBatteryNumberOfCharges':                'float64', \n",
    "        'Census_OSVersion':                                     'str',\n",
    "        'Census_OSArchitecture':                                'str',\n",
    "        'Census_OSBranch':                                      'str',\n",
    "        'Census_OSBuildNumber':                                 'int16',\n",
    "        'Census_OSBuildRevision':                               'int32',\n",
    "        'Census_OSEdition':                                     'str',\n",
    "        'Census_OSSkuName':                                     'str',\n",
    "        'Census_OSInstallTypeName':                             'str',\n",
    "        'Census_OSInstallLanguageIdentifier':                   'float16',\n",
    "        'Census_OSUILocaleIdentifier':                          'int16',\n",
    "        'Census_OSWUAutoUpdateOptionsName':                     'str',\n",
    "        'Census_IsPortableOperatingSystem':                     'int8',\n",
    "        'Census_GenuineStateName':                              'str',\n",
    "        'Census_ActivationChannel':                             'str',\n",
    "        'Census_IsFlightingInternal':                           'float16',\n",
    "        'Census_IsFlightsDisabled':                             'float16',\n",
    "        'Census_FlightRing':                                    'str',\n",
    "        'Census_ThresholdOptIn':                                'float16',\n",
    "        'Census_FirmwareManufacturerIdentifier':                'float16',\n",
    "        'Census_FirmwareVersionIdentifier':                     'float32',\n",
    "        'Census_IsSecureBootEnabled':                           'int8',\n",
    "        'Census_IsWIMBootEnabled':                              'float16',\n",
    "        'Census_IsVirtualDevice':                               'float16',\n",
    "        'Census_IsTouchEnabled':                                'int8',\n",
    "        'Census_IsPenCapable':                                  'int8',\n",
    "        'Census_IsAlwaysOnAlwaysConnectedCapable':              'float16',\n",
    "        'Wdft_IsGamer':                                         'float16',\n",
    "        'Wdft_RegionIdentifier':                                'float16',\n",
    "        'HasDetections':                                        'int8'\n",
    "        }\n",
    "\n",
    "    df = pd.read_csv(filename, dtype=dtypes, engine='c')\n",
    "    return df"
   ]
  },
  {
   "cell_type": "code",
   "execution_count": 3,
   "metadata": {},
   "outputs": [],
   "source": [
    "# Custom-made class to assist with EDA on this dataset\n",
    "# The code is generalizable. However, specific decisions on plot types were made because\n",
    "# all our features are categorical\n",
    "class Analyze:\n",
    "    def __init__(self, df):\n",
    "        self.df = df\n",
    "        \n",
    "    def print_eda_summary(self):\n",
    "        #sns.set(rc={'figure.figsize':(10*2,16*8)})\n",
    "        sns.set()\n",
    "        i=0\n",
    "        fig, ax = plt.subplots(nrows=round(len(df.columns)), ncols=2, figsize=(16,5*round(len(df.columns))))\n",
    "        all_cols=[]\n",
    "        for col in df.columns:\n",
    "            #if col == 'MachineIdentifier': continue\n",
    "            all_cols.append(col)\n",
    "            max_len = df[col].nunique()\n",
    "            if max_len > 10:\n",
    "                max_len = 10\n",
    "            g=sns.countplot(y=df[col].fillna(-1), hue=df['HasDetections'], order=df[col].fillna(-1).value_counts(dropna=False).iloc[:max_len].index, ax=ax[i][0])\n",
    "            g.set_xlim(0,df.shape[0])\n",
    "            plt.tight_layout()\n",
    "            ax[i][0].title.set_text(col)\n",
    "            ax[i][0].xaxis.label.set_visible(False)\n",
    "            ax[i][1].axis(\"off\")\n",
    "            # Basic info\n",
    "            desc = df[col].describe()\n",
    "            summary = \"DESCRIPTION\\n   Name: {:}\\n   Type: {:}\\n  Count: {:}\\n Unique: {:}\\nMissing: {:}\\nPercent: {:2.3f}\".format(\n",
    "                desc.name.ljust(50), str(desc.dtype).ljust(10), df[col].count(), df[col].nunique(),\n",
    "                ('yes' if df[col].hasnans else 'no'), (1-df[col].count()/df.shape[0])*100)\n",
    "            ax[i][1].text(0, 1, summary, verticalalignment=\"top\", family='monospace', fontsize=12)\n",
    "            analysis=[]\n",
    "            if df[col].dtype.name == 'object': \n",
    "                # additional analysis for categorical variables\n",
    "                if len(df[col].str.lower().unique()) != len(df[col].unique()):\n",
    "                    analysis.append(\"- duplicates from case\\n\")\n",
    "                # look for HTML escape characters (&#x..;)\n",
    "                # and unicode characters (searching for: anything not printable)\n",
    "                df_bad = df[col][df[col].str.contains(r'[\\x00-\\x1f]|&#x\\d\\d;', regex=True, na=True)]\n",
    "                if len(df_bad)>0:\n",
    "                    analysis.append(\"- illegal chars: {:}\\n\".format(len(df_bad)))\n",
    "                # find different capitalizations of \"unknown\"\n",
    "                # if more than one present, need to read as string, turn to lowercase, then make categorical\n",
    "                df_unknown = df[col].str.lower() == 'unknown'\n",
    "                unknowns = df[col][df_unknown].unique()\n",
    "                if len(unknowns) > 1:\n",
    "                    analysis.append(\"- unknowns\\n  {:}\\n\".format(unknowns))\n",
    "                df[col] = df[col].astype('category')\n",
    "                if len(''.join(analysis)) > 0:\n",
    "                    ax[i][1].text(.5, .85, 'FINDINGS\\n'+''.join(analysis), verticalalignment=\"top\", family='monospace', fontsize=12)\n",
    "            else:\n",
    "                # Stats for numeric variables\n",
    "                statistics = \"STATS\\n   Mean: {:5.4g}\\n    Std: {:5.4g}\\n    Min: {:5.4g}\\n    25%: {:5.4g}\\n    50%: {:5.4g}\\n    75%: {:5.4g}\\n    Max: {:5.4g}\".format(\n",
    "                    desc.mean(), desc.std(), desc.min(), desc.quantile(.25), desc.quantile(.5), desc.quantile(.75), desc.max())\n",
    "                ax[i][1].text(.5, .85, statistics, verticalalignment=\"top\", family='monospace', fontsize=12)\n",
    "\n",
    "            # Top 5 and bottom 5 unique values or all unique values if < 10\n",
    "            if df[col].nunique() <= 10:\n",
    "                values = pd.DataFrame(list(zip(df[col].value_counts(dropna=False).keys().tolist(),\n",
    "                                         df[col].value_counts(dropna=False).tolist())),\n",
    "                                columns=['VALUES', 'COUNTS'])\n",
    "                values = values.to_string(index=False)\n",
    "                ax[i][1].text(0, .6, values, verticalalignment=\"top\", family='monospace', fontsize=12)\n",
    "            else:\n",
    "                values = pd.DataFrame(list(zip(df[col].value_counts(dropna=False).iloc[:5].keys().tolist(),\n",
    "                                         df[col].value_counts(dropna=False).iloc[:5].tolist())),\n",
    "                                columns=['VALUES', 'COUNTS'])\n",
    "                mid_row = pd.DataFrame({'VALUES':[\":\"],\n",
    "                                        'COUNTS':[\":\"]})\n",
    "                bot_values = pd.DataFrame(list(zip(df[col].value_counts(dropna=False).iloc[-5:].keys().tolist(),\n",
    "                                         df[col].value_counts(dropna=False).iloc[-5:].tolist())),\n",
    "                                columns=['VALUES', 'COUNTS'])\n",
    "                values = values.append(mid_row)\n",
    "                values = values.append(bot_values)\n",
    "                values = values.to_string(index=False)\n",
    "                ax[i][1].text(0, .6, values, verticalalignment=\"top\", family='monospace', fontsize=12)\n",
    "            i=i+1\n",
    "        fig.show()"
   ]
  },
  {
   "cell_type": "code",
   "execution_count": null,
   "metadata": {},
   "outputs": [],
   "source": [
    "#Analyze the datasets\n",
    "df = load_from_raw_data(\"data/train.csv\")\n",
    "analyzer = Analyze(df)\n",
    "analyzer.print_eda_summary()"
   ]
  },
  {
   "cell_type": "markdown",
   "metadata": {},
   "source": [
    "## Cleaning\n",
    "\n",
    "<a href='#Contents'>[Back to top]</a>\n",
    "\n",
    "Raw notes:\n",
    "\n",
    "Wrangling notebook"
   ]
  },
  {
   "cell_type": "markdown",
   "metadata": {},
   "source": [
    "## Preprocessing\n",
    "\n",
    "<a href='#Contents'>[Back to top]</a>\n",
    "\n",
    "Raw notes:\n",
    "\n",
    "Encoding portion of wrangler and description of why we did it"
   ]
  },
  {
   "cell_type": "markdown",
   "metadata": {},
   "source": [
    "## Feature Selection\n",
    "\n",
    "<a href='#Contents'>[Back to top]</a>\n",
    "\n",
    "Raw notes:\n",
    "\n",
    "Selection of Features using correlation, corplot analysis, and Gunnar's incremental trick\n",
    "\n",
    "Selection of Features using SelectFromModel\n",
    "\n",
    "Selection of Features using PCA (with GMM)\n",
    "\n",
    "Selection of Features using Ridge Regression (not sure if we want to include)"
   ]
  },
  {
   "cell_type": "markdown",
   "metadata": {},
   "source": [
    "## Model Fitting\n",
    "\n",
    "<a href='#Contents'>[Back to top]</a>"
   ]
  },
  {
   "cell_type": "markdown",
   "metadata": {},
   "source": [
    "## Conclusion\n",
    "\n",
    "<a href='#Contents'>[Back to top]</a>"
   ]
  },
  {
   "cell_type": "code",
   "execution_count": null,
   "metadata": {},
   "outputs": [],
   "source": []
  },
  {
   "cell_type": "code",
   "execution_count": null,
   "metadata": {},
   "outputs": [],
   "source": []
  },
  {
   "cell_type": "code",
   "execution_count": null,
   "metadata": {},
   "outputs": [],
   "source": []
  }
 ],
 "metadata": {
  "kernelspec": {
   "display_name": "Python 3",
   "language": "python",
   "name": "python3"
  },
  "language_info": {
   "codemirror_mode": {
    "name": "ipython",
    "version": 3
   },
   "file_extension": ".py",
   "mimetype": "text/x-python",
   "name": "python",
   "nbconvert_exporter": "python",
   "pygments_lexer": "ipython3",
   "version": "3.7.4"
  }
 },
 "nbformat": 4,
 "nbformat_minor": 4
}
