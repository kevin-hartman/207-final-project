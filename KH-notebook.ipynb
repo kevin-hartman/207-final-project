{
 "cells": [
  {
   "cell_type": "code",
   "execution_count": 116,
   "metadata": {},
   "outputs": [],
   "source": [
    "%matplotlib inline\n",
    "\n",
    "# Import a bunch of libraries.\n",
    "import time\n",
    "import numpy as np\n",
    "import matplotlib.pyplot as plt\n",
    "from matplotlib.ticker import MultipleLocator\n",
    "from sklearn.pipeline import Pipeline\n",
    "from sklearn.datasets import fetch_openml\n",
    "from sklearn.neighbors import KNeighborsClassifier\n",
    "from sklearn.metrics import confusion_matrix, zero_one_loss\n",
    "from sklearn.linear_model import LinearRegression\n",
    "from sklearn.naive_bayes import BernoulliNB\n",
    "from sklearn.naive_bayes import MultinomialNB\n",
    "from sklearn.naive_bayes import GaussianNB\n",
    "from sklearn.model_selection import GridSearchCV\n",
    "from sklearn.metrics import classification_report\n",
    "\n",
    "from sklearn.tree import DecisionTreeClassifier\n",
    "\n",
    "# some PCA and GMM stuff\n",
    "from sklearn import metrics\n",
    "from sklearn.decomposition import PCA\n",
    "from sklearn.cluster import KMeans\n",
    "from sklearn.mixture import GaussianMixture\n",
    "from matplotlib.colors import LogNorm\n",
    "\n",
    "import sklearn.ensemble as ske\n",
    "from sklearn.feature_selection import SelectFromModel"
   ]
  },
  {
   "cell_type": "code",
   "execution_count": 156,
   "metadata": {},
   "outputs": [],
   "source": [
    "#train_file = 'https://people.ischool.berkeley.edu/~andrew.morris/data/w209/train.csv'\n",
    "#test_file = 'https://people.ischool.berkeley.edu/~andrew.morris/data/w209/test.csv'\n",
    "#train_file = 'data/mini_train.csv'\n",
    "train_file = 'data/train.csv'\n",
    "\n",
    "#dev_file = 'data/mini_dev.csv'\n",
    "#test_file = 'data/test.csv'"
   ]
  },
  {
   "cell_type": "code",
   "execution_count": 161,
   "metadata": {},
   "outputs": [],
   "source": [
    "dtypes = {\n",
    "        'MachineIdentifier':                                    'str',\n",
    "        'ProductName':                                          'category',\n",
    "        'EngineVersion':                                        'category',\n",
    "        'AppVersion':                                           'category',\n",
    "        'AvSigVersion':                                         'category',\n",
    "        'IsBeta':                                               'int8',\n",
    "        'RtpStateBitfield':                                     'float16',\n",
    "        'IsSxsPassiveMode':                                     'int8',\n",
    "        'DefaultBrowsersIdentifier':                            'float32',\n",
    "        'AVProductStatesIdentifier':                            'float32',\n",
    "        'AVProductsInstalled':                                  'float16',\n",
    "        'AVProductsEnabled':                                    'float16',\n",
    "        'HasTpm':                                               'int8',\n",
    "        'CountryIdentifier':                                    'int16',\n",
    "        'CityIdentifier':                                       'float32',\n",
    "        'OrganizationIdentifier':                               'float16',\n",
    "        'GeoNameIdentifier':                                    'float16',\n",
    "        'LocaleEnglishNameIdentifier':                          'int16',\n",
    "        'Platform':                                             'category',\n",
    "        'Processor':                                            'category',\n",
    "        'OsVer':                                                'category',\n",
    "        'OsBuild':                                              'int16',\n",
    "        'OsSuite':                                              'int16',\n",
    "        'OsPlatformSubRelease':                                 'category',\n",
    "        'OsBuildLab':                                           'category',\n",
    "        'SkuEdition':                                           'category',\n",
    "        'IsProtected':                                          'float16',\n",
    "        'AutoSampleOptIn':                                      'int8',\n",
    "        'PuaMode':                                              'category',\n",
    "        'SMode':                                                'float16',\n",
    "        'IeVerIdentifier':                                      'float16',\n",
    "        'SmartScreen':                                          'category',\n",
    "        'Firewall':                                             'float16',\n",
    "        'UacLuaenable':                                         'float64', \n",
    "        'Census_MDC2FormFactor':                                'category',\n",
    "        'Census_DeviceFamily':                                  'category',\n",
    "        'Census_OEMNameIdentifier':                             'float32', \n",
    "        'Census_OEMModelIdentifier':                            'float32',\n",
    "        'Census_ProcessorCoreCount':                            'float16',\n",
    "        'Census_ProcessorManufacturerIdentifier':               'float16',\n",
    "        'Census_ProcessorModelIdentifier':                      'float32', \n",
    "        'Census_ProcessorClass':                                'category',\n",
    "        'Census_PrimaryDiskTotalCapacity':                      'float64', \n",
    "        'Census_PrimaryDiskTypeName':                           'category',\n",
    "        'Census_SystemVolumeTotalCapacity':                     'float64', \n",
    "        'Census_HasOpticalDiskDrive':                           'int8',\n",
    "        'Census_TotalPhysicalRAM':                              'float32',\n",
    "        'Census_ChassisTypeName':                               'category',\n",
    "        'Census_InternalPrimaryDiagonalDisplaySizeInInches':    'float32', \n",
    "        'Census_InternalPrimaryDisplayResolutionHorizontal':    'float32', \n",
    "        'Census_InternalPrimaryDisplayResolutionVertical':      'float32', \n",
    "        'Census_PowerPlatformRoleName':                         'category',\n",
    "        'Census_InternalBatteryType':                           'category',\n",
    "        'Census_InternalBatteryNumberOfCharges':                'float64', \n",
    "        'Census_OSVersion':                                     'category',\n",
    "        'Census_OSArchitecture':                                'category',\n",
    "        'Census_OSBranch':                                      'category',\n",
    "        'Census_OSBuildNumber':                                 'int16',\n",
    "        'Census_OSBuildRevision':                               'int32',\n",
    "        'Census_OSEdition':                                     'category',\n",
    "        'Census_OSSkuName':                                     'category',\n",
    "        'Census_OSInstallTypeName':                             'category',\n",
    "        'Census_OSInstallLanguageIdentifier':                   'float16',\n",
    "        'Census_OSUILocaleIdentifier':                          'int16',\n",
    "        'Census_OSWUAutoUpdateOptionsName':                     'category',\n",
    "        'Census_IsPortableOperatingSystem':                     'int8',\n",
    "        'Census_GenuineStateName':                              'category',\n",
    "        'Census_ActivationChannel':                             'category',\n",
    "        'Census_IsFlightingInternal':                           'float16',\n",
    "        'Census_IsFlightsDisabled':                             'float16',\n",
    "        'Census_FlightRing':                                    'category',\n",
    "        'Census_ThresholdOptIn':                                'float16',\n",
    "        'Census_FirmwareManufacturerIdentifier':                'float16',\n",
    "        'Census_FirmwareVersionIdentifier':                     'float32',\n",
    "        'Census_IsSecureBootEnabled':                           'int8',\n",
    "        'Census_IsWIMBootEnabled':                              'float16',\n",
    "        'Census_IsVirtualDevice':                               'float16',\n",
    "        'Census_IsTouchEnabled':                                'int8',\n",
    "        'Census_IsPenCapable':                                  'int8',\n",
    "        'Census_IsAlwaysOnAlwaysConnectedCapable':              'float16',\n",
    "        'Wdft_IsGamer':                                         'float16',\n",
    "        'Wdft_RegionIdentifier':                                'float16',\n",
    "        'HasDetections':                                        'int8'\n",
    "        }"
   ]
  },
  {
   "cell_type": "code",
   "execution_count": null,
   "metadata": {},
   "outputs": [],
   "source": [
    "train_df = pd.read_csv(train_file, dtype=dtypes)\n",
    "#test_df = pd.read_csv(test_file, dtype=dtypes)"
   ]
  },
  {
   "cell_type": "code",
   "execution_count": 169,
   "metadata": {},
   "outputs": [],
   "source": [
    "train_labels = train_df['HasDetections']\n",
    "train_ids = train_df['MachineIdentifier']\n",
    "train_data = train_df.drop(columns=['HasDetections', 'MachineIdentifier'])"
   ]
  },
  {
   "cell_type": "code",
   "execution_count": 179,
   "metadata": {},
   "outputs": [
    {
     "name": "stdout",
     "output_type": "stream",
     "text": [
      "<class 'pandas.core.frame.DataFrame'>\n",
      "RangeIndex: 8921483 entries, 0 to 8921482\n",
      "Data columns (total 81 columns):\n",
      "ProductName                                          category\n",
      "EngineVersion                                        category\n",
      "AppVersion                                           category\n",
      "AvSigVersion                                         category\n",
      "IsBeta                                               int8\n",
      "RtpStateBitfield                                     float16\n",
      "IsSxsPassiveMode                                     int8\n",
      "DefaultBrowsersIdentifier                            float32\n",
      "AVProductStatesIdentifier                            float32\n",
      "AVProductsInstalled                                  float16\n",
      "AVProductsEnabled                                    float16\n",
      "HasTpm                                               int8\n",
      "CountryIdentifier                                    int16\n",
      "CityIdentifier                                       float32\n",
      "OrganizationIdentifier                               float16\n",
      "GeoNameIdentifier                                    float16\n",
      "LocaleEnglishNameIdentifier                          int16\n",
      "Platform                                             category\n",
      "Processor                                            category\n",
      "OsVer                                                category\n",
      "OsBuild                                              int16\n",
      "OsSuite                                              int16\n",
      "OsPlatformSubRelease                                 category\n",
      "OsBuildLab                                           category\n",
      "SkuEdition                                           category\n",
      "IsProtected                                          float16\n",
      "AutoSampleOptIn                                      int8\n",
      "PuaMode                                              category\n",
      "SMode                                                float16\n",
      "IeVerIdentifier                                      float16\n",
      "SmartScreen                                          category\n",
      "Firewall                                             float16\n",
      "UacLuaenable                                         float64\n",
      "Census_MDC2FormFactor                                category\n",
      "Census_DeviceFamily                                  category\n",
      "Census_OEMNameIdentifier                             float32\n",
      "Census_OEMModelIdentifier                            float32\n",
      "Census_ProcessorCoreCount                            float16\n",
      "Census_ProcessorManufacturerIdentifier               float16\n",
      "Census_ProcessorModelIdentifier                      float32\n",
      "Census_ProcessorClass                                category\n",
      "Census_PrimaryDiskTotalCapacity                      float64\n",
      "Census_PrimaryDiskTypeName                           category\n",
      "Census_SystemVolumeTotalCapacity                     float64\n",
      "Census_HasOpticalDiskDrive                           int8\n",
      "Census_TotalPhysicalRAM                              float32\n",
      "Census_ChassisTypeName                               category\n",
      "Census_InternalPrimaryDiagonalDisplaySizeInInches    float32\n",
      "Census_InternalPrimaryDisplayResolutionHorizontal    float32\n",
      "Census_InternalPrimaryDisplayResolutionVertical      float32\n",
      "Census_PowerPlatformRoleName                         category\n",
      "Census_InternalBatteryType                           category\n",
      "Census_InternalBatteryNumberOfCharges                float64\n",
      "Census_OSVersion                                     category\n",
      "Census_OSArchitecture                                category\n",
      "Census_OSBranch                                      category\n",
      "Census_OSBuildNumber                                 int16\n",
      "Census_OSBuildRevision                               int32\n",
      "Census_OSEdition                                     category\n",
      "Census_OSSkuName                                     category\n",
      "Census_OSInstallTypeName                             category\n",
      "Census_OSInstallLanguageIdentifier                   float16\n",
      "Census_OSUILocaleIdentifier                          int16\n",
      "Census_OSWUAutoUpdateOptionsName                     category\n",
      "Census_IsPortableOperatingSystem                     int8\n",
      "Census_GenuineStateName                              category\n",
      "Census_ActivationChannel                             category\n",
      "Census_IsFlightingInternal                           float16\n",
      "Census_IsFlightsDisabled                             float16\n",
      "Census_FlightRing                                    category\n",
      "Census_ThresholdOptIn                                float16\n",
      "Census_FirmwareManufacturerIdentifier                float16\n",
      "Census_FirmwareVersionIdentifier                     float32\n",
      "Census_IsSecureBootEnabled                           int8\n",
      "Census_IsWIMBootEnabled                              float16\n",
      "Census_IsVirtualDevice                               float16\n",
      "Census_IsTouchEnabled                                int8\n",
      "Census_IsPenCapable                                  int8\n",
      "Census_IsAlwaysOnAlwaysConnectedCapable              float16\n",
      "Wdft_IsGamer                                         float16\n",
      "Wdft_RegionIdentifier                                float16\n",
      "dtypes: category(29), float16(21), float32(11), float64(4), int16(6), int32(1), int8(9)\n",
      "memory usage: 1.5 GB\n"
     ]
    }
   ],
   "source": [
    "train_data.info()"
   ]
  },
  {
   "cell_type": "code",
   "execution_count": 172,
   "metadata": {},
   "outputs": [],
   "source": [
    "#test_ids = test_df['MachineIdentifier']\n",
    "#test_data = test_df.drop(columns=['MachineIdentifier'])"
   ]
  },
  {
   "cell_type": "code",
   "execution_count": 180,
   "metadata": {},
   "outputs": [
    {
     "name": "stdout",
     "output_type": "stream",
     "text": [
      "<class 'pandas.core.frame.DataFrame'>\n",
      "RangeIndex: 7853253 entries, 0 to 7853252\n",
      "Data columns (total 81 columns):\n",
      "ProductName                                          category\n",
      "EngineVersion                                        category\n",
      "AppVersion                                           category\n",
      "AvSigVersion                                         category\n",
      "IsBeta                                               int8\n",
      "RtpStateBitfield                                     float16\n",
      "IsSxsPassiveMode                                     int8\n",
      "DefaultBrowsersIdentifier                            float32\n",
      "AVProductStatesIdentifier                            float32\n",
      "AVProductsInstalled                                  float16\n",
      "AVProductsEnabled                                    float16\n",
      "HasTpm                                               int8\n",
      "CountryIdentifier                                    int16\n",
      "CityIdentifier                                       float32\n",
      "OrganizationIdentifier                               float16\n",
      "GeoNameIdentifier                                    float16\n",
      "LocaleEnglishNameIdentifier                          int16\n",
      "Platform                                             category\n",
      "Processor                                            category\n",
      "OsVer                                                category\n",
      "OsBuild                                              int16\n",
      "OsSuite                                              int16\n",
      "OsPlatformSubRelease                                 category\n",
      "OsBuildLab                                           category\n",
      "SkuEdition                                           category\n",
      "IsProtected                                          float16\n",
      "AutoSampleOptIn                                      int8\n",
      "PuaMode                                              category\n",
      "SMode                                                float16\n",
      "IeVerIdentifier                                      float16\n",
      "SmartScreen                                          category\n",
      "Firewall                                             float16\n",
      "UacLuaenable                                         float64\n",
      "Census_MDC2FormFactor                                category\n",
      "Census_DeviceFamily                                  category\n",
      "Census_OEMNameIdentifier                             float32\n",
      "Census_OEMModelIdentifier                            float32\n",
      "Census_ProcessorCoreCount                            float16\n",
      "Census_ProcessorManufacturerIdentifier               float16\n",
      "Census_ProcessorModelIdentifier                      float32\n",
      "Census_ProcessorClass                                category\n",
      "Census_PrimaryDiskTotalCapacity                      float64\n",
      "Census_PrimaryDiskTypeName                           category\n",
      "Census_SystemVolumeTotalCapacity                     float64\n",
      "Census_HasOpticalDiskDrive                           int8\n",
      "Census_TotalPhysicalRAM                              float32\n",
      "Census_ChassisTypeName                               category\n",
      "Census_InternalPrimaryDiagonalDisplaySizeInInches    float32\n",
      "Census_InternalPrimaryDisplayResolutionHorizontal    float32\n",
      "Census_InternalPrimaryDisplayResolutionVertical      float32\n",
      "Census_PowerPlatformRoleName                         category\n",
      "Census_InternalBatteryType                           category\n",
      "Census_InternalBatteryNumberOfCharges                float64\n",
      "Census_OSVersion                                     category\n",
      "Census_OSArchitecture                                category\n",
      "Census_OSBranch                                      category\n",
      "Census_OSBuildNumber                                 int16\n",
      "Census_OSBuildRevision                               int32\n",
      "Census_OSEdition                                     category\n",
      "Census_OSSkuName                                     category\n",
      "Census_OSInstallTypeName                             category\n",
      "Census_OSInstallLanguageIdentifier                   float16\n",
      "Census_OSUILocaleIdentifier                          int16\n",
      "Census_OSWUAutoUpdateOptionsName                     category\n",
      "Census_IsPortableOperatingSystem                     int8\n",
      "Census_GenuineStateName                              category\n",
      "Census_ActivationChannel                             category\n",
      "Census_IsFlightingInternal                           float16\n",
      "Census_IsFlightsDisabled                             float16\n",
      "Census_FlightRing                                    category\n",
      "Census_ThresholdOptIn                                float16\n",
      "Census_FirmwareManufacturerIdentifier                float16\n",
      "Census_FirmwareVersionIdentifier                     float32\n",
      "Census_IsSecureBootEnabled                           int8\n",
      "Census_IsWIMBootEnabled                              float16\n",
      "Census_IsVirtualDevice                               float16\n",
      "Census_IsTouchEnabled                                int8\n",
      "Census_IsPenCapable                                  int8\n",
      "Census_IsAlwaysOnAlwaysConnectedCapable              float16\n",
      "Wdft_IsGamer                                         float16\n",
      "Wdft_RegionIdentifier                                float16\n",
      "dtypes: category(29), float16(21), float32(11), float64(4), int16(6), int32(1), int8(9)\n",
      "memory usage: 1.3 GB\n"
     ]
    }
   ],
   "source": [
    "#test_data.info()"
   ]
  },
  {
   "cell_type": "code",
   "execution_count": null,
   "metadata": {},
   "outputs": [],
   "source": [
    "#all_data = pd.concat((test_data,train_data), axis=0)"
   ]
  },
  {
   "cell_type": "code",
   "execution_count": 211,
   "metadata": {},
   "outputs": [],
   "source": [
    "numerics = ['int8', 'int16', 'int32', 'int64', 'float16', 'float32', 'float64']\n",
    "numeric_cols = [c for c,v in dtypes.items() if v in numerics and c in train_data.columns]"
   ]
  },
  {
   "cell_type": "code",
   "execution_count": 212,
   "metadata": {},
   "outputs": [],
   "source": [
    "binary_cols = [c for c in train_data.columns if all_data[c].nunique() == 2]"
   ]
  },
  {
   "cell_type": "code",
   "execution_count": 213,
   "metadata": {},
   "outputs": [],
   "source": [
    "nominal_cols = [c for c in train_data.columns if (c not in numeric_cols)]"
   ]
  },
  {
   "cell_type": "code",
   "execution_count": null,
   "metadata": {},
   "outputs": [],
   "source": [
    "# Encode nominal variables as labeled strings\n",
    "from sklearn.preprocessing import LabelEncoder\n",
    "encoder = LabelEncoder()\n",
    "for i, col in enumerate(nominal_cols):\n",
    "    train_data[col] = encoder.fit_transform(train_data[col].astype(str))\n",
    "    #test_data[col] = encoder.fit_transform(test_data[col].astype(str))"
   ]
  },
  {
   "cell_type": "code",
   "execution_count": 219,
   "metadata": {},
   "outputs": [],
   "source": [
    "# Additional encoding TBD"
   ]
  },
  {
   "cell_type": "code",
   "execution_count": null,
   "metadata": {},
   "outputs": [],
   "source": [
    "# Let's get a feeling for range of values in the nominal categories\n",
    "# todo: graph their histograms"
   ]
  },
  {
   "cell_type": "code",
   "execution_count": 214,
   "metadata": {},
   "outputs": [
    {
     "name": "stdout",
     "output_type": "stream",
     "text": [
      "The number of values for ProductName = 6\n",
      "The number of values for EngineVersion = 70\n",
      "The number of values for AppVersion = 110\n",
      "The number of values for AvSigVersion = 8531\n",
      "The number of values for Platform = 4\n",
      "The number of values for Processor = 3\n",
      "The number of values for OsVer = 58\n",
      "The number of values for OsPlatformSubRelease = 9\n",
      "The number of values for OsBuildLab = 664\n",
      "The number of values for SkuEdition = 8\n",
      "The number of values for PuaMode = 3\n",
      "The number of values for SmartScreen = 22\n",
      "The number of values for Census_MDC2FormFactor = 13\n",
      "The number of values for Census_DeviceFamily = 3\n",
      "The number of values for Census_ProcessorClass = 4\n",
      "The number of values for Census_PrimaryDiskTypeName = 5\n",
      "The number of values for Census_ChassisTypeName = 53\n",
      "The number of values for Census_PowerPlatformRoleName = 11\n",
      "The number of values for Census_InternalBatteryType = 79\n",
      "The number of values for Census_OSVersion = 469\n",
      "The number of values for Census_OSArchitecture = 3\n",
      "The number of values for Census_OSBranch = 32\n",
      "The number of values for Census_OSEdition = 33\n",
      "The number of values for Census_OSSkuName = 30\n",
      "The number of values for Census_OSInstallTypeName = 9\n",
      "The number of values for Census_OSWUAutoUpdateOptionsName = 6\n",
      "The number of values for Census_GenuineStateName = 5\n",
      "The number of values for Census_ActivationChannel = 6\n",
      "The number of values for Census_FlightRing = 10\n"
     ]
    }
   ],
   "source": [
    "for i, col in enumerate(nominal_cols):\n",
    "    print('The number of values for {:} = {:}'.format(col, (len(list(train_data[col].unique())))))"
   ]
  },
  {
   "cell_type": "code",
   "execution_count": 215,
   "metadata": {},
   "outputs": [
    {
     "name": "stdout",
     "output_type": "stream",
     "text": [
      "The correlation of ProductName with the outcome variable is 0.003182\n",
      "The correlation of EngineVersion with the outcome variable is 0.052190(*)\n",
      "The correlation of AppVersion with the outcome variable is 0.025905\n",
      "The correlation of AvSigVersion with the outcome variable is 0.054166(*)\n",
      "The correlation of Platform with the outcome variable is -0.000284\n",
      "The correlation of Processor with the outcome variable is -0.073186(*)\n",
      "The correlation of OsVer with the outcome variable is 0.000414\n",
      "The correlation of OsPlatformSubRelease with the outcome variable is 0.018257\n",
      "The correlation of OsBuildLab with the outcome variable is 0.016147\n",
      "The correlation of SkuEdition with the outcome variable is 0.017545\n",
      "The correlation of PuaMode with the outcome variable is 0.007595\n",
      "The correlation of SmartScreen with the outcome variable is -0.183976(*)\n",
      "The correlation of Census_MDC2FormFactor with the outcome variable is -0.009723\n",
      "The correlation of Census_DeviceFamily with the outcome variable is -0.012078\n",
      "The correlation of Census_ProcessorClass with the outcome variable is -0.005741\n",
      "The correlation of Census_PrimaryDiskTypeName with the outcome variable is -0.026525\n",
      "The correlation of Census_ChassisTypeName with the outcome variable is -0.019038\n",
      "The correlation of Census_PowerPlatformRoleName with the outcome variable is -0.045909\n",
      "The correlation of Census_InternalBatteryType with the outcome variable is 0.004769\n",
      "The correlation of Census_OSVersion with the outcome variable is 0.032495\n",
      "The correlation of Census_OSArchitecture with the outcome variable is -0.072757(*)\n",
      "The correlation of Census_OSBranch with the outcome variable is 0.007831\n",
      "The correlation of Census_OSEdition with the outcome variable is 0.024705\n",
      "The correlation of Census_OSSkuName with the outcome variable is 0.025726\n",
      "The correlation of Census_OSInstallTypeName with the outcome variable is -0.017660\n",
      "The correlation of Census_OSWUAutoUpdateOptionsName with the outcome variable is -0.009894\n",
      "The correlation of Census_GenuineStateName with the outcome variable is 0.004193\n",
      "The correlation of Census_ActivationChannel with the outcome variable is 0.019518\n",
      "The correlation of Census_FlightRing with the outcome variable is -0.004548\n"
     ]
    }
   ],
   "source": [
    "for i, col in enumerate(nominal_cols):\n",
    "    corr = train_labels.corr(train_data[col])\n",
    "    if(corr > 0.05  or corr < -0.05):\n",
    "        star='(*)' # flag the highly correlated nominal variables\n",
    "    else:\n",
    "        star=''\n",
    "    print('The correlation of {:} with the outcome variable is {:7.6f}{:}'.format(col, corr, star))"
   ]
  },
  {
   "cell_type": "code",
   "execution_count": 216,
   "metadata": {},
   "outputs": [
    {
     "name": "stdout",
     "output_type": "stream",
     "text": [
      "The correlation of IsBeta with the outcome variable is -0.000040\n",
      "The correlation of RtpStateBitfield with the outcome variable is 0.041486\n",
      "The correlation of IsSxsPassiveMode with the outcome variable is -0.035066\n",
      "The correlation of DefaultBrowsersIdentifier with the outcome variable is -0.002023\n",
      "The correlation of AVProductStatesIdentifier with the outcome variable is 0.117404(*)\n",
      "The correlation of AVProductsInstalled with the outcome variable is -0.149626(*)\n",
      "The correlation of AVProductsEnabled with the outcome variable is -0.041985\n",
      "The correlation of HasTpm with the outcome variable is 0.005490\n",
      "The correlation of CountryIdentifier with the outcome variable is 0.007099\n",
      "The correlation of CityIdentifier with the outcome variable is -0.002282\n",
      "The correlation of OrganizationIdentifier with the outcome variable is 0.003243\n",
      "The correlation of GeoNameIdentifier with the outcome variable is 0.003975\n",
      "The correlation of LocaleEnglishNameIdentifier with the outcome variable is 0.015575\n",
      "The correlation of OsBuild with the outcome variable is 0.024754\n",
      "The correlation of OsSuite with the outcome variable is -0.020301\n",
      "The correlation of IsProtected with the outcome variable is 0.057045(*)\n",
      "The correlation of AutoSampleOptIn with the outcome variable is 0.000502\n",
      "The correlation of SMode with the outcome variable is -0.014536\n",
      "The correlation of IeVerIdentifier with the outcome variable is 0.015907\n",
      "The correlation of Firewall with the outcome variable is 0.003036\n",
      "The correlation of UacLuaenable with the outcome variable is -0.000351\n",
      "The correlation of Census_OEMNameIdentifier with the outcome variable is -0.015537\n",
      "The correlation of Census_OEMModelIdentifier with the outcome variable is -0.004512\n",
      "The correlation of Census_ProcessorCoreCount with the outcome variable is 0.054299(*)\n",
      "The correlation of Census_ProcessorManufacturerIdentifier with the outcome variable is 0.006873\n",
      "The correlation of Census_ProcessorModelIdentifier with the outcome variable is 0.022717\n",
      "The correlation of Census_PrimaryDiskTotalCapacity with the outcome variable is 0.000170\n",
      "The correlation of Census_SystemVolumeTotalCapacity with the outcome variable is 0.014481\n",
      "The correlation of Census_HasOpticalDiskDrive with the outcome variable is 0.020842\n",
      "The correlation of Census_TotalPhysicalRAM with the outcome variable is 0.057069(*)\n",
      "The correlation of Census_InternalPrimaryDiagonalDisplaySizeInInches with the outcome variable is 0.034243\n",
      "The correlation of Census_InternalPrimaryDisplayResolutionHorizontal with the outcome variable is 0.031920\n",
      "The correlation of Census_InternalPrimaryDisplayResolutionVertical with the outcome variable is 0.013927\n",
      "The correlation of Census_InternalBatteryNumberOfCharges with the outcome variable is 0.020147\n",
      "The correlation of Census_OSBuildNumber with the outcome variable is 0.029486\n",
      "The correlation of Census_OSBuildRevision with the outcome variable is -0.009342\n",
      "The correlation of Census_OSInstallLanguageIdentifier with the outcome variable is 0.002546\n",
      "The correlation of Census_OSUILocaleIdentifier with the outcome variable is 0.001786\n",
      "The correlation of Census_IsPortableOperatingSystem with the outcome variable is 0.002497\n",
      "The correlation of Census_IsFlightingInternal with the outcome variable is 0.000980\n",
      "The correlation of Census_IsFlightsDisabled with the outcome variable is -0.002807\n",
      "The correlation of Census_ThresholdOptIn with the outcome variable is -0.000757\n",
      "The correlation of Census_FirmwareManufacturerIdentifier with the outcome variable is -0.025924\n",
      "The correlation of Census_FirmwareVersionIdentifier with the outcome variable is -0.002047\n",
      "The correlation of Census_IsSecureBootEnabled with the outcome variable is -0.001711\n",
      "The correlation of Census_IsWIMBootEnabled with the outcome variable is -0.000545\n",
      "The correlation of Census_IsVirtualDevice with the outcome variable is -0.051464(*)\n",
      "The correlation of Census_IsTouchEnabled with the outcome variable is -0.040410\n",
      "The correlation of Census_IsPenCapable with the outcome variable is -0.017177\n",
      "The correlation of Census_IsAlwaysOnAlwaysConnectedCapable with the outcome variable is -0.062780(*)\n",
      "The correlation of Wdft_IsGamer with the outcome variable is 0.053891(*)\n",
      "The correlation of Wdft_RegionIdentifier with the outcome variable is -0.022855\n"
     ]
    }
   ],
   "source": [
    "for i, col in enumerate(numeric_cols):\n",
    "    corr = train_labels.corr(train_data[col])\n",
    "    if(corr > 0.05  or corr < -0.05):\n",
    "        star='(*)' # flag the highly correlated numeric variables\n",
    "    else:\n",
    "        star=''\n",
    "    print('The correlation of {:} with the outcome variable is {:7.6f}{:}'.format(col, corr, star))"
   ]
  },
  {
   "cell_type": "code",
   "execution_count": 217,
   "metadata": {},
   "outputs": [],
   "source": [
    "correlated_cols =['EngineVersion','AvSigVersion','Processor','SmartScreen',\n",
    "                   'Census_OSArchitecture','AVProductStatesIdentifier',\n",
    "                   'AVProductsInstalled','IsProtected','Census_IsVirtualDevice',\n",
    "                   'Census_IsAlwaysOnAlwaysConnectedCapable','Wdft_IsGamer']"
   ]
  },
  {
   "cell_type": "code",
   "execution_count": 220,
   "metadata": {},
   "outputs": [],
   "source": [
    "# Impute missing values\n",
    "\n",
    "from sklearn.impute import SimpleImputer\n",
    "imputer = SimpleImputer(strategy = 'median')\n",
    "\n",
    "train_data_corr = train_data[correlated_cols]\n",
    "imputer.fit(train_data_corr)\n",
    "train_data_corr = imputer.transform(train_data_corr)\n"
   ]
  },
  {
   "cell_type": "code",
   "execution_count": 225,
   "metadata": {},
   "outputs": [],
   "source": [
    "from sklearn.model_selection import train_test_split\n",
    "X_train, X_test, y_train, y_test = train_test_split(train_data_corr, train_labels, stratify=train_labels, test_size=0.5)"
   ]
  },
  {
   "cell_type": "code",
   "execution_count": null,
   "metadata": {},
   "outputs": [],
   "source": [
    "classifier =  KNeighborsClassifier(n_neighbors=1, n_jobs=-1)\n",
    "classifier.fit(X_train, y_train)"
   ]
  },
  {
   "cell_type": "code",
   "execution_count": 228,
   "metadata": {},
   "outputs": [],
   "source": [
    "pred_y = classifier.predict(X_test)"
   ]
  },
  {
   "cell_type": "code",
   "execution_count": 230,
   "metadata": {},
   "outputs": [
    {
     "name": "stdout",
     "output_type": "stream",
     "text": [
      "[[1267620  963676]\n",
      " [ 789835 1439611]]\n",
      "0.39309850244645395\n"
     ]
    }
   ],
   "source": [
    "results = confusion_matrix(y_test, pred_y)\n",
    "error = zero_one_loss(y_test, pred_y)\n",
    "\n",
    "print(results)\n",
    "print(error)"
   ]
  },
  {
   "cell_type": "code",
   "execution_count": null,
   "metadata": {},
   "outputs": [],
   "source": [
    "# scratch area below"
   ]
  },
  {
   "cell_type": "code",
   "execution_count": 224,
   "metadata": {},
   "outputs": [
    {
     "name": "stderr",
     "output_type": "stream",
     "text": [
      "/Users/kevin/anaconda3/lib/python3.7/site-packages/sklearn/ensemble/forest.py:246: FutureWarning: The default value of n_estimators will change from 10 in version 0.20 to 100 in 0.22.\n",
      "  \"10 in version 0.20 to 100 in 0.22.\", FutureWarning)\n"
     ]
    },
    {
     "data": {
      "text/plain": [
       "array([[7.5580e+03, 7.0000e+00, 5.3447e+04],\n",
       "       [5.8950e+03, 7.0000e+00, 5.3447e+04],\n",
       "       [7.4140e+03, 5.0000e+00, 5.3447e+04],\n",
       "       ...,\n",
       "       [7.8430e+03, 7.0000e+00, 5.3447e+04],\n",
       "       [6.7630e+03, 7.0000e+00, 6.6300e+03],\n",
       "       [7.8390e+03, 1.9000e+01, 7.9450e+03]])"
      ]
     },
     "execution_count": 224,
     "metadata": {},
     "output_type": "execute_result"
    }
   ],
   "source": [
    "fsel = ske.ExtraTreesClassifier().fit(train_data_corr, train_labels)\n",
    "model = SelectFromModel(fsel, prefit=True)\n",
    "train_data_new = model.transform(train_data_corr)\n",
    "nb_features = train_data_new.shape[1]\n",
    "nb_features\n",
    "train_data_new"
   ]
  },
  {
   "cell_type": "code",
   "execution_count": null,
   "metadata": {},
   "outputs": [],
   "source": []
  }
 ],
 "metadata": {
  "kernelspec": {
   "display_name": "Python 3",
   "language": "python",
   "name": "python3"
  },
  "language_info": {
   "codemirror_mode": {
    "name": "ipython",
    "version": 3
   },
   "file_extension": ".py",
   "mimetype": "text/x-python",
   "name": "python",
   "nbconvert_exporter": "python",
   "pygments_lexer": "ipython3",
   "version": "3.7.1"
  }
 },
 "nbformat": 4,
 "nbformat_minor": 2
}
