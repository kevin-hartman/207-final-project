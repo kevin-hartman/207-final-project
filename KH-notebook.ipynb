{
  "nbformat": 4,
  "nbformat_minor": 0,
  "metadata": {
    "kernelspec": {
      "display_name": "Python 3",
      "language": "python",
      "name": "python3"
    },
    "language_info": {
      "codemirror_mode": {
        "name": "ipython",
        "version": 3
      },
      "file_extension": ".py",
      "mimetype": "text/x-python",
      "name": "python",
      "nbconvert_exporter": "python",
      "pygments_lexer": "ipython3",
      "version": "3.7.1"
    },
    "colab": {
      "name": "KH-notebook.ipynb",
      "provenance": [],
      "collapsed_sections": [],
      "machine_shape": "hm"
    }
  },
  "cells": [
    {
      "cell_type": "code",
      "metadata": {
        "id": "n1GAZs2MmUBm",
        "colab_type": "code",
        "colab": {}
      },
      "source": [
        "%matplotlib inline\n",
        "\n",
        "# Import a bunch of libraries.\n",
        "import time\n",
        "import numpy as np\n",
        "import pandas as pd\n",
        "import matplotlib.pyplot as plt\n",
        "from matplotlib.ticker import MultipleLocator\n",
        "from sklearn.pipeline import Pipeline\n",
        "from sklearn.datasets import fetch_openml\n",
        "from sklearn.neighbors import KNeighborsClassifier\n",
        "from sklearn.metrics import confusion_matrix, zero_one_loss\n",
        "from sklearn.linear_model import LinearRegression\n",
        "from sklearn.naive_bayes import BernoulliNB\n",
        "from sklearn.naive_bayes import MultinomialNB\n",
        "from sklearn.naive_bayes import GaussianNB\n",
        "from sklearn.model_selection import GridSearchCV\n",
        "from sklearn.metrics import classification_report\n",
        "\n",
        "from sklearn.tree import DecisionTreeClassifier\n",
        "\n",
        "# some PCA and GMM stuff\n",
        "from sklearn import metrics\n",
        "from sklearn.decomposition import PCA\n",
        "from sklearn.cluster import KMeans\n",
        "from sklearn.mixture import GaussianMixture\n",
        "from matplotlib.colors import LogNorm\n",
        "\n",
        "import sklearn.ensemble as ske\n",
        "from sklearn.feature_selection import SelectFromModel"
      ],
      "execution_count": 0,
      "outputs": []
    },
    {
      "cell_type": "code",
      "metadata": {
        "id": "o2pg0EDimUBq",
        "colab_type": "code",
        "colab": {}
      },
      "source": [
        "train_file = 'https://people.ischool.berkeley.edu/~andrew.morris/data/w209/train.csv'\n",
        "#test_file = 'https://people.ischool.berkeley.edu/~andrew.morris/data/w209/test.csv'\n",
        "#train_file = 'data/mini_train.csv'\n",
        "#train_file = 'data/train.csv'\n",
        "\n",
        "#dev_file = 'data/mini_dev.csv'\n",
        "#test_file = 'data/test.csv'"
      ],
      "execution_count": 0,
      "outputs": []
    },
    {
      "cell_type": "code",
      "metadata": {
        "id": "qmiMEBxomUBs",
        "colab_type": "code",
        "colab": {}
      },
      "source": [
        "dtypes = {\n",
        "        'MachineIdentifier':                                    'str',\n",
        "        'ProductName':                                          'category',\n",
        "        'EngineVersion':                                        'category',\n",
        "        'AppVersion':                                           'category',\n",
        "        'AvSigVersion':                                         'category',\n",
        "        'IsBeta':                                               'int8',\n",
        "        'RtpStateBitfield':                                     'float16',\n",
        "        'IsSxsPassiveMode':                                     'int8',\n",
        "        'DefaultBrowsersIdentifier':                            'float32',\n",
        "        'AVProductStatesIdentifier':                            'float32',\n",
        "        'AVProductsInstalled':                                  'float16',\n",
        "        'AVProductsEnabled':                                    'float16',\n",
        "        'HasTpm':                                               'int8',\n",
        "        'CountryIdentifier':                                    'int16',\n",
        "        'CityIdentifier':                                       'float32',\n",
        "        'OrganizationIdentifier':                               'float16',\n",
        "        'GeoNameIdentifier':                                    'float16',\n",
        "        'LocaleEnglishNameIdentifier':                          'int16',\n",
        "        'Platform':                                             'category',\n",
        "        'Processor':                                            'category',\n",
        "        'OsVer':                                                'category',\n",
        "        'OsBuild':                                              'int16',\n",
        "        'OsSuite':                                              'int16',\n",
        "        'OsPlatformSubRelease':                                 'category',\n",
        "        'OsBuildLab':                                           'category',\n",
        "        'SkuEdition':                                           'category',\n",
        "        'IsProtected':                                          'float16',\n",
        "        'AutoSampleOptIn':                                      'int8',\n",
        "        'PuaMode':                                              'category',\n",
        "        'SMode':                                                'float16',\n",
        "        'IeVerIdentifier':                                      'float16',\n",
        "        'SmartScreen':                                          'category',\n",
        "        'Firewall':                                             'float16',\n",
        "        'UacLuaenable':                                         'float64', \n",
        "        'Census_MDC2FormFactor':                                'category',\n",
        "        'Census_DeviceFamily':                                  'category',\n",
        "        'Census_OEMNameIdentifier':                             'float32', \n",
        "        'Census_OEMModelIdentifier':                            'float32',\n",
        "        'Census_ProcessorCoreCount':                            'float16',\n",
        "        'Census_ProcessorManufacturerIdentifier':               'float16',\n",
        "        'Census_ProcessorModelIdentifier':                      'float32', \n",
        "        'Census_ProcessorClass':                                'category',\n",
        "        'Census_PrimaryDiskTotalCapacity':                      'float64', \n",
        "        'Census_PrimaryDiskTypeName':                           'category',\n",
        "        'Census_SystemVolumeTotalCapacity':                     'float64', \n",
        "        'Census_HasOpticalDiskDrive':                           'int8',\n",
        "        'Census_TotalPhysicalRAM':                              'float32',\n",
        "        'Census_ChassisTypeName':                               'category',\n",
        "        'Census_InternalPrimaryDiagonalDisplaySizeInInches':    'float32', \n",
        "        'Census_InternalPrimaryDisplayResolutionHorizontal':    'float32', \n",
        "        'Census_InternalPrimaryDisplayResolutionVertical':      'float32', \n",
        "        'Census_PowerPlatformRoleName':                         'category',\n",
        "        'Census_InternalBatteryType':                           'category',\n",
        "        'Census_InternalBatteryNumberOfCharges':                'float64', \n",
        "        'Census_OSVersion':                                     'category',\n",
        "        'Census_OSArchitecture':                                'category',\n",
        "        'Census_OSBranch':                                      'category',\n",
        "        'Census_OSBuildNumber':                                 'int16',\n",
        "        'Census_OSBuildRevision':                               'int32',\n",
        "        'Census_OSEdition':                                     'category',\n",
        "        'Census_OSSkuName':                                     'category',\n",
        "        'Census_OSInstallTypeName':                             'category',\n",
        "        'Census_OSInstallLanguageIdentifier':                   'float16',\n",
        "        'Census_OSUILocaleIdentifier':                          'int16',\n",
        "        'Census_OSWUAutoUpdateOptionsName':                     'category',\n",
        "        'Census_IsPortableOperatingSystem':                     'int8',\n",
        "        'Census_GenuineStateName':                              'category',\n",
        "        'Census_ActivationChannel':                             'category',\n",
        "        'Census_IsFlightingInternal':                           'float16',\n",
        "        'Census_IsFlightsDisabled':                             'float16',\n",
        "        'Census_FlightRing':                                    'category',\n",
        "        'Census_ThresholdOptIn':                                'float16',\n",
        "        'Census_FirmwareManufacturerIdentifier':                'float16',\n",
        "        'Census_FirmwareVersionIdentifier':                     'float32',\n",
        "        'Census_IsSecureBootEnabled':                           'int8',\n",
        "        'Census_IsWIMBootEnabled':                              'float16',\n",
        "        'Census_IsVirtualDevice':                               'float16',\n",
        "        'Census_IsTouchEnabled':                                'int8',\n",
        "        'Census_IsPenCapable':                                  'int8',\n",
        "        'Census_IsAlwaysOnAlwaysConnectedCapable':              'float16',\n",
        "        'Wdft_IsGamer':                                         'float16',\n",
        "        'Wdft_RegionIdentifier':                                'float16',\n",
        "        'HasDetections':                                        'int8'\n",
        "        }"
      ],
      "execution_count": 0,
      "outputs": []
    },
    {
      "cell_type": "code",
      "metadata": {
        "id": "6hRyK69KmUBu",
        "colab_type": "code",
        "colab": {}
      },
      "source": [
        "train_df = pd.read_csv(train_file, dtype=dtypes)\n",
        "#test_df = pd.read_csv(test_file, dtype=dtypes)"
      ],
      "execution_count": 0,
      "outputs": []
    },
    {
      "cell_type": "code",
      "metadata": {
        "id": "SuV_NpLbmUBw",
        "colab_type": "code",
        "colab": {}
      },
      "source": [
        "train_labels = train_df['HasDetections']\n",
        "train_ids = train_df['MachineIdentifier']\n",
        "train_data = train_df.drop(columns=['HasDetections', 'MachineIdentifier'])"
      ],
      "execution_count": 0,
      "outputs": []
    },
    {
      "cell_type": "code",
      "metadata": {
        "id": "yhck9voumUBy",
        "colab_type": "code",
        "colab": {
          "base_uri": "https://localhost:8080/",
          "height": 1000
        },
        "outputId": "a5e0d252-4142-482f-d416-e30b40f02d54"
      },
      "source": [
        "train_data.info()"
      ],
      "execution_count": 6,
      "outputs": [
        {
          "output_type": "stream",
          "text": [
            "<class 'pandas.core.frame.DataFrame'>\n",
            "RangeIndex: 8921483 entries, 0 to 8921482\n",
            "Data columns (total 81 columns):\n",
            "ProductName                                          category\n",
            "EngineVersion                                        category\n",
            "AppVersion                                           category\n",
            "AvSigVersion                                         category\n",
            "IsBeta                                               int8\n",
            "RtpStateBitfield                                     float16\n",
            "IsSxsPassiveMode                                     int8\n",
            "DefaultBrowsersIdentifier                            float32\n",
            "AVProductStatesIdentifier                            float32\n",
            "AVProductsInstalled                                  float16\n",
            "AVProductsEnabled                                    float16\n",
            "HasTpm                                               int8\n",
            "CountryIdentifier                                    int16\n",
            "CityIdentifier                                       float32\n",
            "OrganizationIdentifier                               float16\n",
            "GeoNameIdentifier                                    float16\n",
            "LocaleEnglishNameIdentifier                          int16\n",
            "Platform                                             category\n",
            "Processor                                            category\n",
            "OsVer                                                category\n",
            "OsBuild                                              int16\n",
            "OsSuite                                              int16\n",
            "OsPlatformSubRelease                                 category\n",
            "OsBuildLab                                           category\n",
            "SkuEdition                                           category\n",
            "IsProtected                                          float16\n",
            "AutoSampleOptIn                                      int8\n",
            "PuaMode                                              category\n",
            "SMode                                                float16\n",
            "IeVerIdentifier                                      float16\n",
            "SmartScreen                                          category\n",
            "Firewall                                             float16\n",
            "UacLuaenable                                         float64\n",
            "Census_MDC2FormFactor                                category\n",
            "Census_DeviceFamily                                  category\n",
            "Census_OEMNameIdentifier                             float32\n",
            "Census_OEMModelIdentifier                            float32\n",
            "Census_ProcessorCoreCount                            float16\n",
            "Census_ProcessorManufacturerIdentifier               float16\n",
            "Census_ProcessorModelIdentifier                      float32\n",
            "Census_ProcessorClass                                category\n",
            "Census_PrimaryDiskTotalCapacity                      float64\n",
            "Census_PrimaryDiskTypeName                           category\n",
            "Census_SystemVolumeTotalCapacity                     float64\n",
            "Census_HasOpticalDiskDrive                           int8\n",
            "Census_TotalPhysicalRAM                              float32\n",
            "Census_ChassisTypeName                               category\n",
            "Census_InternalPrimaryDiagonalDisplaySizeInInches    float32\n",
            "Census_InternalPrimaryDisplayResolutionHorizontal    float32\n",
            "Census_InternalPrimaryDisplayResolutionVertical      float32\n",
            "Census_PowerPlatformRoleName                         category\n",
            "Census_InternalBatteryType                           category\n",
            "Census_InternalBatteryNumberOfCharges                float64\n",
            "Census_OSVersion                                     category\n",
            "Census_OSArchitecture                                category\n",
            "Census_OSBranch                                      category\n",
            "Census_OSBuildNumber                                 int16\n",
            "Census_OSBuildRevision                               int32\n",
            "Census_OSEdition                                     category\n",
            "Census_OSSkuName                                     category\n",
            "Census_OSInstallTypeName                             category\n",
            "Census_OSInstallLanguageIdentifier                   float16\n",
            "Census_OSUILocaleIdentifier                          int16\n",
            "Census_OSWUAutoUpdateOptionsName                     category\n",
            "Census_IsPortableOperatingSystem                     int8\n",
            "Census_GenuineStateName                              category\n",
            "Census_ActivationChannel                             category\n",
            "Census_IsFlightingInternal                           float16\n",
            "Census_IsFlightsDisabled                             float16\n",
            "Census_FlightRing                                    category\n",
            "Census_ThresholdOptIn                                float16\n",
            "Census_FirmwareManufacturerIdentifier                float16\n",
            "Census_FirmwareVersionIdentifier                     float32\n",
            "Census_IsSecureBootEnabled                           int8\n",
            "Census_IsWIMBootEnabled                              float16\n",
            "Census_IsVirtualDevice                               float16\n",
            "Census_IsTouchEnabled                                int8\n",
            "Census_IsPenCapable                                  int8\n",
            "Census_IsAlwaysOnAlwaysConnectedCapable              float16\n",
            "Wdft_IsGamer                                         float16\n",
            "Wdft_RegionIdentifier                                float16\n",
            "dtypes: category(29), float16(21), float32(11), float64(4), int16(6), int32(1), int8(9)\n",
            "memory usage: 1.5 GB\n"
          ],
          "name": "stdout"
        }
      ]
    },
    {
      "cell_type": "code",
      "metadata": {
        "id": "bCpwumeMmUB1",
        "colab_type": "code",
        "colab": {}
      },
      "source": [
        "#test_ids = test_df['MachineIdentifier']\n",
        "#test_data = test_df.drop(columns=['MachineIdentifier'])"
      ],
      "execution_count": 0,
      "outputs": []
    },
    {
      "cell_type": "code",
      "metadata": {
        "id": "R6ZkFFU2mUB3",
        "colab_type": "code",
        "colab": {}
      },
      "source": [
        "#test_data.info()"
      ],
      "execution_count": 0,
      "outputs": []
    },
    {
      "cell_type": "code",
      "metadata": {
        "id": "bthAwpJxmUB5",
        "colab_type": "code",
        "colab": {}
      },
      "source": [
        "#all_data = pd.concat((test_data,train_data), axis=0)"
      ],
      "execution_count": 0,
      "outputs": []
    },
    {
      "cell_type": "code",
      "metadata": {
        "id": "dI6TtXcGmUB6",
        "colab_type": "code",
        "colab": {}
      },
      "source": [
        "numerics = ['int8', 'int16', 'int32', 'int64', 'float16', 'float32', 'float64']\n",
        "numeric_cols = [c for c,v in dtypes.items() if v in numerics and c in train_data.columns]"
      ],
      "execution_count": 0,
      "outputs": []
    },
    {
      "cell_type": "code",
      "metadata": {
        "id": "p7QFAgIWmUB8",
        "colab_type": "code",
        "colab": {}
      },
      "source": [
        "binary_cols = [c for c in train_data.columns if train_data[c].nunique() == 2]"
      ],
      "execution_count": 0,
      "outputs": []
    },
    {
      "cell_type": "code",
      "metadata": {
        "id": "kn0P0y9bmUB_",
        "colab_type": "code",
        "colab": {}
      },
      "source": [
        "nominal_cols = [c for c in train_data.columns if (c not in numeric_cols)]"
      ],
      "execution_count": 0,
      "outputs": []
    },
    {
      "cell_type": "code",
      "metadata": {
        "id": "R9p0jnpxmUCB",
        "colab_type": "code",
        "colab": {}
      },
      "source": [
        "# Encode nominal variables as labeled strings\n",
        "from sklearn.preprocessing import LabelEncoder\n",
        "encoder = LabelEncoder()\n",
        "for i, col in enumerate(nominal_cols):\n",
        "    train_data[col] = encoder.fit_transform(train_data[col].astype(str))\n",
        "    #test_data[col] = encoder.fit_transform(test_data[col].astype(str))"
      ],
      "execution_count": 0,
      "outputs": []
    },
    {
      "cell_type": "code",
      "metadata": {
        "id": "RN6yjCmQmUCD",
        "colab_type": "code",
        "colab": {
          "base_uri": "https://localhost:8080/",
          "height": 663
        },
        "outputId": "05e10840-e38a-4c35-c8c6-ade79310bf43"
      },
      "source": [
        "# Additional encoding TBD\n",
        "print(\"Columns to review NaN values:\")\n",
        "train_data.isna().any()[lambda x: x]"
      ],
      "execution_count": 48,
      "outputs": [
        {
          "output_type": "stream",
          "text": [
            "Columns to review NaN values:\n"
          ],
          "name": "stdout"
        },
        {
          "output_type": "execute_result",
          "data": {
            "text/plain": [
              "RtpStateBitfield                                     True\n",
              "DefaultBrowsersIdentifier                            True\n",
              "AVProductStatesIdentifier                            True\n",
              "AVProductsInstalled                                  True\n",
              "AVProductsEnabled                                    True\n",
              "CityIdentifier                                       True\n",
              "OrganizationIdentifier                               True\n",
              "GeoNameIdentifier                                    True\n",
              "IsProtected                                          True\n",
              "SMode                                                True\n",
              "IeVerIdentifier                                      True\n",
              "Firewall                                             True\n",
              "UacLuaenable                                         True\n",
              "Census_OEMNameIdentifier                             True\n",
              "Census_OEMModelIdentifier                            True\n",
              "Census_ProcessorCoreCount                            True\n",
              "Census_ProcessorManufacturerIdentifier               True\n",
              "Census_ProcessorModelIdentifier                      True\n",
              "Census_PrimaryDiskTotalCapacity                      True\n",
              "Census_SystemVolumeTotalCapacity                     True\n",
              "Census_TotalPhysicalRAM                              True\n",
              "Census_InternalPrimaryDiagonalDisplaySizeInInches    True\n",
              "Census_InternalPrimaryDisplayResolutionHorizontal    True\n",
              "Census_InternalPrimaryDisplayResolutionVertical      True\n",
              "Census_InternalBatteryNumberOfCharges                True\n",
              "Census_OSInstallLanguageIdentifier                   True\n",
              "Census_IsFlightingInternal                           True\n",
              "Census_IsFlightsDisabled                             True\n",
              "Census_ThresholdOptIn                                True\n",
              "Census_FirmwareManufacturerIdentifier                True\n",
              "Census_FirmwareVersionIdentifier                     True\n",
              "Census_IsWIMBootEnabled                              True\n",
              "Census_IsVirtualDevice                               True\n",
              "Census_IsAlwaysOnAlwaysConnectedCapable              True\n",
              "Wdft_IsGamer                                         True\n",
              "Wdft_RegionIdentifier                                True\n",
              "dtype: bool"
            ]
          },
          "metadata": {
            "tags": []
          },
          "execution_count": 48
        }
      ]
    },
    {
      "cell_type": "code",
      "metadata": {
        "id": "Zp0u1MosmUCE",
        "colab_type": "code",
        "colab": {}
      },
      "source": [
        "# Let's get a feeling for range of values in the nominal categories\n",
        "# todo: graph their histograms"
      ],
      "execution_count": 0,
      "outputs": []
    },
    {
      "cell_type": "code",
      "metadata": {
        "id": "jzqceUBbmUCG",
        "colab_type": "code",
        "colab": {
          "base_uri": "https://localhost:8080/",
          "height": 510
        },
        "outputId": "7d3dbdc5-61af-4464-c425-2b59e419d2c0"
      },
      "source": [
        "for i, col in enumerate(nominal_cols):\n",
        "    print('The number of values for {:} = {:}'.format(col, (len(list(train_data[col].unique())))))"
      ],
      "execution_count": 16,
      "outputs": [
        {
          "output_type": "stream",
          "text": [
            "The number of values for ProductName = 6\n",
            "The number of values for EngineVersion = 70\n",
            "The number of values for AppVersion = 110\n",
            "The number of values for AvSigVersion = 8531\n",
            "The number of values for Platform = 4\n",
            "The number of values for Processor = 3\n",
            "The number of values for OsVer = 58\n",
            "The number of values for OsPlatformSubRelease = 9\n",
            "The number of values for OsBuildLab = 664\n",
            "The number of values for SkuEdition = 8\n",
            "The number of values for PuaMode = 3\n",
            "The number of values for SmartScreen = 22\n",
            "The number of values for Census_MDC2FormFactor = 13\n",
            "The number of values for Census_DeviceFamily = 3\n",
            "The number of values for Census_ProcessorClass = 4\n",
            "The number of values for Census_PrimaryDiskTypeName = 5\n",
            "The number of values for Census_ChassisTypeName = 53\n",
            "The number of values for Census_PowerPlatformRoleName = 11\n",
            "The number of values for Census_InternalBatteryType = 79\n",
            "The number of values for Census_OSVersion = 469\n",
            "The number of values for Census_OSArchitecture = 3\n",
            "The number of values for Census_OSBranch = 32\n",
            "The number of values for Census_OSEdition = 33\n",
            "The number of values for Census_OSSkuName = 30\n",
            "The number of values for Census_OSInstallTypeName = 9\n",
            "The number of values for Census_OSWUAutoUpdateOptionsName = 6\n",
            "The number of values for Census_GenuineStateName = 5\n",
            "The number of values for Census_ActivationChannel = 6\n",
            "The number of values for Census_FlightRing = 10\n"
          ],
          "name": "stdout"
        }
      ]
    },
    {
      "cell_type": "code",
      "metadata": {
        "id": "fUecsr9LmUCI",
        "colab_type": "code",
        "colab": {
          "base_uri": "https://localhost:8080/",
          "height": 510
        },
        "outputId": "2fee05d7-f40e-4367-d39c-9656e0a0d978"
      },
      "source": [
        "for i, col in enumerate(nominal_cols):\n",
        "    corr = train_labels.corr(train_data[col])\n",
        "    if(corr > 0.05  or corr < -0.05):\n",
        "        star='(*)' # flag the highly correlated nominal variables\n",
        "    else:\n",
        "        star=''\n",
        "    print('The correlation of {:} with the outcome variable is {:7.6f}{:}'.format(col, corr, star))"
      ],
      "execution_count": 17,
      "outputs": [
        {
          "output_type": "stream",
          "text": [
            "The correlation of ProductName with the outcome variable is 0.003182\n",
            "The correlation of EngineVersion with the outcome variable is 0.052190(*)\n",
            "The correlation of AppVersion with the outcome variable is 0.025905\n",
            "The correlation of AvSigVersion with the outcome variable is 0.054166(*)\n",
            "The correlation of Platform with the outcome variable is -0.000284\n",
            "The correlation of Processor with the outcome variable is -0.073186(*)\n",
            "The correlation of OsVer with the outcome variable is 0.000414\n",
            "The correlation of OsPlatformSubRelease with the outcome variable is 0.018257\n",
            "The correlation of OsBuildLab with the outcome variable is 0.016147\n",
            "The correlation of SkuEdition with the outcome variable is 0.017545\n",
            "The correlation of PuaMode with the outcome variable is 0.007595\n",
            "The correlation of SmartScreen with the outcome variable is -0.183976(*)\n",
            "The correlation of Census_MDC2FormFactor with the outcome variable is -0.009723\n",
            "The correlation of Census_DeviceFamily with the outcome variable is -0.012078\n",
            "The correlation of Census_ProcessorClass with the outcome variable is -0.005741\n",
            "The correlation of Census_PrimaryDiskTypeName with the outcome variable is -0.026525\n",
            "The correlation of Census_ChassisTypeName with the outcome variable is -0.019038\n",
            "The correlation of Census_PowerPlatformRoleName with the outcome variable is -0.045909\n",
            "The correlation of Census_InternalBatteryType with the outcome variable is 0.004769\n",
            "The correlation of Census_OSVersion with the outcome variable is 0.032495\n",
            "The correlation of Census_OSArchitecture with the outcome variable is -0.072757(*)\n",
            "The correlation of Census_OSBranch with the outcome variable is 0.007831\n",
            "The correlation of Census_OSEdition with the outcome variable is 0.024705\n",
            "The correlation of Census_OSSkuName with the outcome variable is 0.025726\n",
            "The correlation of Census_OSInstallTypeName with the outcome variable is -0.017660\n",
            "The correlation of Census_OSWUAutoUpdateOptionsName with the outcome variable is -0.009894\n",
            "The correlation of Census_GenuineStateName with the outcome variable is 0.004193\n",
            "The correlation of Census_ActivationChannel with the outcome variable is 0.019518\n",
            "The correlation of Census_FlightRing with the outcome variable is -0.004548\n"
          ],
          "name": "stdout"
        }
      ]
    },
    {
      "cell_type": "code",
      "metadata": {
        "id": "GrUC-3SMmUCK",
        "colab_type": "code",
        "colab": {
          "base_uri": "https://localhost:8080/",
          "height": 901
        },
        "outputId": "e8d264ad-a1c9-4e19-8e1b-d33834cac05f"
      },
      "source": [
        "for i, col in enumerate(numeric_cols):\n",
        "    corr = train_labels.corr(train_data[col])\n",
        "    if(corr > 0.05  or corr < -0.05):\n",
        "        star='(*)' # flag the highly correlated numeric variables\n",
        "    else:\n",
        "        star=''\n",
        "    print('The correlation of {:} with the outcome variable is {:7.6f}{:}'.format(col, corr, star))"
      ],
      "execution_count": 18,
      "outputs": [
        {
          "output_type": "stream",
          "text": [
            "The correlation of IsBeta with the outcome variable is -0.000040\n",
            "The correlation of RtpStateBitfield with the outcome variable is 0.041486\n",
            "The correlation of IsSxsPassiveMode with the outcome variable is -0.035066\n",
            "The correlation of DefaultBrowsersIdentifier with the outcome variable is -0.002023\n",
            "The correlation of AVProductStatesIdentifier with the outcome variable is 0.117404(*)\n",
            "The correlation of AVProductsInstalled with the outcome variable is -0.149626(*)\n",
            "The correlation of AVProductsEnabled with the outcome variable is -0.041985\n",
            "The correlation of HasTpm with the outcome variable is 0.005490\n",
            "The correlation of CountryIdentifier with the outcome variable is 0.007099\n",
            "The correlation of CityIdentifier with the outcome variable is -0.002282\n",
            "The correlation of OrganizationIdentifier with the outcome variable is 0.003243\n",
            "The correlation of GeoNameIdentifier with the outcome variable is 0.003975\n",
            "The correlation of LocaleEnglishNameIdentifier with the outcome variable is 0.015575\n",
            "The correlation of OsBuild with the outcome variable is 0.024754\n",
            "The correlation of OsSuite with the outcome variable is -0.020301\n",
            "The correlation of IsProtected with the outcome variable is 0.057045(*)\n",
            "The correlation of AutoSampleOptIn with the outcome variable is 0.000502\n",
            "The correlation of SMode with the outcome variable is -0.014536\n",
            "The correlation of IeVerIdentifier with the outcome variable is 0.015907\n",
            "The correlation of Firewall with the outcome variable is 0.003036\n",
            "The correlation of UacLuaenable with the outcome variable is -0.000351\n",
            "The correlation of Census_OEMNameIdentifier with the outcome variable is -0.015537\n",
            "The correlation of Census_OEMModelIdentifier with the outcome variable is -0.004512\n",
            "The correlation of Census_ProcessorCoreCount with the outcome variable is 0.054299(*)\n",
            "The correlation of Census_ProcessorManufacturerIdentifier with the outcome variable is 0.006873\n",
            "The correlation of Census_ProcessorModelIdentifier with the outcome variable is 0.022717\n",
            "The correlation of Census_PrimaryDiskTotalCapacity with the outcome variable is 0.000170\n",
            "The correlation of Census_SystemVolumeTotalCapacity with the outcome variable is 0.014481\n",
            "The correlation of Census_HasOpticalDiskDrive with the outcome variable is 0.020842\n",
            "The correlation of Census_TotalPhysicalRAM with the outcome variable is 0.057069(*)\n",
            "The correlation of Census_InternalPrimaryDiagonalDisplaySizeInInches with the outcome variable is 0.034243\n",
            "The correlation of Census_InternalPrimaryDisplayResolutionHorizontal with the outcome variable is 0.031920\n",
            "The correlation of Census_InternalPrimaryDisplayResolutionVertical with the outcome variable is 0.013927\n",
            "The correlation of Census_InternalBatteryNumberOfCharges with the outcome variable is 0.020147\n",
            "The correlation of Census_OSBuildNumber with the outcome variable is 0.029486\n",
            "The correlation of Census_OSBuildRevision with the outcome variable is -0.009342\n",
            "The correlation of Census_OSInstallLanguageIdentifier with the outcome variable is 0.002546\n",
            "The correlation of Census_OSUILocaleIdentifier with the outcome variable is 0.001786\n",
            "The correlation of Census_IsPortableOperatingSystem with the outcome variable is 0.002497\n",
            "The correlation of Census_IsFlightingInternal with the outcome variable is 0.000980\n",
            "The correlation of Census_IsFlightsDisabled with the outcome variable is -0.002807\n",
            "The correlation of Census_ThresholdOptIn with the outcome variable is -0.000757\n",
            "The correlation of Census_FirmwareManufacturerIdentifier with the outcome variable is -0.025924\n",
            "The correlation of Census_FirmwareVersionIdentifier with the outcome variable is -0.002047\n",
            "The correlation of Census_IsSecureBootEnabled with the outcome variable is -0.001711\n",
            "The correlation of Census_IsWIMBootEnabled with the outcome variable is -0.000545\n",
            "The correlation of Census_IsVirtualDevice with the outcome variable is -0.051464(*)\n",
            "The correlation of Census_IsTouchEnabled with the outcome variable is -0.040410\n",
            "The correlation of Census_IsPenCapable with the outcome variable is -0.017177\n",
            "The correlation of Census_IsAlwaysOnAlwaysConnectedCapable with the outcome variable is -0.062780(*)\n",
            "The correlation of Wdft_IsGamer with the outcome variable is 0.053891(*)\n",
            "The correlation of Wdft_RegionIdentifier with the outcome variable is -0.022855\n"
          ],
          "name": "stdout"
        }
      ]
    },
    {
      "cell_type": "code",
      "metadata": {
        "id": "OMJ-DIiamUCL",
        "colab_type": "code",
        "colab": {}
      },
      "source": [
        "correlated_cols =['EngineVersion','AvSigVersion','Processor','SmartScreen',\n",
        "                   'Census_OSArchitecture','AVProductStatesIdentifier',\n",
        "                   'AVProductsInstalled','IsProtected','Census_IsVirtualDevice',\n",
        "                   'Census_IsAlwaysOnAlwaysConnectedCapable','Wdft_IsGamer']"
      ],
      "execution_count": 0,
      "outputs": []
    },
    {
      "cell_type": "code",
      "metadata": {
        "id": "QDnGgs3nmUCN",
        "colab_type": "code",
        "colab": {}
      },
      "source": [
        "# Impute missing values\n",
        "\n",
        "from sklearn.impute import SimpleImputer\n",
        "imputer = SimpleImputer(strategy = 'median')\n",
        "\n",
        "train_data_corr = train_data[correlated_cols]\n",
        "#train_data_corr = train_data\n",
        "imputer.fit(train_data_corr)\n",
        "train_data_corr = imputer.transform(train_data_corr)\n"
      ],
      "execution_count": 0,
      "outputs": []
    },
    {
      "cell_type": "code",
      "metadata": {
        "id": "XMk5i8_PmUCP",
        "colab_type": "code",
        "colab": {}
      },
      "source": [
        ""
      ],
      "execution_count": 0,
      "outputs": []
    },
    {
      "cell_type": "code",
      "metadata": {
        "id": "L2JgCwnsmUCS",
        "colab_type": "code",
        "colab": {}
      },
      "source": [
        "# function to create new train, test and dev samples pulling data from the training set using random stratification on the outcome variable\n",
        "from sklearn.model_selection import train_test_split\n",
        "def generate_train_test_dev_minis(n, features, labels):\n",
        "    sample_size = n / features.shape[0]\n",
        "    reserved_size = 1-sample_size\n",
        "    X_train, X_test_and_dev_and_rest, y_train, y_test_and_dev_and_rest = train_test_split(features, labels, stratify=labels, test_size=reserved_size, random_state=0)\n",
        "    reserved_size = 1-X_train.shape[0]/X_test_and_dev_and_rest.shape[0]\n",
        "    X_test, X_dev_and_rest, y_test, y_dev_and_rest = train_test_split(X_test_and_dev_and_rest, y_test_and_dev_and_rest, stratify=y_test_and_dev_and_rest, test_size=reserved_size, random_state=0)\n",
        "    reserved_size = 1-X_test.shape[0]/X_dev_and_rest.shape[0]\n",
        "    X_dev, X_rest, y_dev, y_rest = train_test_split(X_dev_and_rest, y_dev_and_rest, stratify=y_dev_and_rest, test_size=reserved_size, random_state=0)\n",
        "    return X_train, X_test, X_dev, y_train, y_test, y_dev"
      ],
      "execution_count": 0,
      "outputs": []
    },
    {
      "cell_type": "code",
      "metadata": {
        "id": "82UBDnBImUCU",
        "colab_type": "code",
        "colab": {}
      },
      "source": [
        "X_train, X_test, X_dev, y_train, y_test, y_dev = generate_train_test_dev_minis(50000, train_data_corr, train_labels)"
      ],
      "execution_count": 0,
      "outputs": []
    },
    {
      "cell_type": "code",
      "metadata": {
        "id": "tr9hUqOTmUCW",
        "colab_type": "code",
        "colab": {
          "base_uri": "https://localhost:8080/",
          "height": 68
        },
        "outputId": "b7dd4a77-42d6-4d98-f7be-5bc1fe4e81c6"
      },
      "source": [
        "print(X_train.shape)\n",
        "print(X_test.shape)\n",
        "print(X_dev.shape)"
      ],
      "execution_count": 29,
      "outputs": [
        {
          "output_type": "stream",
          "text": [
            "(50000, 11)\n",
            "(50000, 11)\n",
            "(50000, 11)\n"
          ],
          "name": "stdout"
        }
      ]
    },
    {
      "cell_type": "code",
      "metadata": {
        "id": "Z0PpXeN-mUCX",
        "colab_type": "code",
        "colab": {
          "base_uri": "https://localhost:8080/",
          "height": 68
        },
        "outputId": "b89ac3be-1952-49bc-864d-e1741bdb8fa7"
      },
      "source": [
        "classifier =  KNeighborsClassifier(n_neighbors=2, n_jobs=-1)\n",
        "classifier.fit(X_train, y_train)"
      ],
      "execution_count": 39,
      "outputs": [
        {
          "output_type": "execute_result",
          "data": {
            "text/plain": [
              "KNeighborsClassifier(algorithm='auto', leaf_size=30, metric='minkowski',\n",
              "                     metric_params=None, n_jobs=-1, n_neighbors=2, p=2,\n",
              "                     weights='uniform')"
            ]
          },
          "metadata": {
            "tags": []
          },
          "execution_count": 39
        }
      ]
    },
    {
      "cell_type": "code",
      "metadata": {
        "id": "nl-mUO3imUCZ",
        "colab_type": "code",
        "colab": {}
      },
      "source": [
        "pred_y = classifier.predict(X_test)"
      ],
      "execution_count": 0,
      "outputs": []
    },
    {
      "cell_type": "code",
      "metadata": {
        "id": "iNsk4VmdmUCb",
        "colab_type": "code",
        "colab": {
          "base_uri": "https://localhost:8080/",
          "height": 68
        },
        "outputId": "b9946722-1a03-40aa-efe4-21b1a2513e7e"
      },
      "source": [
        "results = confusion_matrix(y_test, pred_y)\n",
        "error = zero_one_loss(y_test, pred_y)\n",
        "\n",
        "print(results)\n",
        "print(error)"
      ],
      "execution_count": 41,
      "outputs": [
        {
          "output_type": "stream",
          "text": [
            "[[19234  5776]\n",
            " [16555  8435]]\n",
            "0.44662\n"
          ],
          "name": "stdout"
        }
      ]
    },
    {
      "cell_type": "code",
      "metadata": {
        "id": "3PiDp3-xmUCd",
        "colab_type": "code",
        "colab": {}
      },
      "source": [
        "# scratch area below"
      ],
      "execution_count": 0,
      "outputs": []
    },
    {
      "cell_type": "code",
      "metadata": {
        "id": "rXP_J1jdmUCf",
        "colab_type": "code",
        "colab": {}
      },
      "source": [
        "#fsel = ske.ExtraTreesClassifier().fit(train_data_corr, train_labels)\n",
        "#model = SelectFromModel(fsel, prefit=True)\n",
        "#train_data_new = model.transform(train_data_corr)\n",
        "#nb_features = train_data_new.shape[1]\n",
        "#nb_features\n",
        "#train_data_new"
      ],
      "execution_count": 0,
      "outputs": []
    }
  ]
}