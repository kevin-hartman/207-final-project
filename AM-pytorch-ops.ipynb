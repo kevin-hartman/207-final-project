{
 "cells": [
  {
   "cell_type": "code",
   "execution_count": 1,
   "metadata": {},
   "outputs": [],
   "source": [
    "# Environment setup and module import\n",
    "import torch\n",
    "from torch.utils import data\n",
    "import pandas as pd\n",
    "import numpy as np\n",
    "\n",
    "device = 'cuda' if torch.cuda.is_available() else 'cpu'"
   ]
  },
  {
   "cell_type": "code",
   "execution_count": 2,
   "metadata": {},
   "outputs": [],
   "source": [
    "debug_encoding = True # if True, uses existing mini_train_encoded.csv file so this runs fast\n",
    "save_data = True # default: False. This is for diagnostic purposes.  Remove later."
   ]
  },
  {
   "cell_type": "code",
   "execution_count": 3,
   "metadata": {},
   "outputs": [],
   "source": [
    "class Dataset(data.Dataset):\n",
    "  def __init__(self, list_IDs, labels):\n",
    "        self.labels = labels\n",
    "        self.list_IDs = list_IDs\n",
    "\n",
    "  def __len__(self):\n",
    "        return len(self.list_IDs)\n",
    "\n",
    "  def __getitem__(self, index):\n",
    "        # Select sample\n",
    "        ID = self.list_IDs[index]\n",
    "\n",
    "        # Load data and get label\n",
    "        x = torch.load('data/' + ID + '.pt')\n",
    "        y = self.labels[ID]\n",
    "\n",
    "        return x, y"
   ]
  },
  {
   "cell_type": "code",
   "execution_count": 4,
   "metadata": {},
   "outputs": [],
   "source": [
    "params = {'batch_size': 10,\n",
    "          'shuffle': True,\n",
    "          'num_workers': 6}\n",
    "max_epochs = 100"
   ]
  },
  {
   "cell_type": "code",
   "execution_count": 5,
   "metadata": {},
   "outputs": [],
   "source": [
    "# Import DF from CSV\n",
    "\n",
    "if debug_encoding == True:\n",
    "    dataset = 'data/mini_train_encoded.csv'\n",
    "else:\n",
    "    dataset = 'data/train_encoded.csv'\n",
    "\n",
    "df = pd.read_csv(dataset)\n"
   ]
  },
  {
   "cell_type": "code",
   "execution_count": 6,
   "metadata": {},
   "outputs": [
    {
     "name": "stdout",
     "output_type": "stream",
     "text": [
      "(312251,)\n",
      "(312251,)\n"
     ]
    }
   ],
   "source": [
    "# Remove hasdetections from the df.  Make it a new df for labels.\n",
    "label_df = pd.DataFrame()\n",
    "label_df = df['HasDetections'].to_numpy()\n",
    "df.drop(columns=['HasDetections'])\n",
    "\n",
    "\n",
    "# Flatten all other variables into a single element\n",
    "train_df = pd.DataFrame()\n",
    "df['concat'] = pd.Series(df.fillna('').values.tolist()).map(lambda x: ''.join(map(str,x)))\n",
    "df['concat'] = df['concat'].str.replace('.','. ')\n",
    "df['concat'] = df['concat'].str.replace('-','')\n",
    "\n",
    "train_df = df['concat'].to_numpy()\n",
    "\n",
    "print(label_df.shape)\n",
    "print(train_df.shape)\n"
   ]
  },
  {
   "cell_type": "code",
   "execution_count": 7,
   "metadata": {},
   "outputs": [],
   "source": [
    "# Generators\n",
    "training_set = Dataset(train_df, label_df)\n",
    "training_generator = data.DataLoader(training_set, **params)\n",
    "\n",
    "#validation_set = Dataset(partition['validation'], labels)\n",
    "#validation_generator = data.DataLoader(validation_set, **params)\n",
    "\n",
    "# Loop over epochs\n",
    "#for epoch in range(max_epochs):\n",
    "    # Training\n",
    "#    for local_batch, local_labels in training_generator:\n",
    "        # Transfer to GPU\n",
    "#        local_batch, local_labels = local_batch.to(device), local_labels.to(device)\n",
    "\n",
    "        # Model computations\n",
    "#        [...]\n",
    "\n",
    "    # Validation\n",
    "#    with torch.set_grad_enabled(False):\n",
    "#        for local_batch, local_labels in validation_generator:\n",
    "#            # Transfer to GPU\n",
    "#            local_batch, local_labels = local_batch.to(device), local_labels.to(device)\n",
    "\n",
    "#            # Model computations\n",
    "#            [...]"
   ]
  },
  {
   "cell_type": "code",
   "execution_count": 8,
   "metadata": {},
   "outputs": [],
   "source": [
    "if save_data == True:\n",
    "    pd.DataFrame(label_df).to_csv(\"data/pt-temp-label.csv\")\n",
    "    pd.DataFrame(train_df).to_csv(\"data/pt-temp-train.csv\")"
   ]
  }
 ],
 "metadata": {
  "kernelspec": {
   "display_name": "Python 3",
   "language": "python",
   "name": "python3"
  },
  "language_info": {
   "codemirror_mode": {
    "name": "ipython",
    "version": 3
   },
   "file_extension": ".py",
   "mimetype": "text/x-python",
   "name": "python",
   "nbconvert_exporter": "python",
   "pygments_lexer": "ipython3",
   "version": "3.7.4"
  }
 },
 "nbformat": 4,
 "nbformat_minor": 2
}
