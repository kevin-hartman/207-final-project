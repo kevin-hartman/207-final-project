{
 "cells": [
  {
   "cell_type": "code",
   "execution_count": 1,
   "metadata": {},
   "outputs": [],
   "source": [
    "# Environment setup and module import\n",
    "from __future__ import print_function\n",
    "import torch\n",
    "import torch.optim as optim\n",
    "import torch.nn as nn\n",
    "import pandas as pd\n",
    "from sklearn import preprocessing\n",
    "from sklearn.preprocessing import OneHotEncoder\n",
    "\n",
    "device = 'cuda' if torch.cuda.is_available() else 'cpu'\n",
    "dtype = torch.float"
   ]
  },
  {
   "cell_type": "code",
   "execution_count": 2,
   "metadata": {},
   "outputs": [],
   "source": [
    "# Import DF from CSV\n",
    "\n",
    "# train_file = 'data/mini_train_encoded.csv'\n",
    "train_file = 'data/train_encoded.csv'\n",
    "train_label_file = 'data/train_labels.csv'\n",
    "train_df = pd.read_csv(train_file, low_memory=False)\n",
    "train_label = pd.read_csv(train_label_file, low_memory=False)\n"
   ]
  },
  {
   "cell_type": "code",
   "execution_count": null,
   "metadata": {},
   "outputs": [],
   "source": [
    "# Perform whatever conversions are necessary to get everything into proper format: ndarray\n",
    "\n",
    "\n",
    "# Assign correct labels\n",
    "x_train, y_train = train2.to_numpy(), train_label.to_numpy()\n",
    "\n"
   ]
  },
  {
   "cell_type": "code",
   "execution_count": null,
   "metadata": {},
   "outputs": [],
   "source": [
    "# Testing Cell\n",
    "print(x_train.shape)\n",
    "print(y_train.shape)"
   ]
  },
  {
   "cell_type": "code",
   "execution_count": null,
   "metadata": {},
   "outputs": [],
   "source": [
    "# Pytorch setup\n",
    "\n",
    "# N is batch size; D_in is input dimension;\n",
    "# H is hidden dimension; D_out is output dimension.\n",
    "N, D_in, H, D_out = 81, x_train.shape[1], 100, 2\n",
    "\n",
    "# Create random input and output data\n",
    "y = torch.randn(N, D_out, device=device, dtype=dtype)\n",
    "\n",
    "# Randomly initialize weights\n",
    "w1 = torch.randn(D_in, H, device=device, dtype=dtype)\n",
    "w2 = torch.randn(H, D_out, device=device, dtype=dtype)\n",
    "\n",
    "# To do: figure out appropriate learning rate\n",
    "learning_rate = 1e-5\n",
    "\n",
    "# To do: make sure formatting is correct\n",
    "#x_train_tensor = torch.from_numpy(x_train).float().to(device)\n",
    "#y_train_tensor = torch.from_numpy(y_train).float().to(device)\n",
    "\n"
   ]
  },
  {
   "cell_type": "code",
   "execution_count": null,
   "metadata": {},
   "outputs": [],
   "source": [
    "# Placeholder for future operations\n",
    "#for t in range(500):\n",
    "#    # Forward pass: compute predicted y\n",
    "#    h = x.mm(w1)\n",
    "#    h_relu = h.clamp(min=0)\n",
    "#    y_pred = h_relu.mm(w2)\n",
    "#\n",
    "#    # Compute and print loss\n",
    "#    loss = (y_pred - y).pow(2).sum().item()\n",
    "#    if t % 100 == 99:\n",
    "#        print(t, loss)\n",
    "#\n",
    "#    # Backprop to compute gradients of w1 and w2 with respect to loss\n",
    "#    grad_y_pred = 2.0 * (y_pred - y)\n",
    "#    grad_w2 = h_relu.t().mm(grad_y_pred)\n",
    "#    grad_h_relu = grad_y_pred.mm(w2.t())\n",
    "#    grad_h = grad_h_relu.clone()\n",
    "#    grad_h[h < 0] = 0\n",
    "#    grad_w1 = x.t().mm(grad_h)\n",
    "#\n",
    "#    # Update weights using gradient descent\n",
    "#    w1 -= learning_rate * grad_w1\n",
    "#    w2 -= learning_rate * grad_w2"
   ]
  },
  {
   "cell_type": "code",
   "execution_count": null,
   "metadata": {},
   "outputs": [],
   "source": []
  }
 ],
 "metadata": {
  "kernelspec": {
   "display_name": "Python 3",
   "language": "python",
   "name": "python3"
  },
  "language_info": {
   "codemirror_mode": {
    "name": "ipython",
    "version": 3
   },
   "file_extension": ".py",
   "mimetype": "text/x-python",
   "name": "python",
   "nbconvert_exporter": "python",
   "pygments_lexer": "ipython3",
   "version": "3.7.4"
  }
 },
 "nbformat": 4,
 "nbformat_minor": 2
}
