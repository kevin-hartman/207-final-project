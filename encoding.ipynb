{
 "cells": [
  {
   "cell_type": "code",
   "execution_count": 17,
   "metadata": {},
   "outputs": [],
   "source": [
    "# Environment setup and module import\n",
    "from __future__ import print_function\n",
    "import pandas as pd\n",
    "import numpy as np\n",
    "from sklearn import preprocessing\n",
    "from sklearn.preprocessing import OneHotEncoder\n"
   ]
  },
  {
   "cell_type": "code",
   "execution_count": 61,
   "metadata": {},
   "outputs": [],
   "source": [
    "# Import DF from CSV\n",
    "\n",
    "train_file = 'data/train_clean.csv'\n",
    "#train_file = 'data/mini_train.csv'\n",
    "train_df = pd.read_csv(train_file)\n"
   ]
  },
  {
   "cell_type": "code",
   "execution_count": 62,
   "metadata": {},
   "outputs": [],
   "source": [
    "def reduce_mem(df, verbose=True):\n",
    "    start_mem = df.memory_usage().sum() / 1024**2\n",
    "    print('Memory usage of dataframe is {:.2f} MB'.format(start_mem))\n",
    "    \n",
    "    for col in df.columns:\n",
    "        col_type = df[col].dtype\n",
    "        \n",
    "        if col_type != object:\n",
    "            c_min = df[col].min()\n",
    "            c_max = df[col].max()\n",
    "            if str(col_type)[:3] == 'int':\n",
    "                if c_min > np.iinfo(np.int8).min and c_max < np.iinfo(np.int8).max:\n",
    "                    df[col] = df[col].astype(np.int8)\n",
    "                elif c_min > np.iinfo(np.int16).min and c_max < np.iinfo(np.int16).max:\n",
    "                    df[col] = df[col].astype(np.int16)\n",
    "                elif c_min > np.iinfo(np.int32).min and c_max < np.iinfo(np.int32).max:\n",
    "                    df[col] = df[col].astype(np.int32)\n",
    "                elif c_min > np.iinfo(np.int64).min and c_max < np.iinfo(np.int64).max:\n",
    "                    df[col] = df[col].astype(np.int64)  \n",
    "            else:\n",
    "                if c_min > np.finfo(np.float16).min and c_max < np.finfo(np.float16).max:\n",
    "                    df[col] = df[col].astype(np.float16)\n",
    "                elif c_min > np.finfo(np.float32).min and c_max < np.finfo(np.float32).max:\n",
    "                    df[col] = df[col].astype(np.float32)\n",
    "                else:\n",
    "                    df[col] = df[col].astype(np.float64)\n",
    "        else:\n",
    "            df[col] = df[col].astype('category')\n",
    "\n",
    "    end_mem = df.memory_usage().sum() / 1024**2\n",
    "    print('Memory usage after optimization is: {:.2f} MB'.format(end_mem))\n",
    "    print('Decreased by {:.1f}%'.format(100 * (start_mem - end_mem) / start_mem))\n",
    "    \n",
    "    return df"
   ]
  },
  {
   "cell_type": "code",
   "execution_count": 63,
   "metadata": {},
   "outputs": [
    {
     "name": "stdout",
     "output_type": "stream",
     "text": [
      "Memory usage of dataframe is 7155.39 MB\n",
      "Memory usage after optimization is: 1723.87 MB\n",
      "Decreased by 75.9%\n"
     ]
    }
   ],
   "source": [
    "train_df = reduce_mem(train_df)"
   ]
  },
  {
   "cell_type": "code",
   "execution_count": 64,
   "metadata": {},
   "outputs": [
    {
     "data": {
      "text/plain": [
       "15"
      ]
     },
     "execution_count": 64,
     "metadata": {},
     "output_type": "execute_result"
    }
   ],
   "source": [
    "import gc\n",
    "gc.collect()"
   ]
  },
  {
   "cell_type": "code",
   "execution_count": null,
   "metadata": {},
   "outputs": [],
   "source": []
  },
  {
   "cell_type": "code",
   "execution_count": 65,
   "metadata": {},
   "outputs": [],
   "source": [
    "numerics = ['int8', 'int16', 'int32', 'int64', 'float16', 'float32', 'float64']\n",
    "numeric_cols = [c for c,v in train_df.dtypes.items() if v in numerics and c in train_df.columns]\n",
    "#numeric_cols"
   ]
  },
  {
   "cell_type": "code",
   "execution_count": 66,
   "metadata": {},
   "outputs": [],
   "source": [
    "nominal_cols = [c for c in train_df.columns if (c not in numeric_cols)]\n",
    "#nominal_cols"
   ]
  },
  {
   "cell_type": "code",
   "execution_count": 67,
   "metadata": {},
   "outputs": [],
   "source": [
    "binary_cols = [c for c in train_df.columns if (train_df[c].nunique() == 2 and c not in nominal_cols)]\n",
    "#binary_cols"
   ]
  },
  {
   "cell_type": "code",
   "execution_count": 68,
   "metadata": {},
   "outputs": [
    {
     "data": {
      "text/plain": [
       "['IsBeta',\n",
       " 'IsSxsPassiveMode',\n",
       " 'HasTpm',\n",
       " 'AutoSampleOptIn',\n",
       " 'Census_HasOpticalDiskDrive',\n",
       " 'Census_IsPortableOperatingSystem',\n",
       " 'Census_IsSecureBootEnabled',\n",
       " 'Census_IsTouchEnabled',\n",
       " 'Census_IsPenCapable',\n",
       " 'HasDetections',\n",
       " 'Rtp_NaN',\n",
       " 'AvSigVersion_major',\n",
       " 'AvSigVersion_minor',\n",
       " 'AvSigVersion_build1',\n",
       " 'AvSigVersion_build2',\n",
       " 'Census_OSVersion_major',\n",
       " 'Census_OSVersion_minor',\n",
       " 'Census_OSVersion_build1',\n",
       " 'Census_OSVersion_build2',\n",
       " 'Rtp_0',\n",
       " 'Rtp_1',\n",
       " 'Rtp_2',\n",
       " 'Rtp_3',\n",
       " 'Rtp_5']"
      ]
     },
     "execution_count": 68,
     "metadata": {},
     "output_type": "execute_result"
    }
   ],
   "source": [
    "binary_cols"
   ]
  },
  {
   "cell_type": "code",
   "execution_count": 70,
   "metadata": {},
   "outputs": [
    {
     "name": "stdout",
     "output_type": "stream",
     "text": [
      "done encoding version columns\n"
     ]
    }
   ],
   "source": [
    "#\n",
    "# encode features with version numbers\n",
    "#\n",
    "def make_encoded_version_column(df, col):\n",
    "    df[col] = df[col+'_major'] * 10000000 + df[col+'_minor'] * 100000 + df[col+'_build1'] * 1000 + df[col+'_build2']\n",
    "    return df#.drop(columns=[col+'_major', col+'_minor',col+'_build1', col+'_build2'])\n",
    "\n",
    "train_df = make_encoded_version_column(train_df, \"EngineVersion\")\n",
    "train_df = make_encoded_version_column(train_df, \"AppVersion\")\n",
    "train_df = make_encoded_version_column(train_df, \"AvSigVersion\")\n",
    "train_df = make_encoded_version_column(train_df, \"Census_OSVersion\")\n",
    "print(\"done encoding version columns\")"
   ]
  },
  {
   "cell_type": "code",
   "execution_count": 75,
   "metadata": {},
   "outputs": [
    {
     "data": {
      "text/plain": [
       "array([40404004])"
      ]
     },
     "execution_count": 75,
     "metadata": {},
     "output_type": "execute_result"
    }
   ],
   "source": [
    "#train_df['Census_OSVersion'].unique()\n",
    "#train_df['AvSigVersion'].unique()\n",
    "#train_df['EngineVersion'].unique()\n",
    "train_df['AppVersion'].unique()\n",
    "\n"
   ]
  },
  {
   "cell_type": "code",
   "execution_count": null,
   "metadata": {},
   "outputs": [],
   "source": []
  },
  {
   "cell_type": "code",
   "execution_count": null,
   "metadata": {},
   "outputs": [],
   "source": [
    "import matplotlib.pyplot as plt\n",
    "train_df[numeric_cols].hist(figsize=(48,48), bins=50)\n",
    "plt.show()"
   ]
  },
  {
   "cell_type": "code",
   "execution_count": 12,
   "metadata": {},
   "outputs": [
    {
     "data": {
      "text/html": [
       "<div>\n",
       "<style scoped>\n",
       "    .dataframe tbody tr th:only-of-type {\n",
       "        vertical-align: middle;\n",
       "    }\n",
       "\n",
       "    .dataframe tbody tr th {\n",
       "        vertical-align: top;\n",
       "    }\n",
       "\n",
       "    .dataframe thead th {\n",
       "        text-align: right;\n",
       "    }\n",
       "</style>\n",
       "<table border=\"1\" class=\"dataframe\">\n",
       "  <thead>\n",
       "    <tr style=\"text-align: right;\">\n",
       "      <th></th>\n",
       "      <th>MachineIdentifier</th>\n",
       "      <th>ProductName</th>\n",
       "      <th>Platform</th>\n",
       "      <th>Processor</th>\n",
       "      <th>OsVer</th>\n",
       "      <th>OsPlatformSubRelease</th>\n",
       "      <th>SkuEdition</th>\n",
       "      <th>PuaMode</th>\n",
       "      <th>SmartScreen</th>\n",
       "      <th>Census_MDC2FormFactor</th>\n",
       "      <th>...</th>\n",
       "      <th>Census_InternalBatteryType</th>\n",
       "      <th>Census_OSArchitecture</th>\n",
       "      <th>Census_OSBranch</th>\n",
       "      <th>Census_OSEdition</th>\n",
       "      <th>Census_OSSkuName</th>\n",
       "      <th>Census_OSInstallTypeName</th>\n",
       "      <th>Census_OSWUAutoUpdateOptionsName</th>\n",
       "      <th>Census_GenuineStateName</th>\n",
       "      <th>Census_ActivationChannel</th>\n",
       "      <th>Census_FlightRing</th>\n",
       "    </tr>\n",
       "  </thead>\n",
       "  <tbody>\n",
       "    <tr>\n",
       "      <th>0</th>\n",
       "      <td>34678</td>\n",
       "      <td>1</td>\n",
       "      <td>0</td>\n",
       "      <td>2</td>\n",
       "      <td>0</td>\n",
       "      <td>4</td>\n",
       "      <td>4</td>\n",
       "      <td>1</td>\n",
       "      <td>1</td>\n",
       "      <td>7</td>\n",
       "      <td>...</td>\n",
       "      <td>18</td>\n",
       "      <td>2</td>\n",
       "      <td>5</td>\n",
       "      <td>4</td>\n",
       "      <td>4</td>\n",
       "      <td>6</td>\n",
       "      <td>2</td>\n",
       "      <td>1</td>\n",
       "      <td>2</td>\n",
       "      <td>3</td>\n",
       "    </tr>\n",
       "    <tr>\n",
       "      <th>1</th>\n",
       "      <td>22670</td>\n",
       "      <td>1</td>\n",
       "      <td>0</td>\n",
       "      <td>1</td>\n",
       "      <td>0</td>\n",
       "      <td>3</td>\n",
       "      <td>4</td>\n",
       "      <td>1</td>\n",
       "      <td>5</td>\n",
       "      <td>7</td>\n",
       "      <td>...</td>\n",
       "      <td>18</td>\n",
       "      <td>0</td>\n",
       "      <td>3</td>\n",
       "      <td>4</td>\n",
       "      <td>4</td>\n",
       "      <td>8</td>\n",
       "      <td>3</td>\n",
       "      <td>1</td>\n",
       "      <td>0</td>\n",
       "      <td>3</td>\n",
       "    </tr>\n",
       "    <tr>\n",
       "      <th>2</th>\n",
       "      <td>46569</td>\n",
       "      <td>1</td>\n",
       "      <td>0</td>\n",
       "      <td>1</td>\n",
       "      <td>0</td>\n",
       "      <td>2</td>\n",
       "      <td>4</td>\n",
       "      <td>1</td>\n",
       "      <td>9</td>\n",
       "      <td>7</td>\n",
       "      <td>...</td>\n",
       "      <td>18</td>\n",
       "      <td>0</td>\n",
       "      <td>1</td>\n",
       "      <td>1</td>\n",
       "      <td>1</td>\n",
       "      <td>3</td>\n",
       "      <td>3</td>\n",
       "      <td>1</td>\n",
       "      <td>0</td>\n",
       "      <td>3</td>\n",
       "    </tr>\n",
       "    <tr>\n",
       "      <th>3</th>\n",
       "      <td>4316</td>\n",
       "      <td>1</td>\n",
       "      <td>0</td>\n",
       "      <td>1</td>\n",
       "      <td>0</td>\n",
       "      <td>4</td>\n",
       "      <td>6</td>\n",
       "      <td>1</td>\n",
       "      <td>9</td>\n",
       "      <td>7</td>\n",
       "      <td>...</td>\n",
       "      <td>18</td>\n",
       "      <td>0</td>\n",
       "      <td>5</td>\n",
       "      <td>11</td>\n",
       "      <td>12</td>\n",
       "      <td>2</td>\n",
       "      <td>5</td>\n",
       "      <td>2</td>\n",
       "      <td>2</td>\n",
       "      <td>3</td>\n",
       "    </tr>\n",
       "    <tr>\n",
       "      <th>4</th>\n",
       "      <td>9818</td>\n",
       "      <td>1</td>\n",
       "      <td>0</td>\n",
       "      <td>1</td>\n",
       "      <td>0</td>\n",
       "      <td>4</td>\n",
       "      <td>4</td>\n",
       "      <td>1</td>\n",
       "      <td>9</td>\n",
       "      <td>7</td>\n",
       "      <td>...</td>\n",
       "      <td>18</td>\n",
       "      <td>0</td>\n",
       "      <td>5</td>\n",
       "      <td>1</td>\n",
       "      <td>1</td>\n",
       "      <td>5</td>\n",
       "      <td>2</td>\n",
       "      <td>1</td>\n",
       "      <td>1</td>\n",
       "      <td>3</td>\n",
       "    </tr>\n",
       "  </tbody>\n",
       "</table>\n",
       "<p>5 rows × 25 columns</p>\n",
       "</div>"
      ],
      "text/plain": [
       "   MachineIdentifier  ProductName  Platform  Processor  OsVer  \\\n",
       "0              34678            1         0          2      0   \n",
       "1              22670            1         0          1      0   \n",
       "2              46569            1         0          1      0   \n",
       "3               4316            1         0          1      0   \n",
       "4               9818            1         0          1      0   \n",
       "\n",
       "   OsPlatformSubRelease  SkuEdition  PuaMode  SmartScreen  \\\n",
       "0                     4           4        1            1   \n",
       "1                     3           4        1            5   \n",
       "2                     2           4        1            9   \n",
       "3                     4           6        1            9   \n",
       "4                     4           4        1            9   \n",
       "\n",
       "   Census_MDC2FormFactor        ...          Census_InternalBatteryType  \\\n",
       "0                      7        ...                                  18   \n",
       "1                      7        ...                                  18   \n",
       "2                      7        ...                                  18   \n",
       "3                      7        ...                                  18   \n",
       "4                      7        ...                                  18   \n",
       "\n",
       "   Census_OSArchitecture  Census_OSBranch  Census_OSEdition  Census_OSSkuName  \\\n",
       "0                      2                5                 4                 4   \n",
       "1                      0                3                 4                 4   \n",
       "2                      0                1                 1                 1   \n",
       "3                      0                5                11                12   \n",
       "4                      0                5                 1                 1   \n",
       "\n",
       "   Census_OSInstallTypeName  Census_OSWUAutoUpdateOptionsName  \\\n",
       "0                         6                                 2   \n",
       "1                         8                                 3   \n",
       "2                         3                                 3   \n",
       "3                         2                                 5   \n",
       "4                         5                                 2   \n",
       "\n",
       "   Census_GenuineStateName  Census_ActivationChannel  Census_FlightRing  \n",
       "0                        1                         2                  3  \n",
       "1                        1                         0                  3  \n",
       "2                        1                         0                  3  \n",
       "3                        2                         2                  3  \n",
       "4                        1                         1                  3  \n",
       "\n",
       "[5 rows x 25 columns]"
      ]
     },
     "execution_count": 12,
     "metadata": {},
     "output_type": "execute_result"
    }
   ],
   "source": [
    "# Encode nominal variables as labels\n",
    "le = preprocessing.LabelEncoder()\n",
    "train_df = train_df[nominal_cols].apply(le.fit_transform)\n",
    "train_df[nominal_cols].head()"
   ]
  },
  {
   "cell_type": "code",
   "execution_count": 28,
   "metadata": {},
   "outputs": [],
   "source": [
    "# split out labels and ids\n",
    "#train_labels = train_df[\"HasDetections\"].values\n",
    "#train_ids = train_df[\"MachineIdentifier\"].values\n",
    "#train_df = train_df.drop(columns=[\"HasDetections\", \"MachineIdentifier\"])\n"
   ]
  },
  {
   "cell_type": "code",
   "execution_count": 29,
   "metadata": {},
   "outputs": [],
   "source": [
    "# Perform whatever conversions are necessary to get everything into proper format: ndarray\n",
    "\n",
    "le = preprocessing.LabelEncoder()\n",
    "df = train_df[train_df.select_dtypes(object).columns].apply(le.fit_transform)\n",
    "for c in train_df[train_df.select_dtypes(int).columns]:\n",
    "    df[c] = train_df[c]\n",
    "for c in train_df[train_df.select_dtypes(bool).columns]:\n",
    "    df[c] = train_df[c]\n",
    "\n",
    "# To do: Perform standardization for input parameters\n"
   ]
  },
  {
   "cell_type": "code",
   "execution_count": null,
   "metadata": {},
   "outputs": [],
   "source": [
    "#\n",
    "# encode the values of RtpStateBitfield (NaN, 0, 1, 3, 5, 7, 8, 35) as indicators\n",
    "#\n",
    "\n",
    "#df[\"Rtp_0\"] = df[\"RtpStateBitfield\"].map(lambda x: 0 if np.isnan(x) else 1 if int(x)&1 else 0).astype(np.uint8)\n",
    "#df[\"Rtp_1\"] = df[\"RtpStateBitfield\"].map(lambda x: 0 if np.isnan(x) else 1 if int(x)&2 else 0).astype(np.uint8)\n",
    "#df[\"Rtp_2\"] = df[\"RtpStateBitfield\"].map(lambda x: 0 if np.isnan(x) else 1 if int(x)&4 else 0).astype(np.uint8)\n",
    "#df[\"Rtp_3\"] = df[\"RtpStateBitfield\"].map(lambda x: 0 if np.isnan(x) else 1 if int(x)&8 else 0).astype(np.uint8)\n",
    "#df[\"Rtp_4\"] = df[\"RtpStateBitfield\"].map(lambda x: 0 if np.isnan(x) else 1 if int(x)&16 else 0).astype(np.uint8)\n",
    "#df[\"Rtp_5\"] = df[\"RtpStateBitfield\"].map(lambda x: 0 if np.isnan(x) else 1 if int(x)&32 else 0).astype(np.uint8)\n",
    "#df = df.drop(columns=[\"RtpStateBitfield\"])\n",
    "#print(\"done encoding RtpStateBitfield\")"
   ]
  },
  {
   "cell_type": "code",
   "execution_count": null,
   "metadata": {},
   "outputs": [],
   "source": [
    "\n",
    "#x_train = df\n",
    "#y_train = train_labels\n"
   ]
  },
  {
   "cell_type": "code",
   "execution_count": 30,
   "metadata": {},
   "outputs": [
    {
     "name": "stdout",
     "output_type": "stream",
     "text": [
      "(8921483, 104)\n",
      "(8921483,)\n"
     ]
    }
   ],
   "source": [
    "# Testing Cell\n",
    "#print(x_train.shape)\n",
    "#print(y_train.shape)"
   ]
  },
  {
   "cell_type": "code",
   "execution_count": 31,
   "metadata": {},
   "outputs": [],
   "source": [
    "#\n",
    "# save\n",
    "#\n",
    "\n",
    "train_file = 'data/train_encoded.csv'\n",
    "#train_file = 'data/mini_train_encoded.csv'\n",
    "#x_train.to_csv(train_file)\n",
    "\n",
    "df.to_csv(train_file)\n"
   ]
  },
  {
   "cell_type": "code",
   "execution_count": null,
   "metadata": {},
   "outputs": [],
   "source": []
  }
 ],
 "metadata": {
  "kernelspec": {
   "display_name": "Python 3",
   "language": "python",
   "name": "python3"
  },
  "language_info": {
   "codemirror_mode": {
    "name": "ipython",
    "version": 3
   },
   "file_extension": ".py",
   "mimetype": "text/x-python",
   "name": "python",
   "nbconvert_exporter": "python",
   "pygments_lexer": "ipython3",
   "version": "3.7.4"
  }
 },
 "nbformat": 4,
 "nbformat_minor": 2
}
