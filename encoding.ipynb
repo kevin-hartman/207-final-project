{
 "cells": [
  {
   "cell_type": "code",
   "execution_count": 8,
   "metadata": {},
   "outputs": [],
   "source": [
    "# Environment setup and module import\n",
    "from __future__ import print_function\n",
    "import pandas as pd\n",
    "import numpy as np\n",
    "from sklearn import preprocessing\n",
    "from sklearn.preprocessing import OneHotEncoder\n"
   ]
  },
  {
   "cell_type": "code",
   "execution_count": 9,
   "metadata": {},
   "outputs": [],
   "source": [
    "# Import DF from CSV\n",
    "\n",
    "#train_file = 'data/train_clean.csv'\n",
    "train_file = 'data/mini_train.csv'\n",
    "train_df = pd.read_csv(train_file)\n"
   ]
  },
  {
   "cell_type": "code",
   "execution_count": 10,
   "metadata": {},
   "outputs": [],
   "source": [
    "# split out labels and ids\n",
    "train_labels = train_df[\"HasDetections\"].values\n",
    "train_ids = train_df[\"MachineIdentifier\"].values\n",
    "train_df = train_df.drop(columns=[\"HasDetections\", \"MachineIdentifier\"])\n"
   ]
  },
  {
   "cell_type": "code",
   "execution_count": 11,
   "metadata": {},
   "outputs": [],
   "source": [
    "# Perform whatever conversions are necessary to get everything into proper format: ndarray\n",
    "\n",
    "le = preprocessing.LabelEncoder()\n",
    "train2 = train_df[train_df.select_dtypes(object).columns].apply(le.fit_transform)\n",
    "for c in train_df[train_df.select_dtypes(int).columns]:\n",
    "    train2[c] = train_df[c]\n",
    "for c in train_df[train_df.select_dtypes(bool).columns]:\n",
    "    train2[c] = train_df[c]\n",
    "\n",
    "# To do: Perform standardization for input parameters\n",
    "\n",
    "x_train = train2\n",
    "y_train = train_labels\n"
   ]
  },
  {
   "cell_type": "code",
   "execution_count": 12,
   "metadata": {},
   "outputs": [
    {
     "name": "stdout",
     "output_type": "stream",
     "text": [
      "(8921483, 104)\n",
      "(8921483,)\n"
     ]
    }
   ],
   "source": [
    "# Testing Cell\n",
    "print(x_train.shape)\n",
    "print(y_train.shape)"
   ]
  },
  {
   "cell_type": "code",
   "execution_count": 13,
   "metadata": {},
   "outputs": [],
   "source": [
    "#\n",
    "# save\n",
    "#\n",
    "\n",
    "#train_file = 'data/train_encoded.csv'\n",
    "train_file = 'data/mini_train_encoded.csv'\n",
    "train_df.to_csv(train_file)\n"
   ]
  },
  {
   "cell_type": "code",
   "execution_count": null,
   "metadata": {},
   "outputs": [],
   "source": []
  }
 ],
 "metadata": {
  "kernelspec": {
   "display_name": "Python 3",
   "language": "python",
   "name": "python3"
  },
  "language_info": {
   "codemirror_mode": {
    "name": "ipython",
    "version": 3
   },
   "file_extension": ".py",
   "mimetype": "text/x-python",
   "name": "python",
   "nbconvert_exporter": "python",
   "pygments_lexer": "ipython3",
   "version": "3.7.4"
  }
 },
 "nbformat": 4,
 "nbformat_minor": 2
}
